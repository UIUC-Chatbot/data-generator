{
 "cells": [
  {
   "cell_type": "code",
   "execution_count": 1,
   "metadata": {},
   "outputs": [],
   "source": [
    "import pinecone\n",
    "import numpy as np\n",
    "from nomic import atlas\n",
    "import nomic\n",
    "from langchain.embeddings import HuggingFaceEmbeddings\n",
    "from langchain.vectorstores import Pinecone\n",
    "import openai\n",
    "import json\n",
    "from nomic import project\n",
    "from PyPDF2 import PdfReader\n",
    "import pandas as pd\n",
    "\n",
    "# for vector search\n",
    "from langchain.embeddings import HuggingFaceEmbeddings\n",
    "from langchain.vectorstores import Pinecone\n",
    "from transformers import GPT2Tokenizer\n",
    "from collections import Counter\n",
    "import json\n",
    "import os"
   ]
  },
  {
   "cell_type": "code",
   "execution_count": 2,
   "metadata": {},
   "outputs": [
    {
     "data": {
      "text/plain": [
       "True"
      ]
     },
     "execution_count": 2,
     "metadata": {},
     "output_type": "execute_result"
    }
   ],
   "source": [
    "from dotenv import load_dotenv\n",
    "\n",
    "# load API keys from globally-availabe .env file\n",
    "load_dotenv(dotenv_path=\"/mnt/project/chatbotai/huggingface_cache/internal_api_keys.env\", override=True)"
   ]
  },
  {
   "cell_type": "code",
   "execution_count": 24,
   "metadata": {},
   "outputs": [],
   "source": [
    "pinecone.init(api_key=os.environ['PINECONE_API_KEY_NEW_ACCT'], environment=\"us-east4-gcp\")\n",
    "\n",
    "index_name=\"uiuc-chatbot-deduped\" "
   ]
  },
  {
   "cell_type": "code",
   "execution_count": 4,
   "metadata": {},
   "outputs": [],
   "source": [
    "index = pinecone.Index(index_name)"
   ]
  },
  {
   "cell_type": "code",
   "execution_count": 5,
   "metadata": {},
   "outputs": [],
   "source": [
    "#tokenizer = GPT2Tokenizer.from_pretrained(\"gpt2\")"
   ]
  },
  {
   "cell_type": "code",
   "execution_count": 5,
   "metadata": {},
   "outputs": [],
   "source": [
    "nomic.login('') #add own\n"
   ]
  },
  {
   "cell_type": "code",
   "execution_count": 6,
   "metadata": {},
   "outputs": [],
   "source": [
    "#keywords\n",
    "def keyword_response_API(prompt, myKwargs = {}):\n",
    "\n",
    "  #default arguments to send the API, unless changed in function\n",
    "  kwargs = {\"model\" :\"gpt-3.5-turbo\",\n",
    "            \"temperature\" :0.6,\n",
    "            \"max_tokens\": 500,\n",
    "            \"frequency_penalty\":1,\n",
    "            \"presence_penalty\":0}\n",
    "\n",
    "\n",
    "  for kwarg in myKwargs:\n",
    "    kwargs[kwarg] = myKwargs[kwarg]\n",
    "  \n",
    "  r=openai.ChatCompletion.create(\n",
    "      model=\"gpt-3.5-turbo\",\n",
    "      messages=[\n",
    "            {\"role\": \"system\", \"content\": \"You are classifying this text into a fixed set of keywords that most closely match with the text.\"},\n",
    "            {\"role\": \"user\", \"content\": prompt}\n",
    "            ])\n",
    "  return r['choices'][0]['message']['content']"
   ]
  },
  {
   "attachments": {},
   "cell_type": "markdown",
   "metadata": {},
   "source": [
    "Visualizing vectors"
   ]
  },
  {
   "cell_type": "code",
   "execution_count": 11,
   "metadata": {},
   "outputs": [],
   "source": [
    "# num_vecs = 893 #900 is the limit to use query fn\n",
    "# res= index.query(vector=[0.0]*1024, top_k=num_vecs, include_values=True, include_metadata=True)"
   ]
  },
  {
   "cell_type": "code",
   "execution_count": 12,
   "metadata": {},
   "outputs": [],
   "source": [
    "# data = []\n",
    "# for i in range(num_vecs):\n",
    "#     data.append(res['matches'][i]['metadata']['text'])"
   ]
  },
  {
   "cell_type": "code",
   "execution_count": 21,
   "metadata": {},
   "outputs": [
    {
     "name": "stderr",
     "output_type": "stream",
     "text": [
      "No sentence-transformers model found with name /home/nehasheth/.cache/torch/sentence_transformers/intfloat_e5-large. Creating a new one with MEAN pooling.\n"
     ]
    }
   ],
   "source": [
    "model_name = \"intfloat/e5-large\"  # best text embedding model. 1024 dims.\n",
    "embeddings = HuggingFaceEmbeddings(model_name=model_name)\n",
    "vectorstore = Pinecone(index=index, embedding_function=embeddings.embed_query, text_key=\"text\")"
   ]
  },
  {
   "cell_type": "code",
   "execution_count": 7,
   "metadata": {},
   "outputs": [],
   "source": [
    "question = \"What is a finite state machine in electrical engineering?\"\n",
    "relevant_context_list = vectorstore.similarity_search(question, k=2300)"
   ]
  },
  {
   "cell_type": "code",
   "execution_count": 8,
   "metadata": {},
   "outputs": [
    {
     "data": {
      "text/plain": [
       "893"
      ]
     },
     "execution_count": 8,
     "metadata": {},
     "output_type": "execute_result"
    }
   ],
   "source": [
    "len(relevant_context_list)"
   ]
  },
  {
   "cell_type": "code",
   "execution_count": 9,
   "metadata": {},
   "outputs": [],
   "source": [
    "top_context_metadata = [f\"Source: page {doc.metadata['page_number']} in {doc.metadata['textbook_name']}\" for doc in relevant_context_list]\n",
    "context_list = [f\"{text.page_content}. {meta}\" for text, meta in zip(relevant_context_list, top_context_metadata)]"
   ]
  },
  {
   "cell_type": "code",
   "execution_count": 10,
   "metadata": {},
   "outputs": [
    {
     "data": {
      "text/plain": [
       "893"
      ]
     },
     "execution_count": 10,
     "metadata": {},
     "output_type": "execute_result"
    }
   ],
   "source": [
    "len(context_list)"
   ]
  },
  {
   "cell_type": "code",
   "execution_count": 11,
   "metadata": {},
   "outputs": [
    {
     "data": {
      "text/plain": [
       "893"
      ]
     },
     "execution_count": 11,
     "metadata": {},
     "output_type": "execute_result"
    }
   ],
   "source": [
    "len(relevant_context_list) #with metadata, in document type format"
   ]
  },
  {
   "attachments": {},
   "cell_type": "markdown",
   "metadata": {},
   "source": [
    "Deleting atlas projects"
   ]
  },
  {
   "cell_type": "code",
   "execution_count": null,
   "metadata": {},
   "outputs": [],
   "source": [
    "atl_proj=project.AtlasClass()\n",
    "atl_proj._get_existing_project_by_name('TA Chatbot Data', 'nehas9')"
   ]
  },
  {
   "cell_type": "code",
   "execution_count": 18,
   "metadata": {},
   "outputs": [],
   "source": [
    "atl_proj._delete_project_by_id('') #delete by project ID"
   ]
  },
  {
   "attachments": {},
   "cell_type": "markdown",
   "metadata": {},
   "source": [
    "Mapping text"
   ]
  },
  {
   "attachments": {},
   "cell_type": "markdown",
   "metadata": {},
   "source": [
    "Generating keywords for text. Classify based on content list. "
   ]
  },
  {
   "cell_type": "code",
   "execution_count": 23,
   "metadata": {},
   "outputs": [],
   "source": [
    "contents = [\n",
    "\"The Notion of Abstraction\", \"Hardware vs. Software\", \"A Computer System\", \"The Parts of a Computer System\", \"Computers as Universal Computational Devices\", \n",
    "\"The Algorithm\", \"The Program\", \"The ISA\", \"The Microarchitecture\", \"The Logic Circuit\", \n",
    "\"The Devices\", \"Bits, Data Types, and Operations\", \"The Bit as the Unit of Information\", \n",
    "\"Integer Data Types\", \"Unsigned Integers\", \"Signed Integers\", \"2's Complement Integers\", \"Conversion Between Binary and Decimal\", \n",
    "\"Binary to Decimal Conversion\", \"Decimal to Binary Conversion\", \"Extending Conversion to Numbers with Fractional Parts\", \n",
    "\"Operations on Bits—Part I: Arithmetic\", \"Addition and Subtraction\", \"Sign-Extension\", \"Overflow\", \n",
    "\"Operations on Bits—Part II: Logical Operations\", \"A Logical Variable\", \"The AND Function\", \"The OR Function\", \"The NOT Function\", \n",
    "\"The Exclusive-OR Function\", \"DeMorgan's Laws\", \"The Bit Vector\", \"Other Representations\", \n",
    "\"Floating Point Data Type (Greater Range, Less Precision)\", \"ASCII Codes\", \"Hexadecimal Notation\", \n",
    "\"Digital Logic Structures\", \"The Transistor\", \"Logic Gates\", \"The NOT Gate (Inverter)\", \"OR and NOR Gates\", \n",
    "\"Why We Can't Simply Connect P-Type to Ground\", \"AND and NAND Gates\", \"Gates with More Than Two Inputs\", \"Combinational Logic Circuits\", \n",
    "\"Decoder\", \"Mux\", \"A One-Bit Adder (a.k.a. a Full Adder)\", \"The Programmable Logic Array (PLA)\", \"Logical Completeness\", \n",
    "\"Basic Storage Elements\", \"The R-S Latch\", \"The Gated D Latch\", \"The Concept of Memory\", \"Address Space\", \"Addressability\",\n",
    "\"A 22-by-3-Bit Memory\", \"Sequential Logic Circuits\", \"A Simple Example: The Combination Lock\", \"The Concept of State\", \n",
    "\"The Finite State Machine and Its State Diagram\", \"The Synchronous Finite State Machine\", \"The Clock\", \"Preview of Coming Attractions: The Data Path of the LC-3\", \n",
    "\"The von Neumann Model\", \"Basic Components\", \"Memory\", \"Processing Unit\", \"Input and Output\", \"Control Unit\", \"The LC-3: An Example von Neumann Machine\", \n",
    "\"Instruction Processing\", \"The Instruction\", \"The Instruction Cycle (NOT the Clock Cycle!)\", \"Changing the Sequence of Execution\", \n",
    "\"Control of the Instruction Cycle\", \n",
    "\"Halting the Computer (the TRAP Instruction)\", \n",
    "\"Our First Program: A Multiplication Algorithm\", \n",
    "\"Exercises\", \n",
    "\"The LC-3\", \n",
    "\"The ISA: Overview\", \n",
    "\"Memory Organization\", \n",
    "\"Registers\", \n",
    "\"The Instruction Set\", \n",
    "\"Opcodes\", \n",
    "\"Data Types\", \n",
    "\"Addressing Modes\", \n",
    "\"Condition Codes\", \n",
    "\"Operate Instructions\", \n",
    "\"ADD, AND, and NOT\", \n",
    "\"Immediates\", \n",
    "\"The LEA Instruction (Although Not Really an Operate)\", \n",
    "\"Data Movement Instructions\", \n",
    "\"PC-Relative Mode\", \n",
    "\"Indirect Mode\", \n",
    "\"Base+offset Mode\", \n",
    "\"An Example\", \n",
    "\"Control Instructions\", \n",
    "\"Conditional Branches\", \n",
    "\"Two Methods of Loop Control\", \n",
    "\"The JMP Instruction\", \n",
    "\"The TRAP Instruction\", \n",
    "\"Another Example: Counting Occurrences of a Character\", \n",
    "\"The Data Path Revisited\", \n",
    "\"Basic Components of the Data Path\", \n",
    "\"The Instruction Cycle Specific to the LC-3\", \n",
    "\"Exercises\", \n",
    "\"Problem Solving\", \n",
    "\"Systematic Decomposition\", \n",
    "\"The Three Constructs: Sequential, Conditional, Iterative\", \n",
    "\"LC-3 Control Instructions to Implement the Three Constructs\", \n",
    "\"The Character Count Example from Chapter 5, Revisited\", \n",
    "\"Debugging\", \n",
    "\"Debugging Operations\", \n",
    "\"Use of an Interactive Debugger\", \n",
    "\"Exercises\", \n",
    "\"Assembly Language Programming—Moving Up a Level\", \n",
    "\"An Assembly Language Program\", \n",
    "\"Instructions\", \n",
    "\"Pseudo-Ops (AssemblerDirectives)\", \n",
    "\"Example: The Character Count Example of Section 5.5, Revisited Again!\", \n",
    "\"The Assembly Process\", \n",
    "\"Introduction\", \n",
    "\"A Two-Pass Process\", \n",
    "\"The First Pass: Creating the Symbol Table\", \n",
    "\"The Second Pass: Generating the Machine Language Program\",\n",
    "\"Beyond the Assembly of a Single\",\n",
    "\"The Executable Image\", \"More than One Object File\", \"A The LC-3 ISA\",\"A.2 The Instruction Set\", \"A.3 Interrupt and Exception Processing\", \n",
    "\"Interrupts\", \"Exceptions\", \"From LC-3 to x86\", \"LC-3 Features and Corresponding x86 Features\", \"Instruction Set\", \n",
    "\"Memory\", \"Internal State\", \"The Format and Specification of x86 Instructions 690\", \"Prefix 691\", \n",
    "\"Opcode\", \"ModR/M Byte\", \"SIB Byte\",\n",
    "\"Displacement\", \"Immediate\", \"An Example\", \n",
    "\"The Microarchitecture of the LC-3\", \"Overview of LC-3\", \"The State Machine\", \n",
    "\"The Data Path\", \"The Control Structure\", \"The TRAP Instruction\", \n",
    "\"Memory-Mapped I/O\", \"Interrupt and Exception Control\", \"Initiating an Interrupt\", \n",
    "\"Returning from an Interrupt or Trap Service Routine, RTI\", \"Initiating an Exception\", \n",
    "\" Control Store\", \"The C Programming Language\", \"Overview\", \"C Conventions\", \n",
    "\"Source Files\", \"Header Files\", \"Comments\", \"Literals\", \"Formatting\", \n",
    "\"Keywords\", \"Types\", \"Basic Data Types\", \"Type Qualifiers\", \"Storage Class\", \n",
    "\"Derived Types\", \"typedef\", \"Declarations\", \"Variable Declarations\", \n",
    "\"Function Declarations\", \"Operators\", \"Assignment Operators\", \"Arithmetic Operators\", \n",
    "\"Bit-Wise Operators\", \"Logical Operators\", \"Relational Operators\", \n",
    "\"Increment/Decrement Operators\", \"Conditional Expression Operators\", \n",
    "\"Pointer, Array, and Structure Operators\", \"sizeof\", \"Order of Evaluation\"]\n"
   ]
  },
  {
   "cell_type": "code",
   "execution_count": 24,
   "metadata": {},
   "outputs": [
    {
     "data": {
      "text/plain": [
       "189"
      ]
     },
     "execution_count": 24,
     "metadata": {},
     "output_type": "execute_result"
    }
   ],
   "source": [
    "len(contents)"
   ]
  },
  {
   "cell_type": "code",
   "execution_count": 12,
   "metadata": {},
   "outputs": [
    {
     "data": {
      "text/plain": [
       "900"
      ]
     },
     "execution_count": 12,
     "metadata": {},
     "output_type": "execute_result"
    }
   ],
   "source": [
    "len(data)"
   ]
  },
  {
   "cell_type": "code",
   "execution_count": 25,
   "metadata": {},
   "outputs": [
    {
     "data": {
      "text/plain": [
       "2301"
      ]
     },
     "execution_count": 25,
     "metadata": {},
     "output_type": "execute_result"
    }
   ],
   "source": [
    "len(relevant_context_list)"
   ]
  },
  {
   "cell_type": "code",
   "execution_count": null,
   "metadata": {},
   "outputs": [],
   "source": [
    "#checking number of times we are exceeding the token limit\n",
    "counter = 0\n",
    "for i, chap in enumerate(relevant_context_list):\n",
    "    number_of_tokens = len(tokenizer(str(chap))['input_ids'])\n",
    "    print(number_of_tokens)\n",
    "    if number_of_tokens>4096:\n",
    "        print(\"to remove %s\" % i )"
   ]
  },
  {
   "cell_type": "code",
   "execution_count": null,
   "metadata": {},
   "outputs": [],
   "source": [
    "text_labelled = []\n",
    "for i, dat in enumerate(relevant_context_list):\n",
    "    print(i)\n",
    "    #print(dat)\n",
    "    text = {}\n",
    "    text['text'] = dat\n",
    "    prompt = \"Assign exactly one keyword from the below list of keywords to this text. Make sure it captures the content of the text perfectly. If no keyword matches, assign the most relevant next keyword. DO NOT classify any of them as None or N/A. Every text must have a keyword. Only output the keyword assigned without any other extra words. Keywords: %s Text : %s\" % (str(contents), dat) \n",
    "    keywords = keyword_response_API(prompt)\n",
    "    text['labels'] = keywords\n",
    "    text_labelled.append(text)\n",
    "    print(\"done\")"
   ]
  },
  {
   "cell_type": "code",
   "execution_count": 20,
   "metadata": {},
   "outputs": [
    {
     "data": {
      "text/plain": [
       "1663"
      ]
     },
     "execution_count": 20,
     "metadata": {},
     "output_type": "execute_result"
    }
   ],
   "source": [
    "len(text_labelled)"
   ]
  },
  {
   "cell_type": "code",
   "execution_count": null,
   "metadata": {},
   "outputs": [],
   "source": [
    "keywords = [keyword for keyword in keywords if not keyword.startswith('None of')]"
   ]
  },
  {
   "cell_type": "code",
   "execution_count": 22,
   "metadata": {},
   "outputs": [
    {
     "data": {
      "text/html": [
       "<div>\n",
       "<style scoped>\n",
       "    .dataframe tbody tr th:only-of-type {\n",
       "        vertical-align: middle;\n",
       "    }\n",
       "\n",
       "    .dataframe tbody tr th {\n",
       "        vertical-align: top;\n",
       "    }\n",
       "\n",
       "    .dataframe thead th {\n",
       "        text-align: right;\n",
       "    }\n",
       "</style>\n",
       "<table border=\"1\" class=\"dataframe\">\n",
       "  <thead>\n",
       "    <tr style=\"text-align: right;\">\n",
       "      <th></th>\n",
       "      <th>text</th>\n",
       "      <th>labels</th>\n",
       "    </tr>\n",
       "  </thead>\n",
       "  <tbody>\n",
       "    <tr>\n",
       "      <th>0</th>\n",
       "      <td>page_content=\"So what if I'm in the driver sta...</td>\n",
       "      <td>Finite State Machine</td>\n",
       "    </tr>\n",
       "    <tr>\n",
       "      <th>1</th>\n",
       "      <td>page_content='82  3.1.3 Finite State Machines ...</td>\n",
       "      <td>Finite State Machines</td>\n",
       "    </tr>\n",
       "    <tr>\n",
       "      <th>2</th>\n",
       "      <td>page_content=\"I push a button a couple of time...</td>\n",
       "      <td>Finite State Machine</td>\n",
       "    </tr>\n",
       "    <tr>\n",
       "      <th>3</th>\n",
       "      <td>page_content=\"So go build a 10 operand compara...</td>\n",
       "      <td>Combinational Logic Circuits</td>\n",
       "    </tr>\n",
       "    <tr>\n",
       "      <th>4</th>\n",
       "      <td>page_content=\"So what if I'm in the driver sta...</td>\n",
       "      <td>Finite State Machine</td>\n",
       "    </tr>\n",
       "  </tbody>\n",
       "</table>\n",
       "</div>"
      ],
      "text/plain": [
       "                                                text  \\\n",
       "0  page_content=\"So what if I'm in the driver sta...   \n",
       "1  page_content='82  3.1.3 Finite State Machines ...   \n",
       "2  page_content=\"I push a button a couple of time...   \n",
       "3  page_content=\"So go build a 10 operand compara...   \n",
       "4  page_content=\"So what if I'm in the driver sta...   \n",
       "\n",
       "                         labels  \n",
       "0          Finite State Machine  \n",
       "1         Finite State Machines  \n",
       "2          Finite State Machine  \n",
       "3  Combinational Logic Circuits  \n",
       "4          Finite State Machine  "
      ]
     },
     "execution_count": 22,
     "metadata": {},
     "output_type": "execute_result"
    }
   ],
   "source": [
    "df = pd.DataFrame(text_labelled)\n",
    "df.head() #this has alot of n/A so we cannot use this data to map!!"
   ]
  },
  {
   "cell_type": "code",
   "execution_count": 24,
   "metadata": {},
   "outputs": [],
   "source": [
    "c = df['labels'].value_counts()"
   ]
  },
  {
   "cell_type": "code",
   "execution_count": 26,
   "metadata": {},
   "outputs": [],
   "source": [
    "df['labels'] =  df['labels'].apply(lambda x: '' if x.startswith(('N/A', 'None')) else x)\n"
   ]
  },
  {
   "cell_type": "code",
   "execution_count": 27,
   "metadata": {},
   "outputs": [],
   "source": [
    "df = df.replace('', pd.NaT)"
   ]
  },
  {
   "cell_type": "code",
   "execution_count": 28,
   "metadata": {},
   "outputs": [
    {
     "data": {
      "text/plain": [
       "text        0\n",
       "labels    146\n",
       "dtype: int64"
      ]
     },
     "execution_count": 28,
     "metadata": {},
     "output_type": "execute_result"
    }
   ],
   "source": [
    "df.isnull().sum()"
   ]
  },
  {
   "cell_type": "code",
   "execution_count": 29,
   "metadata": {},
   "outputs": [],
   "source": [
    "df.dropna(inplace=True)"
   ]
  },
  {
   "cell_type": "code",
   "execution_count": 30,
   "metadata": {},
   "outputs": [
    {
     "data": {
      "text/plain": [
       "Hardware vs. Software                           164\n",
       "The Notion of Abstraction                       159\n",
       "Digital Logic Structures                        130\n",
       "Sequential Logic Circuits                        98\n",
       "Finite State Machine                             75\n",
       "                                               ... \n",
       "Serialization and Finite State Machines           1\n",
       "Opcodes                                           1\n",
       "The Assembly Process                              1\n",
       "The LC-3: Interrupt and Exception Processing      1\n",
       "Bayes rule                                        1\n",
       "Name: labels, Length: 180, dtype: int64"
      ]
     },
     "execution_count": 30,
     "metadata": {},
     "output_type": "execute_result"
    }
   ],
   "source": [
    "df.labels.value_counts()"
   ]
  },
  {
   "cell_type": "code",
   "execution_count": 71,
   "metadata": {},
   "outputs": [],
   "source": [
    "df.to_pickle(\"df.pkl\")"
   ]
  },
  {
   "attachments": {},
   "cell_type": "markdown",
   "metadata": {},
   "source": [
    "Visualize sample"
   ]
  },
  {
   "cell_type": "code",
   "execution_count": 26,
   "metadata": {},
   "outputs": [
    {
     "data": {
      "text/plain": [
       "(1517, 2)"
      ]
     },
     "execution_count": 26,
     "metadata": {},
     "output_type": "execute_result"
    }
   ],
   "source": [
    "df = pd.read_pickle(\"/home/nehasheth/chatbotai/neha/data-generator/input_data/data_exploration/df.pkl\")\n",
    "df.shape"
   ]
  },
  {
   "cell_type": "code",
   "execution_count": 27,
   "metadata": {},
   "outputs": [
    {
     "data": {
      "text/html": [
       "<div>\n",
       "<style scoped>\n",
       "    .dataframe tbody tr th:only-of-type {\n",
       "        vertical-align: middle;\n",
       "    }\n",
       "\n",
       "    .dataframe tbody tr th {\n",
       "        vertical-align: top;\n",
       "    }\n",
       "\n",
       "    .dataframe thead th {\n",
       "        text-align: right;\n",
       "    }\n",
       "</style>\n",
       "<table border=\"1\" class=\"dataframe\">\n",
       "  <thead>\n",
       "    <tr style=\"text-align: right;\">\n",
       "      <th></th>\n",
       "      <th>text</th>\n",
       "      <th>labels</th>\n",
       "    </tr>\n",
       "  </thead>\n",
       "  <tbody>\n",
       "    <tr>\n",
       "      <th>0</th>\n",
       "      <td>page_content=\"So what if I'm in the driver sta...</td>\n",
       "      <td>Finite State Machine</td>\n",
       "    </tr>\n",
       "    <tr>\n",
       "      <th>1</th>\n",
       "      <td>page_content='82  3.1.3 Finite State Machines ...</td>\n",
       "      <td>Finite State Machines</td>\n",
       "    </tr>\n",
       "    <tr>\n",
       "      <th>2</th>\n",
       "      <td>page_content=\"I push a button a couple of time...</td>\n",
       "      <td>Finite State Machine</td>\n",
       "    </tr>\n",
       "    <tr>\n",
       "      <th>3</th>\n",
       "      <td>page_content=\"So go build a 10 operand compara...</td>\n",
       "      <td>Combinational Logic Circuits</td>\n",
       "    </tr>\n",
       "    <tr>\n",
       "      <th>4</th>\n",
       "      <td>page_content=\"So what if I'm in the driver sta...</td>\n",
       "      <td>Finite State Machine</td>\n",
       "    </tr>\n",
       "    <tr>\n",
       "      <th>...</th>\n",
       "      <td>...</td>\n",
       "      <td>...</td>\n",
       "    </tr>\n",
       "    <tr>\n",
       "      <th>95</th>\n",
       "      <td>page_content='3.2 Finite State Machine Design ...</td>\n",
       "      <td>Finite State Machine Design Examples</td>\n",
       "    </tr>\n",
       "    <tr>\n",
       "      <th>96</th>\n",
       "      <td>page_content='First, the two external inputs: ...</td>\n",
       "      <td>Sequential Logic Circuits</td>\n",
       "    </tr>\n",
       "    <tr>\n",
       "      <th>97</th>\n",
       "      <td>page_content=\"The entire signal is shifted to ...</td>\n",
       "      <td>The Notion of Abstraction</td>\n",
       "    </tr>\n",
       "    <tr>\n",
       "      <th>98</th>\n",
       "      <td>page_content=\"As you'll see, it'll be one to f...</td>\n",
       "      <td>The von Neumann Model</td>\n",
       "    </tr>\n",
       "    <tr>\n",
       "      <th>99</th>\n",
       "      <td>page_content=\"Good. What about ALU? ALU is not...</td>\n",
       "      <td>The Microarchitecture</td>\n",
       "    </tr>\n",
       "  </tbody>\n",
       "</table>\n",
       "<p>100 rows × 2 columns</p>\n",
       "</div>"
      ],
      "text/plain": [
       "                                                 text  \\\n",
       "0   page_content=\"So what if I'm in the driver sta...   \n",
       "1   page_content='82  3.1.3 Finite State Machines ...   \n",
       "2   page_content=\"I push a button a couple of time...   \n",
       "3   page_content=\"So go build a 10 operand compara...   \n",
       "4   page_content=\"So what if I'm in the driver sta...   \n",
       "..                                                ...   \n",
       "95  page_content='3.2 Finite State Machine Design ...   \n",
       "96  page_content='First, the two external inputs: ...   \n",
       "97  page_content=\"The entire signal is shifted to ...   \n",
       "98  page_content=\"As you'll see, it'll be one to f...   \n",
       "99  page_content=\"Good. What about ALU? ALU is not...   \n",
       "\n",
       "                                  labels  \n",
       "0                   Finite State Machine  \n",
       "1                  Finite State Machines  \n",
       "2                   Finite State Machine  \n",
       "3           Combinational Logic Circuits  \n",
       "4                   Finite State Machine  \n",
       "..                                   ...  \n",
       "95  Finite State Machine Design Examples  \n",
       "96             Sequential Logic Circuits  \n",
       "97             The Notion of Abstraction  \n",
       "98                 The von Neumann Model  \n",
       "99                 The Microarchitecture  \n",
       "\n",
       "[100 rows x 2 columns]"
      ]
     },
     "execution_count": 27,
     "metadata": {},
     "output_type": "execute_result"
    }
   ],
   "source": [
    "df.head(100)"
   ]
  },
  {
   "cell_type": "code",
   "execution_count": 34,
   "metadata": {},
   "outputs": [],
   "source": [
    "duplicate = df[df.duplicated('text')]"
   ]
  },
  {
   "cell_type": "code",
   "execution_count": 31,
   "metadata": {},
   "outputs": [],
   "source": [
    "df.drop_duplicates(subset='text', keep='first', inplace=True)"
   ]
  },
  {
   "cell_type": "code",
   "execution_count": 32,
   "metadata": {},
   "outputs": [
    {
     "data": {
      "text/plain": [
       "137"
      ]
     },
     "execution_count": 32,
     "metadata": {},
     "output_type": "execute_result"
    }
   ],
   "source": [
    "df.labels.nunique()"
   ]
  },
  {
   "cell_type": "code",
   "execution_count": 33,
   "metadata": {},
   "outputs": [
    {
     "data": {
      "text/plain": [
       "(491, 2)"
      ]
     },
     "execution_count": 33,
     "metadata": {},
     "output_type": "execute_result"
    }
   ],
   "source": [
    "df.shape"
   ]
  },
  {
   "cell_type": "code",
   "execution_count": 36,
   "metadata": {},
   "outputs": [
    {
     "data": {
      "text/html": [
       "<div>\n",
       "<style scoped>\n",
       "    .dataframe tbody tr th:only-of-type {\n",
       "        vertical-align: middle;\n",
       "    }\n",
       "\n",
       "    .dataframe tbody tr th {\n",
       "        vertical-align: top;\n",
       "    }\n",
       "\n",
       "    .dataframe thead th {\n",
       "        text-align: right;\n",
       "    }\n",
       "</style>\n",
       "<table border=\"1\" class=\"dataframe\">\n",
       "  <thead>\n",
       "    <tr style=\"text-align: right;\">\n",
       "      <th></th>\n",
       "      <th>text</th>\n",
       "      <th>labels</th>\n",
       "    </tr>\n",
       "  </thead>\n",
       "  <tbody>\n",
       "    <tr>\n",
       "      <th>0</th>\n",
       "      <td>page_content=\"So what if I'm in the driver sta...</td>\n",
       "      <td>Finite State Machine</td>\n",
       "    </tr>\n",
       "    <tr>\n",
       "      <th>1</th>\n",
       "      <td>page_content='82  3.1.3 Finite State Machines ...</td>\n",
       "      <td>Finite State Machines</td>\n",
       "    </tr>\n",
       "    <tr>\n",
       "      <th>2</th>\n",
       "      <td>page_content=\"I push a button a couple of time...</td>\n",
       "      <td>Finite State Machine</td>\n",
       "    </tr>\n",
       "    <tr>\n",
       "      <th>3</th>\n",
       "      <td>page_content=\"So go build a 10 operand compara...</td>\n",
       "      <td>Combinational Logic Circuits</td>\n",
       "    </tr>\n",
       "    <tr>\n",
       "      <th>5</th>\n",
       "      <td>page_content=\"I'll just flip through it, and t...</td>\n",
       "      <td>Finite State Machine</td>\n",
       "    </tr>\n",
       "    <tr>\n",
       "      <th>8</th>\n",
       "      <td>page_content='3.1 Serialization and Finite Sta...</td>\n",
       "      <td>Finite State Machines</td>\n",
       "    </tr>\n",
       "    <tr>\n",
       "      <th>9</th>\n",
       "      <td>page_content=\"Every state that has a single ar...</td>\n",
       "      <td>The von Neumann Model</td>\n",
       "    </tr>\n",
       "    <tr>\n",
       "      <th>10</th>\n",
       "      <td>page_content=\"But you'll see, if you look unde...</td>\n",
       "      <td>Finite State Machines</td>\n",
       "    </tr>\n",
       "    <tr>\n",
       "      <th>11</th>\n",
       "      <td>page_content=\"Likewise, if I was in open angry...</td>\n",
       "      <td>State Machines</td>\n",
       "    </tr>\n",
       "    <tr>\n",
       "      <th>12</th>\n",
       "      <td>page_content=\"And I'll try to remind you later...</td>\n",
       "      <td>Digital Logic Structures</td>\n",
       "    </tr>\n",
       "    <tr>\n",
       "      <th>13</th>\n",
       "      <td>page_content=\"I needed other letters for other...</td>\n",
       "      <td>The Notion of Abstraction</td>\n",
       "    </tr>\n",
       "    <tr>\n",
       "      <th>15</th>\n",
       "      <td>page_content=\"In practice, your gate sizes are...</td>\n",
       "      <td>Digital Logic Structures</td>\n",
       "    </tr>\n",
       "    <tr>\n",
       "      <th>17</th>\n",
       "      <td>page_content=\"So basically there's a distribut...</td>\n",
       "      <td>Sequential Logic Circuits</td>\n",
       "    </tr>\n",
       "    <tr>\n",
       "      <th>18</th>\n",
       "      <td>page_content=\"I can draw a box around this and...</td>\n",
       "      <td>The Notion of Abstraction</td>\n",
       "    </tr>\n",
       "    <tr>\n",
       "      <th>21</th>\n",
       "      <td>page_content='3.3 Design of the Finite State M...</td>\n",
       "      <td>Sequential Logic Circuits</td>\n",
       "    </tr>\n",
       "    <tr>\n",
       "      <th>22</th>\n",
       "      <td>page_content=\"That's what makes them synchrono...</td>\n",
       "      <td>Sequential Logic Circuits</td>\n",
       "    </tr>\n",
       "    <tr>\n",
       "      <th>23</th>\n",
       "      <td>page_content=\"Yeah, Mohamed? On the p-types, y...</td>\n",
       "      <td>Gates with More Than Two Inputs</td>\n",
       "    </tr>\n",
       "    <tr>\n",
       "      <th>24</th>\n",
       "      <td>page_content='3.2 Finite State Machine Design ...</td>\n",
       "      <td>Finite State Machines</td>\n",
       "    </tr>\n",
       "    <tr>\n",
       "      <th>25</th>\n",
       "      <td>page_content='Figure.Sequential logic circuit ...</td>\n",
       "      <td>Sequential Logic Circuits</td>\n",
       "    </tr>\n",
       "    <tr>\n",
       "      <th>28</th>\n",
       "      <td>page_content='3.5 Finite State Machine Design ...</td>\n",
       "      <td>Finite State Machine Design Examples</td>\n",
       "    </tr>\n",
       "  </tbody>\n",
       "</table>\n",
       "</div>"
      ],
      "text/plain": [
       "                                                 text  \\\n",
       "0   page_content=\"So what if I'm in the driver sta...   \n",
       "1   page_content='82  3.1.3 Finite State Machines ...   \n",
       "2   page_content=\"I push a button a couple of time...   \n",
       "3   page_content=\"So go build a 10 operand compara...   \n",
       "5   page_content=\"I'll just flip through it, and t...   \n",
       "8   page_content='3.1 Serialization and Finite Sta...   \n",
       "9   page_content=\"Every state that has a single ar...   \n",
       "10  page_content=\"But you'll see, if you look unde...   \n",
       "11  page_content=\"Likewise, if I was in open angry...   \n",
       "12  page_content=\"And I'll try to remind you later...   \n",
       "13  page_content=\"I needed other letters for other...   \n",
       "15  page_content=\"In practice, your gate sizes are...   \n",
       "17  page_content=\"So basically there's a distribut...   \n",
       "18  page_content=\"I can draw a box around this and...   \n",
       "21  page_content='3.3 Design of the Finite State M...   \n",
       "22  page_content=\"That's what makes them synchrono...   \n",
       "23  page_content=\"Yeah, Mohamed? On the p-types, y...   \n",
       "24  page_content='3.2 Finite State Machine Design ...   \n",
       "25  page_content='Figure.Sequential logic circuit ...   \n",
       "28  page_content='3.5 Finite State Machine Design ...   \n",
       "\n",
       "                                  labels  \n",
       "0                   Finite State Machine  \n",
       "1                  Finite State Machines  \n",
       "2                   Finite State Machine  \n",
       "3           Combinational Logic Circuits  \n",
       "5                   Finite State Machine  \n",
       "8                  Finite State Machines  \n",
       "9                  The von Neumann Model  \n",
       "10                 Finite State Machines  \n",
       "11                        State Machines  \n",
       "12              Digital Logic Structures  \n",
       "13             The Notion of Abstraction  \n",
       "15              Digital Logic Structures  \n",
       "17             Sequential Logic Circuits  \n",
       "18             The Notion of Abstraction  \n",
       "21             Sequential Logic Circuits  \n",
       "22             Sequential Logic Circuits  \n",
       "23       Gates with More Than Two Inputs  \n",
       "24                 Finite State Machines  \n",
       "25             Sequential Logic Circuits  \n",
       "28  Finite State Machine Design Examples  "
      ]
     },
     "execution_count": 36,
     "metadata": {},
     "output_type": "execute_result"
    }
   ],
   "source": [
    "df.head(20)"
   ]
  },
  {
   "cell_type": "code",
   "execution_count": 10,
   "metadata": {},
   "outputs": [],
   "source": [
    "df['text'] = df['text'].astype(str)\n",
    "df['labels'] = df['labels'].astype(str)"
   ]
  },
  {
   "cell_type": "code",
   "execution_count": 11,
   "metadata": {},
   "outputs": [
    {
     "data": {
      "text/plain": [
       "text      object\n",
       "labels    object\n",
       "dtype: object"
      ]
     },
     "execution_count": 11,
     "metadata": {},
     "output_type": "execute_result"
    }
   ],
   "source": [
    "df.dtypes"
   ]
  },
  {
   "cell_type": "code",
   "execution_count": 12,
   "metadata": {},
   "outputs": [],
   "source": [
    "documents = df.to_dict('records')"
   ]
  },
  {
   "cell_type": "code",
   "execution_count": 14,
   "metadata": {},
   "outputs": [],
   "source": [
    "for i, t in enumerate(documents):\n",
    "    metadata_index = (documents[i]['text']).index('lookup_str')\n",
    "    documents[i]['text'] = documents[i]['text'][:metadata_index]\n",
    "    "
   ]
  },
  {
   "cell_type": "code",
   "execution_count": 15,
   "metadata": {},
   "outputs": [
    {
     "data": {
      "text/plain": [
       "1517"
      ]
     },
     "execution_count": 15,
     "metadata": {},
     "output_type": "execute_result"
    }
   ],
   "source": [
    "len(documents)"
   ]
  },
  {
   "cell_type": "code",
   "execution_count": 19,
   "metadata": {},
   "outputs": [
    {
     "name": "stderr",
     "output_type": "stream",
     "text": [
      "2023-03-27 01:02:27.833 | INFO     | nomic.project:_create_project:942 - Creating project `TA Chatbot Data` in organization `nehas9`\n",
      "2023-03-27 01:02:28.998 | INFO     | nomic.atlas:map_text:210 - Uploading text to Atlas.\n",
      "2it [00:01,  1.20it/s]                       \n",
      "2023-03-27 01:02:30.672 | INFO     | nomic.atlas:map_text:227 - Text upload succeeded.\n",
      "2023-03-27 01:02:31.764 | INFO     | nomic.project:create_index:1252 - Created map `TA Chatbot Data` in project `TA Chatbot Data`: https://atlas.nomic.ai/map/d74a8110-37ac-41be-904e-0e6b39bfa1f4/cc7a0bca-97c7-4764-90e5-c5b06bd01d7f\n",
      "2023-03-27 01:02:31.765 | INFO     | nomic.atlas:map_text:241 - TA Chatbot Data: https://atlas.nomic.ai/map/d74a8110-37ac-41be-904e-0e6b39bfa1f4/cc7a0bca-97c7-4764-90e5-c5b06bd01d7f\n"
     ]
    }
   ],
   "source": [
    "project = atlas.map_text(data=documents,\n",
    "                          indexed_field='text',\n",
    "                          colorable_fields=['labels'],\n",
    "                          name = 'TA Chatbot Data',\n",
    "                          build_topic_model = True,\n",
    "                          is_public=True\n",
    "                          )"
   ]
  },
  {
   "cell_type": "code",
   "execution_count": null,
   "metadata": {},
   "outputs": [],
   "source": []
  }
 ],
 "metadata": {
  "kernelspec": {
   "display_name": "base",
   "language": "python",
   "name": "python3"
  },
  "language_info": {
   "codemirror_mode": {
    "name": "ipython",
    "version": 3
   },
   "file_extension": ".py",
   "mimetype": "text/x-python",
   "name": "python",
   "nbconvert_exporter": "python",
   "pygments_lexer": "ipython3",
   "version": "3.10.8 | packaged by conda-forge | (main, Nov 22 2022, 08:26:04) [GCC 10.4.0]"
  },
  "orig_nbformat": 4,
  "vscode": {
   "interpreter": {
    "hash": "e7d114a4298214147e5de026dbeaca42830d8ddf5eb827aba9347105a0e910fe"
   }
  }
 },
 "nbformat": 4,
 "nbformat_minor": 2
}
