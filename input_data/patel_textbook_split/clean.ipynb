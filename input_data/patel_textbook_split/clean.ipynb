{
 "cells": [
  {
   "cell_type": "code",
   "execution_count": 94,
   "metadata": {},
   "outputs": [],
   "source": [
    "import more_itertools\n",
    "from pylatexenc.latex2text import LatexNodes2Text\n",
    "import os \n",
    "import numpy as np\n",
    "import json"
   ]
  },
  {
   "cell_type": "code",
   "execution_count": 105,
   "metadata": {},
   "outputs": [],
   "source": [
    "def overlap(text, length, overlap):\n",
    "    overlapped_words = []\n",
    "    textbook_list = text.split()\n",
    "    all_words = []\n",
    "    num_of_sections = int(np.floor(len(textbook_list) / length))\n",
    "    group = more_itertools.divide(num_of_sections, textbook_list)\n",
    "    final_list = []\n",
    "    for section in group:\n",
    "        all_words.append(list(section))\n",
    "        \n",
    "    for i in range(len(all_words)):\n",
    "        if i == 0:\n",
    "            overlapped_words.append(all_words[i])\n",
    "            overlapped_words.append(all_words[i][-overlap:] + all_words[i + 1][:-overlap])\n",
    "        elif i == len(all_words) - 1:\n",
    "            overlapped_words.append(all_words[i])\n",
    "        else:\n",
    "            overlapped_words.append(all_words[i][overlap*2:] + all_words[i + 1][:-overlap])\n",
    "    for section in overlapped_words:\n",
    "        patel_text = ' '.join(section)\n",
    "        final_list.append(patel_text)\n",
    "    return final_list"
   ]
  },
  {
   "cell_type": "code",
   "execution_count": 9,
   "metadata": {},
   "outputs": [],
   "source": [
    "latex = ''\n",
    "directory = '../patel_textbook/'\n",
    "for filename in os.listdir(directory):\n",
    "    f = os.path.join(directory, filename)\n",
    "    with open(f, 'r') as file:\n",
    "        text = file.read()\n",
    "        latex += text\n",
    "        textbook = LatexNodes2Text().latex_to_text(latex)"
   ]
  },
  {
   "cell_type": "code",
   "execution_count": 14,
   "metadata": {},
   "outputs": [],
   "source": [
    "textbook_list = textbook.split()"
   ]
  },
  {
   "cell_type": "code",
   "execution_count": 47,
   "metadata": {},
   "outputs": [
    {
     "data": {
      "text/plain": [
       "58"
      ]
     },
     "execution_count": 47,
     "metadata": {},
     "output_type": "execute_result"
    }
   ],
   "source": [
    "len(textbook_list) % 200"
   ]
  },
  {
   "cell_type": "code",
   "execution_count": 36,
   "metadata": {},
   "outputs": [],
   "source": [
    "# 200 words with some percent overlap\n",
    "all_words = []\n",
    "num_of_sections = int(np.floor(len(textbook_list) / 200))\n",
    "group = more_itertools.divide(num_of_sections, textbook_list)\n",
    "for section in group:\n",
    "    all_words.append(list(section))"
   ]
  },
  {
   "cell_type": "code",
   "execution_count": 49,
   "metadata": {},
   "outputs": [
    {
     "data": {
      "text/plain": [
       "715"
      ]
     },
     "execution_count": 49,
     "metadata": {},
     "output_type": "execute_result"
    }
   ],
   "source": [
    "len(all_words)"
   ]
  },
  {
   "cell_type": "code",
   "execution_count": 90,
   "metadata": {},
   "outputs": [],
   "source": [
    "overlap = 20\n",
    "overlapped_words = []\n",
    "for i in range(len(all_words)):\n",
    "    if i == 0:\n",
    "        overlapped_words.append(all_words[i])\n",
    "        overlapped_words.append(all_words[i][-overlap:] + all_words[i + 1][:-overlap])\n",
    "    elif i == len(all_words) - 1:\n",
    "        overlapped_words.append(all_words[i])\n",
    "    else:\n",
    "        overlapped_words.append(all_words[i][overlap*2:] + all_words[i + 1][:-overlap])"
   ]
  },
  {
   "cell_type": "code",
   "execution_count": 91,
   "metadata": {},
   "outputs": [
    {
     "data": {
      "text/plain": [
       "716"
      ]
     },
     "execution_count": 91,
     "metadata": {},
     "output_type": "execute_result"
    }
   ],
   "source": [
    "len(overlapped_words)"
   ]
  },
  {
   "cell_type": "code",
   "execution_count": 97,
   "metadata": {},
   "outputs": [],
   "source": [
    "patel_json = {}\n",
    "\n",
    "for i, section in enumerate(overlapped_words):\n",
    "    patel_text = ' '.join(section)\n",
    "    patel_json[i] = patel_text"
   ]
  },
  {
   "cell_type": "code",
   "execution_count": 107,
   "metadata": {},
   "outputs": [],
   "source": [
    "tester = overlap(textbook, 200, 20)"
   ]
  },
  {
   "cell_type": "code",
   "execution_count": 99,
   "metadata": {},
   "outputs": [],
   "source": [
    "# with open('patel_overlapped_textbook.json', 'w', encoding='utf-8') as f:\n",
    "#     json.dump(patel_json, f, ensure_ascii=False, indent=4)"
   ]
  },
  {
   "cell_type": "markdown",
   "metadata": {},
   "source": [
    "### You can test the code to see how it works yourself"
   ]
  },
  {
   "cell_type": "code",
   "execution_count": 73,
   "metadata": {},
   "outputs": [],
   "source": [
    "test = [[i for i in range(20)], [i for i in range(20, 40)], [i for i in range(40, 60)], [i for i in range(60, 80)], [i for i in range(80, 100)]]"
   ]
  },
  {
   "cell_type": "code",
   "execution_count": 71,
   "metadata": {},
   "outputs": [
    {
     "data": {
      "text/plain": [
       "[16, 17, 18, 19, 20]"
      ]
     },
     "execution_count": 71,
     "metadata": {},
     "output_type": "execute_result"
    }
   ],
   "source": [
    "test = [1,2,3,4,5,6,7,8,9,10,11,12,13,14,15,16,17,18,19,20]\n",
    "test[-5:]"
   ]
  },
  {
   "cell_type": "code",
   "execution_count": 92,
   "metadata": {},
   "outputs": [],
   "source": [
    "overlap = 5\n",
    "overlapped_words_test = []\n",
    "for i in range(len(test)):\n",
    "    if i == 0:\n",
    "        overlapped_words_test.append(test[i])\n",
    "        overlapped_words_test.append(test[i][-overlap:] + test[i + 1][:-overlap])\n",
    "    elif i == len(test) - 1:\n",
    "        overlapped_words_test.append(test[i])\n",
    "    else:\n",
    "        overlapped_words_test.append(test[i][overlap*2:] + test[i + 1][:-overlap])"
   ]
  },
  {
   "cell_type": "code",
   "execution_count": 93,
   "metadata": {},
   "outputs": [
    {
     "data": {
      "text/plain": [
       "[[0, 1, 2, 3, 4, 5, 6, 7, 8, 9, 10, 11, 12, 13, 14, 15, 16, 17, 18, 19],\n",
       " [15,\n",
       "  16,\n",
       "  17,\n",
       "  18,\n",
       "  19,\n",
       "  20,\n",
       "  21,\n",
       "  22,\n",
       "  23,\n",
       "  24,\n",
       "  25,\n",
       "  26,\n",
       "  27,\n",
       "  28,\n",
       "  29,\n",
       "  30,\n",
       "  31,\n",
       "  32,\n",
       "  33,\n",
       "  34],\n",
       " [30,\n",
       "  31,\n",
       "  32,\n",
       "  33,\n",
       "  34,\n",
       "  35,\n",
       "  36,\n",
       "  37,\n",
       "  38,\n",
       "  39,\n",
       "  40,\n",
       "  41,\n",
       "  42,\n",
       "  43,\n",
       "  44,\n",
       "  45,\n",
       "  46,\n",
       "  47,\n",
       "  48,\n",
       "  49,\n",
       "  50,\n",
       "  51,\n",
       "  52,\n",
       "  53,\n",
       "  54],\n",
       " [50,\n",
       "  51,\n",
       "  52,\n",
       "  53,\n",
       "  54,\n",
       "  55,\n",
       "  56,\n",
       "  57,\n",
       "  58,\n",
       "  59,\n",
       "  60,\n",
       "  61,\n",
       "  62,\n",
       "  63,\n",
       "  64,\n",
       "  65,\n",
       "  66,\n",
       "  67,\n",
       "  68,\n",
       "  69,\n",
       "  70,\n",
       "  71,\n",
       "  72,\n",
       "  73,\n",
       "  74],\n",
       " [70,\n",
       "  71,\n",
       "  72,\n",
       "  73,\n",
       "  74,\n",
       "  75,\n",
       "  76,\n",
       "  77,\n",
       "  78,\n",
       "  79,\n",
       "  80,\n",
       "  81,\n",
       "  82,\n",
       "  83,\n",
       "  84,\n",
       "  85,\n",
       "  86,\n",
       "  87,\n",
       "  88,\n",
       "  89,\n",
       "  90,\n",
       "  91,\n",
       "  92,\n",
       "  93,\n",
       "  94],\n",
       " [80,\n",
       "  81,\n",
       "  82,\n",
       "  83,\n",
       "  84,\n",
       "  85,\n",
       "  86,\n",
       "  87,\n",
       "  88,\n",
       "  89,\n",
       "  90,\n",
       "  91,\n",
       "  92,\n",
       "  93,\n",
       "  94,\n",
       "  95,\n",
       "  96,\n",
       "  97,\n",
       "  98,\n",
       "  99]]"
      ]
     },
     "execution_count": 93,
     "metadata": {},
     "output_type": "execute_result"
    }
   ],
   "source": [
    "overlapped_words_test"
   ]
  },
  {
   "cell_type": "code",
   "execution_count": null,
   "metadata": {},
   "outputs": [],
   "source": []
  }
 ],
 "metadata": {
  "kernelspec": {
   "display_name": "Python 3.10.8 ('fine')",
   "language": "python",
   "name": "python3"
  },
  "language_info": {
   "codemirror_mode": {
    "name": "ipython",
    "version": 3
   },
   "file_extension": ".py",
   "mimetype": "text/x-python",
   "name": "python",
   "nbconvert_exporter": "python",
   "pygments_lexer": "ipython3",
   "version": "3.10.8"
  },
  "orig_nbformat": 4,
  "vscode": {
   "interpreter": {
    "hash": "97442e410859f4c8af42b8c1a3c04aed664916046bf9c54b21f43f1a6473afd8"
   }
  }
 },
 "nbformat": 4,
 "nbformat_minor": 2
}
