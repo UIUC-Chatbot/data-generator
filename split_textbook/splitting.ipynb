{
 "cells": [
  {
   "cell_type": "code",
   "execution_count": 1,
   "metadata": {},
   "outputs": [],
   "source": [
    "import os\n",
    "import re\n",
    "import json"
   ]
  },
  {
   "cell_type": "code",
   "execution_count": 2,
   "metadata": {},
   "outputs": [],
   "source": [
    "notes = []\n",
    "directory = '../notes'\n",
    "for filename in os.listdir(directory):\n",
    "    f = os.path.join(directory, filename)\n",
    "    if not os.path.isfile(f):\n",
    "        for fn in os.listdir(f):\n",
    "            notes.append(f+'/'+fn)"
   ]
  },
  {
   "cell_type": "code",
   "execution_count": 15,
   "metadata": {},
   "outputs": [
    {
     "data": {
      "text/plain": [
       "26"
      ]
     },
     "execution_count": 15,
     "metadata": {},
     "output_type": "execute_result"
    }
   ],
   "source": [
    "len(notes)"
   ]
  },
  {
   "cell_type": "code",
   "execution_count": 5,
   "metadata": {},
   "outputs": [],
   "source": [
    "# Clean \n",
    "def clean(file):\n",
    "    with open(file) as input_file:\n",
    "        text = \"\"\n",
    "        for line in input_file:\n",
    "            text += line\n",
    "    texts = text.split('subsection')\n",
    "    cleaned = []\n",
    "    for text in texts[1:]:\n",
    "        text = re.sub(r\"\\\\[a-z]*\", '', text)\n",
    "        text = re.sub(r\"{+[a-zA-Z0-9=\\/\\.\\,:]+}+\", '', text)\n",
    "        text = re.sub(r\"\\$\", '', text)\n",
    "        text = re.sub(r\"~\", ' ', text)\n",
    "        text = re.sub(r\"%\", '', text)\n",
    "        cleaned.append(text)\n",
    "    return cleaned"
   ]
  },
  {
   "cell_type": "code",
   "execution_count": 6,
   "metadata": {},
   "outputs": [],
   "source": [
    "def get_section(file):\n",
    "    with open(file) as input_file:\n",
    "        text = \"\"\n",
    "        for line in input_file:\n",
    "            text += line\n",
    "    texts = text.split('subsection')\n",
    "    sections = []\n",
    "    for text in texts[1:]:\n",
    "        section = re.match(r\"{.*}\", text)\n",
    "        sections.append(section[0].replace('{', '').replace('}', ''))\n",
    "    return sections"
   ]
  },
  {
   "cell_type": "code",
   "execution_count": 7,
   "metadata": {},
   "outputs": [],
   "source": [
    "def split_paragraphs(cleaned_file):\n",
    "    paragraphs = []\n",
    "\n",
    "    for file in cleaned_file:\n",
    "        split_files = file.split('\\n\\n')\n",
    "        section = []\n",
    "        for split in split_files[1:]:\n",
    "            length = len(split.split())\n",
    "            if split == '':\n",
    "                pass\n",
    "            else:\n",
    "                section.append(split.strip())\n",
    "        paragraphs.append(section)\n",
    "            \n",
    "    return paragraphs"
   ]
  },
  {
   "cell_type": "code",
   "execution_count": 8,
   "metadata": {},
   "outputs": [],
   "source": [
    "# def split_sentences(cleaned_file):"
   ]
  },
  {
   "cell_type": "code",
   "execution_count": 9,
   "metadata": {},
   "outputs": [],
   "source": [
    "sections = []\n",
    "paragraphs = []\n",
    "for note in notes:\n",
    "    section = clean(note)\n",
    "    sections.append(section)\n",
    "    paragraph = split_paragraphs(section)\n",
    "    paragraphs.append(paragraph)"
   ]
  },
  {
   "cell_type": "code",
   "execution_count": 18,
   "metadata": {},
   "outputs": [],
   "source": [
    "section_dict = {}\n",
    "counter = 0\n",
    "for section in sections:\n",
    "    for s in section:\n",
    "        section_dict[counter] = s\n",
    "        counter += 1"
   ]
  },
  {
   "cell_type": "code",
   "execution_count": 40,
   "metadata": {},
   "outputs": [],
   "source": [
    "paragraph_dict = {}\n",
    "pcounter = 0 \n",
    "for paragraph in paragraphs:\n",
    "    for para in paragraph:\n",
    "        for p in para:\n",
    "            if p == '':\n",
    "                pass\n",
    "            else:\n",
    "                paragraph_dict[pcounter] = p\n",
    "                pcounter += 1"
   ]
  },
  {
   "cell_type": "code",
   "execution_count": 42,
   "metadata": {},
   "outputs": [
    {
     "data": {
      "text/plain": [
       "['asd', '.', ' sdf s', '.', ' asdf sdflk jla', '?', ' slkfj', '!', '']"
      ]
     },
     "execution_count": 42,
     "metadata": {},
     "output_type": "execute_result"
    }
   ],
   "source": [
    "re.split(r'([!.?])', 'asd. sdf s. asdf sdflk jla? slkfj!')"
   ]
  },
  {
   "cell_type": "code",
   "execution_count": 43,
   "metadata": {},
   "outputs": [],
   "source": [
    "sentences_list = []\n",
    "for note in notes:\n",
    "    cleaned = clean(note)\n",
    "    for n in cleaned:\n",
    "        punc_check = re.split(r'([!.?])', n)\n",
    "        if punc_check != None:\n",
    "            sentences_list.append(punc_check)\n"
   ]
  },
  {
   "cell_type": "code",
   "execution_count": 59,
   "metadata": {},
   "outputs": [
    {
     "name": "stdout",
     "output_type": "stream",
     "text": [
      "{Finite State Machine Design Examples, Part I}\n",
      "\n",
      "This set of notes uses a series of examples to illustrate design principles \n",
      "for the implementation of finite state machines (FSMs) using digital logic.\n",
      "\n",
      "We begin with an overview of the design process for a digital FSM, from\n",
      "the development of an abstract model through the implementation of\n",
      "functions for the next-state variables and output signals.\n",
      "\n",
      "Our first few examples cover only the concrete aspects:\n",
      "we implement several counters, which illustrate the basic \n",
      "process of translating a concrete and complete state transition diagram\n",
      "into an implementation based on flip-flops and logic gates.\n",
      "\n",
      "We next consider a counter with a number of states that is not a power of\n",
      "two, with which we illustrate the need for FSM initialization.\n",
      "\n",
      " As part of solving the initialization problem, we also introduce \n",
      " a general form of selection logic called a multiplexer.\n",
      "\n",
      "\n",
      "We then consider the design process as a whole through a more general\n",
      "example of a counter with multiple inputs to control its behavior.\n",
      " \n",
      "We work from\n",
      "an abstract model down to an implementation, illustrating how semantic\n",
      "knowledge from the abstract model can be used to simplify the \n",
      "implementation.\n",
      "  Finally, we illustrate how the choice of representation\n",
      "for the FSM's internal state affects the complexity of the implementation.\n",
      "\n",
      "Fortunately, designs that are more intuitive and easier for humans to\n",
      "understand also typically make the best designs in terms of \n",
      "other metrics, such as logic complexity.\n"
     ]
    }
   ],
   "source": [
    "for i in range(0, len(sentences_list[0])-1, 2):\n",
    "    print(sentences_list[0][i] + sentences_list[0][i+1])\n"
   ]
  },
  {
   "cell_type": "code",
   "execution_count": 70,
   "metadata": {},
   "outputs": [],
   "source": [
    "sentences = []\n",
    "for sentence in sentences_list:\n",
    "    length = len(sentence)\n",
    "    for i in range(0, length-1, 2):\n",
    "        sentences.append(sentence[i] + sentence[i+1])"
   ]
  },
  {
   "cell_type": "code",
   "execution_count": 73,
   "metadata": {},
   "outputs": [],
   "source": [
    "sentence_dict = {}\n",
    "for i in range(len(sentences)):\n",
    "    sentence_dict[i] = sentences[i]"
   ]
  },
  {
   "cell_type": "code",
   "execution_count": 75,
   "metadata": {},
   "outputs": [],
   "source": [
    "# with open('sentences.json', 'w', encoding='utf-8') as f:\n",
    "#     json.dump(sentence_dict, f, ensure_ascii=False, indent=4)"
   ]
  },
  {
   "cell_type": "code",
   "execution_count": 42,
   "metadata": {},
   "outputs": [],
   "source": [
    "# with open('sections.json', 'w', encoding='utf-8') as f:\n",
    "#     json.dump(section_dict, f, ensure_ascii=False, indent=4)"
   ]
  },
  {
   "cell_type": "code",
   "execution_count": 43,
   "metadata": {},
   "outputs": [],
   "source": [
    "# with open('paragraphs.json', 'w', encoding='utf-8') as f:\n",
    "#     json.dump(paragraph_dict, f, ensure_ascii=False, indent=4)"
   ]
  }
 ],
 "metadata": {
  "kernelspec": {
   "display_name": "Python 3.8.11 ('base')",
   "language": "python",
   "name": "python3"
  },
  "language_info": {
   "codemirror_mode": {
    "name": "ipython",
    "version": 3
   },
   "file_extension": ".py",
   "mimetype": "text/x-python",
   "name": "python",
   "nbconvert_exporter": "python",
   "pygments_lexer": "ipython3",
   "version": "3.8.11"
  },
  "orig_nbformat": 4,
  "vscode": {
   "interpreter": {
    "hash": "28596858067060ee176f7bab50a17c769bfd8a96306468e7ae0695529617abaf"
   }
  }
 },
 "nbformat": 4,
 "nbformat_minor": 2
}
