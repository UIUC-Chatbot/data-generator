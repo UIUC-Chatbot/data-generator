{
 "cells": [
  {
   "cell_type": "code",
   "execution_count": 1,
   "metadata": {},
   "outputs": [],
   "source": [
    "import os\n",
    "import re\n",
    "import json"
   ]
  },
  {
   "cell_type": "code",
   "execution_count": 2,
   "metadata": {},
   "outputs": [],
   "source": [
    "notes = []\n",
    "directory = 'notes'\n",
    "for filename in os.listdir(directory):\n",
    "    f = os.path.join(directory, filename)\n",
    "    if not os.path.isfile(f):\n",
    "        for fn in os.listdir(f):\n",
    "            notes.append(f+'/'+fn)"
   ]
  },
  {
   "cell_type": "code",
   "execution_count": 3,
   "metadata": {},
   "outputs": [],
   "source": [
    "# Clean \n",
    "def clean(file):\n",
    "    with open(file) as input_file:\n",
    "        text = \"\"\n",
    "        for line in input_file:\n",
    "            text += line\n",
    "    texts = text.split('subsection')\n",
    "    cleaned = []\n",
    "    for text in texts[1:]:\n",
    "        text = re.sub(r\"\\\\[a-z]*\", '', text)\n",
    "        text = re.sub(r\"{+[a-zA-Z0-9=\\/\\.\\,:]+}+\", '', text)\n",
    "        text = re.sub(r\"\\$\", '', text)\n",
    "        text = re.sub(r\"~\", ' ', text)\n",
    "        text = re.sub(r\"%\", '', text)\n",
    "        cleaned.append(text)\n",
    "    return cleaned"
   ]
  },
  {
   "cell_type": "code",
   "execution_count": 4,
   "metadata": {},
   "outputs": [],
   "source": [
    "def get_section(file):\n",
    "    with open(file) as input_file:\n",
    "        text = \"\"\n",
    "        for line in input_file:\n",
    "            text += line\n",
    "    texts = text.split('subsection')\n",
    "    sections = []\n",
    "    for text in texts[1:]:\n",
    "        section = re.match(r\"{.*}\", text)\n",
    "        sections.append(section[0].replace('{', '').replace('}', ''))\n",
    "    return sections"
   ]
  },
  {
   "cell_type": "code",
   "execution_count": 5,
   "metadata": {},
   "outputs": [],
   "source": [
    "def split_paragraphs(cleaned_file):\n",
    "    paragraphs = []\n",
    "\n",
    "    for file in cleaned_file:\n",
    "        split_files = file.split('\\n\\n')\n",
    "        section = []\n",
    "        for split in split_files[1:]:\n",
    "            length = len(split.split())\n",
    "            if split == '':\n",
    "                pass\n",
    "            else:\n",
    "                section.append(split.strip())\n",
    "        paragraphs.append(section)\n",
    "            \n",
    "    return paragraphs"
   ]
  },
  {
   "cell_type": "code",
   "execution_count": 16,
   "metadata": {},
   "outputs": [],
   "source": [
    "sections = []\n",
    "paragraphs = []\n",
    "for note in notes:\n",
    "    section = clean(note)\n",
    "    sections.append(section)\n",
    "    paragraph = split_paragraphs(section)\n",
    "    paragraphs.append(paragraph)"
   ]
  },
  {
   "cell_type": "code",
   "execution_count": 22,
   "metadata": {},
   "outputs": [],
   "source": [
    "section_dict = {}\n",
    "counter = 0\n",
    "for section in sections:\n",
    "    for s in section:\n",
    "        section_dict[counter] = s\n",
    "        counter += 1"
   ]
  },
  {
   "cell_type": "code",
   "execution_count": 40,
   "metadata": {},
   "outputs": [],
   "source": [
    "paragraph_dict = {}\n",
    "pcounter = 0 \n",
    "for paragraph in paragraphs:\n",
    "    for para in paragraph:\n",
    "        for p in para:\n",
    "            if p == '':\n",
    "                pass\n",
    "            else:\n",
    "                paragraph_dict[pcounter] = p\n",
    "                pcounter += 1"
   ]
  },
  {
   "cell_type": "code",
   "execution_count": 42,
   "metadata": {},
   "outputs": [],
   "source": [
    "# with open('sections.json', 'w', encoding='utf-8') as f:\n",
    "#     json.dump(section_dict, f, ensure_ascii=False, indent=4)"
   ]
  },
  {
   "cell_type": "code",
   "execution_count": 43,
   "metadata": {},
   "outputs": [],
   "source": [
    "# with open('paragraphs.json', 'w', encoding='utf-8') as f:\n",
    "#     json.dump(paragraph_dict, f, ensure_ascii=False, indent=4)"
   ]
  }
 ],
 "metadata": {
  "kernelspec": {
   "display_name": "Python 3.8.11 ('base')",
   "language": "python",
   "name": "python3"
  },
  "language_info": {
   "codemirror_mode": {
    "name": "ipython",
    "version": 3
   },
   "file_extension": ".py",
   "mimetype": "text/x-python",
   "name": "python",
   "nbconvert_exporter": "python",
   "pygments_lexer": "ipython3",
   "version": "3.8.11"
  },
  "orig_nbformat": 4,
  "vscode": {
   "interpreter": {
    "hash": "28596858067060ee176f7bab50a17c769bfd8a96306468e7ae0695529617abaf"
   }
  }
 },
 "nbformat": 4,
 "nbformat_minor": 2
}
