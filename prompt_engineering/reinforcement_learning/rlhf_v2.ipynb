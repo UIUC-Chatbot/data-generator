{
 "cells": [
  {
   "cell_type": "code",
   "execution_count": 1,
   "metadata": {},
   "outputs": [],
   "source": [
    "import openai\n",
    "import time\n",
    "import json\n",
    "import backoff\n",
    "from openai.error import RateLimitError\n",
    "import datetime\n",
    "import pickle\n",
    "import numpy as np\n",
    "from numpy.linalg import norm\n",
    "import re"
   ]
  },
  {
   "cell_type": "code",
   "execution_count": 2,
   "metadata": {},
   "outputs": [],
   "source": [
    "openai.api_key=os.getenv(\"OPENAI_API_KEY\")"
   ]
  },
  {
   "cell_type": "code",
   "execution_count": 3,
   "metadata": {},
   "outputs": [],
   "source": [
    "s = open(\"/Users/nehasheth/Desktop/Research/Research - AI Chatbot TA/github/data-generator/QA_generation_from_textbook/gpt-3/GPT-3_section_level.json\")\n",
    "sections_data = json.load(s)\n",
    "\n",
    "#full textbook embeddings - vectors\n",
    "with open(\"/Users/nehasheth/Desktop/Research/Research - AI Chatbot TA/github/data-generator/QA_generation_from_textbook/reinforcement_learning/index.json\") as input_file:\n",
    "    index_data = json.load(input_file)\n",
    "\n"
   ]
  },
  {
   "cell_type": "code",
   "execution_count": 4,
   "metadata": {},
   "outputs": [
    {
     "data": {
      "text/plain": [
       "144"
      ]
     },
     "execution_count": 4,
     "metadata": {},
     "output_type": "execute_result"
    }
   ],
   "source": [
    "len(sections_data)"
   ]
  },
  {
   "cell_type": "code",
   "execution_count": 5,
   "metadata": {},
   "outputs": [],
   "source": [
    "@backoff.on_exception(backoff.expo, RateLimitError)\n",
    "def response_API(prompt, myKwargs = {}):\n",
    "\n",
    "  #default arguments to send the API, unless changed in function\n",
    "  kwargs = {\"model\" :\"text-davinci-003\",\n",
    "            \"temperature\" :0.6,\n",
    "            \"max_tokens\": 500,\n",
    "            \"frequency_penalty\":1,\n",
    "            \"presence_penalty\":0}\n",
    "\n",
    "\n",
    "  for kwarg in myKwargs:\n",
    "    kwargs[kwarg] = myKwargs[kwarg]\n",
    "\n",
    "  r = openai.Completion.create(prompt=prompt, **kwargs)\n",
    "  return r['choices'][0]['text']"
   ]
  },
  {
   "cell_type": "code",
   "execution_count": 59,
   "metadata": {},
   "outputs": [],
   "source": [
    "def generate_answers(ques):\n",
    "    prompts = [\n",
    "        \n",
    "        \"\"\"Generate an objective and logically sound answer to this question. The answer should have a freshmen-level tone and be concise and very short.\n",
    "        The answer must spur curiosity. Give examples.\n",
    "        Question :\n",
    "        \"\"\",\n",
    "\n",
    "       \"\"\"Generate a reasoning-based answer about this question. The answer should have a freshmen-level tone and be concise and very short.\n",
    "        Give examples. It should be logic-oriented. Think step by step. Question : \"\"\" ,\n",
    "\n",
    "        \"\"\"Generate a list-type, short answer to this question. \n",
    "        It should be very short and concise and have a high school level language. Question : \"\"\"  + \"\\nQuestion:\",\n",
    "\n",
    "        \"\"\"Generate a detailed, long, interesting answer to this question. \n",
    "        The answer must be engaging and provoke interactions. It should use fresh men level language and a formal tone. Question : \"\"\"\n",
    "    ]\n",
    "\n",
    "    n=len(prompts)\n",
    "    answers = []\n",
    "    for j in prompts:\n",
    "        \n",
    "        p= \"Instruction : %s %s\" % (j, ques)\n",
    "    \n",
    "        response = response_API(p)\n",
    "        \n",
    "        answers.append(response)\n",
    "        print(response)\n",
    "\n",
    "    \n",
    "    return answers"
   ]
  },
  {
   "cell_type": "code",
   "execution_count": 7,
   "metadata": {},
   "outputs": [],
   "source": [
    "#manually cleaned \n",
    "file1 = open(\"/Users/nehasheth/Desktop/Research/Research - AI Chatbot TA/github/data-generator/QA_generation_from_textbook/reinforcement_learning/GPT-3_questions_cleaned.json\")\n",
    "questions_manual = json.load(file1)"
   ]
  },
  {
   "cell_type": "code",
   "execution_count": 6,
   "metadata": {},
   "outputs": [],
   "source": [
    "sections_list = []\n",
    "for p, item in enumerate(sections_data[17:]):\n",
    "    subtext = item['positive_ctxs']['text']\n",
    "    sections_list.append(subtext)"
   ]
  },
  {
   "cell_type": "code",
   "execution_count": 9,
   "metadata": {},
   "outputs": [],
   "source": [
    "questions = questions_manual"
   ]
  },
  {
   "cell_type": "code",
   "execution_count": null,
   "metadata": {},
   "outputs": [],
   "source": [
    "flattened_list = [element for sublist in questions for element in sublist]\n",
    "print(flattened_list)\n"
   ]
  },
  {
   "cell_type": "code",
   "execution_count": 41,
   "metadata": {},
   "outputs": [],
   "source": [
    "questions_fin = flattened_list"
   ]
  },
  {
   "cell_type": "code",
   "execution_count": 51,
   "metadata": {},
   "outputs": [
    {
     "data": {
      "text/plain": [
       "' What is the input/output interface of the game controller?'"
      ]
     },
     "execution_count": 51,
     "metadata": {},
     "output_type": "execute_result"
    }
   ],
   "source": [
    "questions_fin[19]"
   ]
  },
  {
   "cell_type": "code",
   "execution_count": null,
   "metadata": {},
   "outputs": [],
   "source": [
    "answer_list = []\n",
    "for q, ques in enumerate(questions_fin[14:20]):\n",
    "    print(q)\n",
    "    answers = generate_answers(ques)\n",
    "    answer_list.append(answers)"
   ]
  },
  {
   "cell_type": "code",
   "execution_count": null,
   "metadata": {},
   "outputs": [],
   "source": [
    "qa_data = []\n",
    "for q, ques in enumerate(questions_fin[14:20]):\n",
    "    data = {}\n",
    "    data['question'] = ques\n",
    "    print(ques)\n",
    "    print(answer_list[q])\n",
    "    data['answers'] = answer_list[q]\n",
    "    qa_data.append(data)\n"
   ]
  },
  {
   "cell_type": "code",
   "execution_count": 63,
   "metadata": {},
   "outputs": [
    {
     "data": {
      "text/plain": [
       "[{'question': ' What is a 4-input priority encoder?',\n",
       "  'answers': ['\\n\\nA 4-input priority encoder is a digital circuit used to convert a set of four binary inputs into an encoded output. It assigns priority to each input, so that only one of the inputs can be active at any given time. For example, if three of the four inputs are active, the highest priority input will be decoded as the output.',\n",
       "   '\\n\\nA 4-input priority encoder is a digital circuit that converts a set of binary inputs into an encoded output. It works by assigning each input a priority level, and then outputs the code corresponding to the highest priority input. For example, if inputs A, B, C and D have respective priorities 1, 2, 3 and 4 then if A is active (high) it will output code 1; if B is active it will output code 2; if C is active it will output code 3; and if D is active it will output code 4.',\n",
       "   '\\n\\nAnswer: A 4-input priority encoder is a digital logic circuit that takes four binary inputs and produces a 3-bit output code that represents the highest priority input.',\n",
       "   '\\n\\nA 4-input priority encoder is a digital circuit designed to take in four inputs and assign them a numerical output. It does this by assigning each input a \"priority\" level, with the highest priority input being assigned the lowest numerical value and the lowest priority input being assigned the highest numerical value. The 4-input priority encoder is useful when it is necessary to prioritize certain inputs over others. For example, if you have four signals that need to be processed but some of them are more important than others, then using a 4-input priority encoder allows you to ensure that those higher-priority signals are dealt with first. \\n\\nAt its most basic level, a 4-input priority encoder works by having each of its four inputs connected to one of four corresponding outputs. When an input is activated (i.e., goes from 0V to 5V), it triggers an output from the corresponding output line which tells other circuits what that particular signal represents – for example, if Input 1 was activated then Output 1 would be triggered indicating that Input 1 was active at that time. The order in which these outputs are triggered depends on their priorities; if Input 3 has been assigned as having higher priority than Input 2, then Output 3 will be triggered before Output 2 even if both inputs were activated at exactly the same time. This ensures that all signals are processed in order of their importance or relevance regardless of when they were received or how quickly they can be processed by other circuitry downstream from the 4-input priority encoder itself. \\n\\nThe advantage of using a 4-input priority encoder over other types of encoding systems lies in its simplicity – it only requires four discrete components (four inputs and their corresponding outputs) meaning it can easily fit into tight spaces or onto small circuit boards without taking up too much space or requiring multiple connections between components like some larger encoding systems might require. Additionally, because all logic operations performed by this type of circuit can occur within one single device (i.e., no external logic gates needed) there’s less potential for errors due to incorrect wiring between components as well as improved power consumption since only one device needs power instead of several separate ones like with larger encoding systems .']},\n",
       " {'question': ' What is the purpose of a decoder with an enable input?',\n",
       "  'answers': ['\\n\\nA decoder with an enable input is used to selectively control the output of a digital circuit. The enable input allows the decoder to be turned on or off, allowing it to be used as an addressable switch. For example, a 4-to-16 line decoder with an enable input can be used to select one of 16 outputs depending on the four inputs and the state of the enable signal.',\n",
       "   '\\n\\nA decoder with an enable input is used to convert a binary code into a set of outputs. The enable input allows the user to turn on or off the output, making it easier for them to control which outputs are activated and which ones remain inactive. For example, if you have four different outputs, you can use a decoder with an enable input to decide which one should be turned on at any given time.',\n",
       "   '\\n\\nAnswer: A decoder with an enable input is used to select one of multiple possible outputs based on the enable signal, allowing for the control of multiple output signals.',\n",
       "   '\\n\\nA decoder with an enable input is a digital logic circuit used to convert binary information from n-input lines into a maximum of 2^n unique output lines. It is commonly used in computer memory systems and other digital circuits to decode address and data signals. The purpose of having an enable input is to provide the user with the ability to control when the decoder outputs are enabled or disabled. When the enable signal is active, all outputs are enabled, but when it is inactive, all outputs are disabled regardless of what data signals are present at the decoder’s inputs. This enables users to selectively control which parts of their system receive certain signals and can be useful for reducing power consumption or preventing unwanted interactions between different components.']},\n",
       " {'question': ' What value is stored in the register PRICE1?',\n",
       "  'answers': [\"\\n\\nThe value stored in the register PRICE1 is unknown; however, it could be anything from a product's cost to a currency exchange rate. For example, PRICE1 may store the cost of an item at a store or the current exchange rate between two currencies.\",\n",
       "   '\\n\\nThe value stored in the register PRICE1 will depend on the context of the program. If a value has been assigned to PRICE1, it will be stored in that register. For example, if PRICE1 is assigned to 10, then 10 would be stored in the register. If no value has been assigned to PRICE1, then it will store a default value such as 0 or null.',\n",
       "   '\\n\\nAnswer: The value stored in the register PRICE1 is the current price of the item.',\n",
       "   '\\n\\nThe value stored in the register PRICE1 is a numerical representation of the cost of a product or service. This value can be used to calculate the total cost of a purchase, as well as to determine whether discounts and other incentives are applicable. It is important to note that this number may not necessarily reflect the actual selling price, as taxes and other fees may be added on top of it. Furthermore, depending on the type of transaction being executed, this register might contain different values depending on how it is configured for that particular instance. As such, it is important for businesses to ensure their registers are properly set up before executing any transactions.']},\n",
       " {'question': \" How does the signal R indicate a successful purchase?']\",\n",
       "  'answers': ['\\n\\nAnswer : Signal R indicates a successful purchase when it is sent from the payment processor to the merchant, confirming that the transaction was successful. For example, when making an online purchase, if you receive a confirmation page with signal R displayed at the top, it means your purchase was successful.',\n",
       "   '\\n\\nSignal R indicates a successful purchase by sending an acknowledgment message to the payment system. This message confirms that the purchase was completed and accepted. Examples of this include receiving a confirmation email or text after making an online purchase, or receiving a receipt after making a payment in person.',\n",
       "   \"\\n\\nAnswer: \\n1. R indicates a successful purchase when it is sent from the payment processor. \\n2. It shows that the payment has been accepted and the transaction is complete. \\n3. R signifies that funds have been transferred to the merchant's account.  \\n4. It verifies that the purchase was successful and completed successfully.\",\n",
       "   '\\n\\nSignal R is a web-based messaging protocol that allows for near real-time communication between a server and connected clients. It is commonly used in applications such as online shopping, where it provides an efficient way of sending notifications between the server and the client. In particular, Signal R can be used to indicate when a successful purchase has been made. \\n\\nWhen a customer initiates an online purchase, the server will send out a Signal R message informing all connected clients that an action has occurred. The message sent out will include details about the purchase such as what was purchased, who purchased it, when it was purchased, etc. Once all of these details have been processed by the server and verified to be accurate, then another Signal R message will be sent out indicating that the purchase was successful and completed successfully. This signal is usually accompanied by additional data regarding any discounts or extra payment methods associated with the transaction. \\n\\nThe benefits of using signal R for this purpose are numerous; not only does it allow for near real-time delivery of information regarding purchases but also helps to ensure accuracy in terms of verifying all required information before allowing customers to complete their orders. Furthermore, since this technology is web-based there are no delays or interruptions in service due to latency or other technical issues which can occur with traditional methods such as SMS messaging or emailing customers directly after their purchases have been made. Finally, utilizing Signal R for this purpose also allows businesses to save time and money on marketing initiatives since they can easily reach out directly to customers who have just made successful purchases without needing any additional infrastructure set up beforehand – making it easier than ever before for companies to quickly capitalize on sales opportunities while still providing excellent customer service experiences at every step along the way!']},\n",
       " {'question': ' What is the state representation used for the design of the game controller?',\n",
       "  'answers': ['\\n\\nThe state representation used for the design of the game controller is a finite-state machine, which encodes all possible states and transitions between those states. For example, in a platformer game, the controller may have different states such as \"walking\", \"jumping\", and \"falling\" that can be represented by a finite-state machine.',\n",
       "   '\\n\\nThe state representation used for the design of the game controller is a mathematical model that describes the different states of a game. For example, it can represent whether a character is moving left, right, up or down; whether an enemy is present; and when power-ups are collected. The state representation also contains information about the current score, lives remaining and other important variables. By using this model, developers can easily create rules that determine how characters interact with each other and how they react to user input.',\n",
       "   '\\n\\nAnswer: The state representation used for the design of the game controller is a finite-state machine.',\n",
       "   '\\n\\nThe state representation used for the design of the game controller is a set of parameters that define the current state of the game. This includes all relevant information such as player position, objects in the environment, and other variables that can affect gameplay. The state representation is essential in creating a smooth and intuitive gaming experience, as it allows developers to accurately render a virtual world based on user input. \\n\\nThe most common type of state representation is known as an object-oriented approach. This involves defining different objects within the game environment and assigning them attributes such as size, shape, color, and behavior. These objects interact with each other according to predefined rules which dictate how they should respond to user input or other events in their environment. By using this method developers are able to create complex virtual worlds without having to manually code every interaction between objects. \\n\\nIn addition to object-oriented approaches there are also procedural approaches that can be used for designing game controllers. These involve writing code that executes when certain conditions are met within the game’s environment or when user input is received from controllers such as joysticks or keyboards. By writing code for specific situations developers are able to create more realistic interactions between players and their environments which leads to more immersive gameplay experiences. \\n\\nFinally another important aspect of designing effective game controllers is managing memory usage efficiently so that games run smoothly on different hardware configurations without having too much lag or slowdown during playtime due to inadequate resources being available at any given time. Memory management requires careful consideration during development so that games use only what they need while still providing an enjoyable experience for gamers regardless of their hardware setup']},\n",
       " {'question': ' What is the input/output interface of the game controller?',\n",
       "  'answers': ['\\n\\nAnswer: The input/output interface of a game controller is the means by which the controller communicates with the gaming system. For example, a PlayStation 4 controller will have an USB-C port for connecting to the console, while an Xbox One controller will have a proprietary wireless connection. Outputs from these controllers can include vibration or audio feedback.',\n",
       "   '\\n\\nThe input/output interface of a game controller is the way it communicates with the gaming system. For example, some controllers use a USB cable to connect to the console, while others may use Bluetooth or wireless technology. The output interface is how the controller sends information back to the gaming system, such as button presses or joystick movements.',\n",
       "   '\\n\\nAnswer: The input/output interface of the game controller consists of buttons, joysticks, and other controllers that allow users to interact with the game.',\n",
       "   '\\n\\nA game controller is an input/output interface that enables users to interact with a video game. Generally, the controller consists of several buttons and joysticks that allow the user to control a character or object in the game. The buttons can be used to perform actions such as jumping, shooting, running, etc., while the joysticks are used for moving around within the game environment. In addition to these basic components, modern controllers often feature additional inputs such as motion sensors and vibration feedback motors. \\n\\nThe input/output interface of a controller is typically composed of two distinct elements: hardware and software. On the hardware side, there are generally two parts: The physical controller itself – including its buttons and joysticks – and any necessary wiring or cables required to connect it with other devices (such as a console). On the software side, each button or joystick may have one or more pre-programmed functions associated with it; this allows players to customize their gaming experience by assigning different actions to each button depending on their preferences. Additionally, many modern controllers also feature macro programming capabilities which allow for complex sequences of commands (such as combo moves) to be executed at once with just one button press. \\n\\nIn summary, the input/output interface of a game controller consists of both hardware components (the physical device itself along with any necessary connecting cables) and software components (pre-programmed functions associated with each individual button). This combination allows players to customize their gaming experience by assigning different actions based on their own preferences while also providing them with access to more complex commands via macro programming capabilities.']}]"
      ]
     },
     "execution_count": 63,
     "metadata": {},
     "output_type": "execute_result"
    }
   ],
   "source": [
    "qa_data"
   ]
  },
  {
   "cell_type": "code",
   "execution_count": null,
   "metadata": {},
   "outputs": [],
   "source": []
  }
 ],
 "metadata": {
  "kernelspec": {
   "display_name": "Python 3",
   "language": "python",
   "name": "python3"
  },
  "language_info": {
   "codemirror_mode": {
    "name": "ipython",
    "version": 3
   },
   "file_extension": ".py",
   "mimetype": "text/x-python",
   "name": "python",
   "nbconvert_exporter": "python",
   "pygments_lexer": "ipython3",
   "version": "3.9.6 (default, Oct 18 2022, 12:41:40) \n[Clang 14.0.0 (clang-1400.0.29.202)]"
  },
  "orig_nbformat": 4,
  "vscode": {
   "interpreter": {
    "hash": "31f2aee4e71d21fbe5cf8b01ff0e069b9275f58929596ceb00d14d90e3e16cd6"
   }
  }
 },
 "nbformat": 4,
 "nbformat_minor": 2
}
