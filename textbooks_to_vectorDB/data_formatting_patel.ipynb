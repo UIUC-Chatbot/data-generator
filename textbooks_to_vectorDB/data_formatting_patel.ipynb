{
 "cells": [
  {
   "attachments": {},
   "cell_type": "markdown",
   "metadata": {},
   "source": [
    "\n",
    "## Note on context windows: \n",
    "* Flan T5 XL max length is 512\n",
    "* Flan T5 XXL max length is 1024\n",
    "* OpenAssistant-pythia-12b max length is 2048"
   ]
  },
  {
   "attachments": {},
   "cell_type": "markdown",
   "metadata": {},
   "source": [
    "# 0. Parse textbook (retain page numbers)\n",
    "\n",
    "The OLD WAY used `PyPDF2` and it was really weird. Not great. \n",
    "\n",
    "NEW way is to use `fitz` \n",
    "\n",
    "If we need even more detail (unlikely for this particular textbook),we can use `pdfplumber` and `pdfminer.six` to parse the PDF."
   ]
  },
  {
   "cell_type": "code",
   "execution_count": null,
   "metadata": {},
   "outputs": [],
   "source": [
    "try: \n",
    "  textbook_cleaned = None\n",
    "  import json\n",
    "  with open('./patel_textbook_ascii.json', 'r') as f:\n",
    "    textbook_cleaned = json.load(f)\n",
    "    \n",
    "except FileNotFoundError:\n",
    "  \n",
    "  import sys, fitz\n",
    "  pdf_path = \"../../non-public-datasets/cleaned_data/patel_textbook/patel_short_and_clean.pdf\"\n",
    "\n",
    "  # out = open('REDACTED_patel_short_and_clean' + \".txt\", \"wb\")  # open text output file\n",
    "  textbook_cleaned = []\n",
    "  for i, page in enumerate(fitz.open(pdf_path)):\n",
    "      text = page.get_text().encode(\"utf8\").decode('ascii', errors='ignore')  # get plain text (is in UTF-8)\n",
    "      textbook_cleaned.append(dict(text=text,\n",
    "                          page_number=i, \n",
    "                          textbook_name='Yale-Patt_Sanjay-Patel--Intro_to_Computing_Systems'))\n",
    "len(textbook_cleaned)"
   ]
  },
  {
   "cell_type": "code",
   "execution_count": 40,
   "metadata": {},
   "outputs": [],
   "source": [
    "# print preview\n",
    "# for i, page in enumerate(textbook_cleaned):\n",
    "#     print(page['text']) "
   ]
  },
  {
   "cell_type": "code",
   "execution_count": 30,
   "metadata": {},
   "outputs": [],
   "source": [
    "metadatas = [dict(page_number=page['page_number'], textbook_name=page['textbook_name']) for page in textbook_cleaned]\n",
    "textbook_texts = [page['text'] for page in textbook_cleaned]\n",
    "assert len(metadatas) == len(textbook_texts), 'must be equal sizes'"
   ]
  },
  {
   "attachments": {},
   "cell_type": "markdown",
   "metadata": {},
   "source": [
    "## 1. Split the textbook string into context-size contexts."
   ]
  },
  {
   "cell_type": "code",
   "execution_count": 31,
   "metadata": {},
   "outputs": [
    {
     "name": "stdout",
     "output_type": "stream",
     "text": [
      "307\n",
      "Num chunks after filtering short ones 307\n"
     ]
    }
   ],
   "source": [
    "from langchain import text_splitter\n",
    "from transformers import AutoTokenizer\n",
    "from langchain.text_splitter import CharacterTextSplitter, NLTKTextSplitter, SpacyTextSplitter, RecursiveCharacterTextSplitter\n",
    "\n",
    "# good examples here: https://langchain.readthedocs.io/en/latest/modules/utils/combine_docs_examples/textsplitter.html\n",
    "tokenizer = AutoTokenizer.from_pretrained('OpenAssistant/oasst-sft-1-pythia-12b')\n",
    "text_splitter = RecursiveCharacterTextSplitter.from_huggingface_tokenizer(tokenizer, chunk_size=682, chunk_overlap=100, separators = \". \",)\n",
    "# texts = text_splitter.split_text(textbook)\n",
    "texts = text_splitter.create_documents(texts=textbook_texts, metadatas=metadatas)\n",
    "print(len(texts))\n",
    "\n",
    "# 682 -> 307\n",
    "\n",
    "# must be bigger than 50 chars\n",
    "clean_meta = [text.metadata     for text in texts if len(text.page_content) > 50]\n",
    "clean_text = [text.page_content for text in texts if len(text.page_content) > 50]\n",
    "print(\"Num chunks after filtering short ones\",len(clean_text))"
   ]
  },
  {
   "attachments": {},
   "cell_type": "markdown",
   "metadata": {},
   "source": [
    "## 2. Embed each context, and save it to a vector database, this one is hosted by Pinecone."
   ]
  },
  {
   "cell_type": "code",
   "execution_count": 32,
   "metadata": {},
   "outputs": [
    {
     "name": "stderr",
     "output_type": "stream",
     "text": [
      "No sentence-transformers model found with name /home/kastanday/.cache/torch/sentence_transformers/intfloat_e5-large. Creating a new one with MEAN pooling.\n"
     ]
    }
   ],
   "source": [
    "from langchain.vectorstores import Pinecone\n",
    "from langchain.embeddings import HuggingFaceEmbeddings #OpenAIEmbeddings, \n",
    "import pinecone\n",
    "from dotenv import load_dotenv\n",
    "import os\n",
    "\n",
    "# load API keys from globally-availabe .env file\n",
    "load_dotenv(dotenv_path='/mnt/project/chatbotai/huggingface_cache/internal_api_keys.env', override=True)\n",
    "\n",
    "pinecone.init(api_key=os.environ['PINECONE_API_KEY_NEW_ACCT'], environment=\"us-east4-gcp\")\n",
    "# pinecone.init(api_key=os.environ['PINECONE_API_KEY'], environment=\"us-west1-gcp\")\n",
    "\n",
    "model_name = \"intfloat/e5-large\"\n",
    "embeddings = HuggingFaceEmbeddings(model_name=model_name)\n",
    "\n",
    "pinecone_index = Pinecone.from_texts(\n",
    "    texts=clean_text,\n",
    "    metadatas=clean_meta,\n",
    "    embedding=embeddings,\n",
    "    index_name=\"uiuc-chatbot-deduped\" \n",
    ")"
   ]
  },
  {
   "attachments": {},
   "cell_type": "markdown",
   "metadata": {},
   "source": [
    "# Save CSV"
   ]
  },
  {
   "cell_type": "code",
   "execution_count": 33,
   "metadata": {},
   "outputs": [],
   "source": [
    "# make a dataframe from clean_text, clean_meta, embeddings\n",
    "import pandas as pd\n",
    "df = pd.DataFrame({'text': clean_text, 'metadata': clean_meta})\n",
    "df.to_parquet('../finalized_datasets/v2-Patel_textbook-chunk_size_682-chunk_overlap_100.parquet', index=False)\n",
    "df.to_csv('../finalized_datasets/v2-Patel_textbook-chunk_size_682-chunk_overlap_100.csv', index=False)"
   ]
  },
  {
   "attachments": {},
   "cell_type": "markdown",
   "metadata": {},
   "source": [
    "# ✅ Done with critical steps, the rest is for demonstration only"
   ]
  },
  {
   "attachments": {},
   "cell_type": "markdown",
   "metadata": {},
   "source": [
    "## 3. Easily run simliarity search"
   ]
  },
  {
   "cell_type": "code",
   "execution_count": 10,
   "metadata": {},
   "outputs": [],
   "source": [
    "# Full code to run Pinecone search during inference.\n",
    "\n",
    "# embeddings = HuggingFaceEmbeddings(model_name=model_name)\n",
    "# pinecone.init(api_key=\"***\", environment=\"us-west1-gcp\")\n",
    "# pincecone_index = pinecone.Index(\"uiuc-chatbot\")\n",
    "# vectorstore = Pinecone(index=pincecone_index, embedding_function=embeddings, text_key=\"text\")\n",
    "# question = \"What is a finite state machine in electrical engineering?\"\n",
    "# relevant_context_list = pinecone_index.similarity_search(question, k=3)\n",
    "\n",
    "# for d in relevant_context_list:\n",
    "#     print(d.page_content)\n",
    "#     print(d.metadata['page_number'], d.metadata['textbook_name'])"
   ]
  },
  {
   "cell_type": "code",
   "execution_count": 34,
   "metadata": {},
   "outputs": [
    {
     "name": "stdout",
     "output_type": "stream",
     "text": [
      "The abstract variant shown below outlines desired behavior at a high leve l, and is often ambiguous, incomplete, and even inconsistent. For example, what happens if a user pushes two buttons? What happens if they push unlock while the alarm is sounding? These questions should event ually be considered. However, we can already start to see the intended use of the design: starting f rom a locked car, a user can push “unlock” once to gain entry to the driver’s seat, or push “unlock” twice to op en the car fully for passengers. To lock the car, a user can push the “lock” button at any time. And, if a use r needs help, pressing the “panic” button sets oﬀ an alarm. state action/input next state LOCKED push “unlock” DRIVER DRIVER push “unlock” UNLOCKED (any) push “lock” LOCKED (any) push “panic” ALARM\n",
      "\n",
      "And so there's a couple of packets, one of the problems and one of solutions. And so I'd highly recommend people go through those. There aren't online tools for finite state machines yet. So look at all those examples, solve them. If you don't understand the solution or you find some of the other old exams with examples, I'm sure you can. I'm happy to talk about them in office hours. Come show me your answer, and we'll talk about it. But I think do spend some time on it, because we probably will have an analysis kind of question, where we say, here's a state machine. Figure out what it does, and figure out how it works. Which would be, look at the data path and figure it out. On the final two, I mean, we're going to start looking at the LC3 design. And on the final, you'll be expected to understand that well enough to make use of it. But we have a few weeks for that. Yeah. All right. Yeah. Yeah. I can't find it. Mm-hmm. I can't find it. Yeah. So how do you figure out how to break things up? It's partly, again, dependent on the components. So what you can do is just try to map it onto the set of components you're thinking about using. If you can't make it work in terms of control signals, then either you add components or you add states. And then you have to do one or the other. So it's up to you to make them match, that you have more freedom than I showed you here. Because you can also add components. You can make more sophisticated components. We could have started out, as I mentioned, on Monday, and said, oh, you want to compare 10 things? I know how to build a 10 operand comparator. We're done. Finite state machine. Run comparator. Get answer. Done. All right. We'll start over. OK. Does it make sense? OK. And I think we're out of time. If you want to ask more questions, come on down. Otherwise, we'll start by Noem in on Friday. Thanks. Thank you.\n",
      "\n",
      "Power gating can be tricky—as yo u know, for example, when you turn the power on, you need to make sure that each latch settles into a s table state. Latches may need to be initialized to guarantee that they settle, which requires time after t he power is restored. If you want a deeper understanding of gating issues, take ECE482 , Digital Integrated Circuit Design, or ECE527, System-on-a-Chip Design. 3.1.7 Machine Models Before we dive fully into FSM design, we must point out that we have pla ced a somewhat artiﬁcial restriction on the types of FSMs that we use in our course. Historically, this res triction was given a name, and machines of the type that we have discussed are called Moore machines. Howe ver, outside of introductory classes, almost no one cares about this name, nor about the name for the mo re generalmodel used almost universally in hardware design, Mealy machines. What is the diﬀerence? In a Moore machine , outputs depend only on the internal state bits of the FSM (the values stored in the ﬂip-ﬂops). In a Mealy machine , outputs may be expressed as functions both of internal state and FSM inputs. As we illustrate shortly, the bene ﬁt of using input signals to calculate outputs (the Mealy machine model) is that input bits eﬀectively serve as additional system state, which means that the number of internal state bits can be reduced. The disadvantage of including input signals in the expressions for output signals is that timing characteristics of input signals may not be known, whereas an FSM designer may want to guarantee certain timing characterist ics for output signals. In practice, when such timing guarantees are needed, the designe r simply adds state to the FSM to accom- modate the need, and the problem is solved. The coin-counting FSM t hat we designed for our class’ lab assignments, for example, required that we use a Moore machine mo del to avoidsending the servocontrolling the coin’s path an output pulse that was too short to enforce the F SM’s decision about which way to send the coin. By adding more states to the FSM, we were able to hold the s ervo in place, as desired. 9Fall 2012 students: This part may seem a little redundant, bu t we’re going to remove the earlier mention of clock gating in future semesters.\n",
      "\n",
      "We developed ripple carry adders in this wa y in Notes Set 2.3 and both unsigned and 2’s complement comparators in Notes Set 2.4. Another interesting design strategy is serialization : rather than replicating the bit slice, we can use ﬂip- ﬂops to store the bits passed from one bit slice to the next, then pr esent the stored bits to the same bit slice in the next cycle. Thus, in a serial design, we only need one copy of th e bit slice logic! The area needed for a serial design is usually much less than for a bit-sliced design, but such a design is also usually slower. After illustrating the general design strategy, we’ll consider thes e tradeoﬀs more carefully in the context of a detailed example. Recall the general bit-sliced design ap- proach, as illustrated to the right. Some number of copies of the logic for a single bit slice are connected in sequence. Each bit slice accepts Pbits of operand input and produces Qbits of external output. Adjacent bit slices receive an addi- tionalMbits of information from the previous bit slice and pass along Mbits to the next bit slice, generallyusing some representation chosen by the designer.P Qsecond bit sliceMP Qlast bit sliceMP QM Moutput logicRinitial values . . .first bit sliceresults per−slice outputsper−slice inputsa general bit−sliced design The ﬁrst bit slice is initialized by passing in constant values, and some ca lculation may be performed on the ﬁnal bit slice’s results to produce Rbits more external output.\n",
      "\n",
      "We have a wait state. The finite state machine sits around there until it sees the start signal. When you see the start signal, you go to init. That takes one cycle. Then it goes to prep, where it actually prepares to do a comparison with the second element of the array. Comes down to do the comparison, runs this thing for 32 cycles, and then goes to copy, where it might actually copy the second value into min. That would not be the end of the loop. So it would go around this loop here, the yellow, blue, green, yellow, blue, green. It would do that nine times to compare the other nine elements. And then when it's finished, the smallest number is in min, the register min. So it would go up to wait and finish. And then some other logic could come out and read the smallest number. So we'll go over this again and then finish up the design on Wednesday. Thanks.\n",
      "\n"
     ]
    }
   ],
   "source": [
    "# Easily run similarity search on the Pinecone index\n",
    "question = \"What is a finite state machine in electrical engineering?\"\n",
    "relevant_context_list = pinecone_index.similarity_search(question, k=5)\n",
    "\n",
    "for d in relevant_context_list:\n",
    "    print(d.page_content)\n",
    "    # print(d.metadata['page_number'], d.metadata['textbook_name'])\n",
    "    print()"
   ]
  },
  {
   "cell_type": "code",
   "execution_count": 38,
   "metadata": {},
   "outputs": [
    {
     "name": "stdout",
     "output_type": "stream",
     "text": [
      "Table B.2 lists some of the data movement\n",
      "opcodes in the x86 instruction set.\n",
      "Control\n",
      "The LC-3 has ve control opcodes: BR, JSR/JSRR, JMP, RTI, and\n",
      "TRAP. x86 has all these and more. Table B.3 lists some of the control opcodes in\n",
      "the x86 instruction set.\n",
      "B.1.1.3 Two Address vs. Three Address\n",
      "The LC-3 is a three-address ISA. This description reects the number of operands\n",
      "explicitly specied by the ADD instruction. An add operation requires two\n",
      "source operands (the numbers to be added) and one destination operand to store\n",
      "227.0 Yale-Patt_Sanjay-Patel--Intro_to_Computing_Systems\n",
      "\n",
      "The ISA species the memory organization, register set, and instruction set,\n",
      "including the opcodes, data types, and addressing modes of the instructions in\n",
      "the instruction set.\n",
      "5.1.1 Memory Organization\n",
      "The LC-3 memory has an address space of 216 (i.e., 65,536) locations, and an\n",
      "addressability of 16 bits. Not all 65,536 addresses are actually used for memory\n",
      "locations, but we will leave that discussion for Chapter 9. Since the normal unit\n",
      "of data that is processed in the LC-3 is 16 bits, we refer to 16 bits as one word,\n",
      "and we say the LC-3 is word-addressable.\n",
      "5.1.2 Registers\n",
      "Since it usually takes far more than one clock cycle to obtain data from mem-\n",
      "ory, the LC-3 provides (like almost all computers) additional temporary storage\n",
      "locations that can be accessed in a single clock cycle.\n",
      "The most common type of temporary storage locations, and the one used in\n",
      "the LC-3, is a set of registers. Each register in the set is called a general purpose\n",
      "register (GPR). Like memory locations, registers store information that can be\n",
      "operated on later. The number of bits stored in each register is usually one word.\n",
      "In the LC-3, this means 16 bits.\n",
      "Registers must be uniquely identiable. The LC-3 species eight GPRs, each\n",
      "identied by a three-bit register number. They are referred to as R0, R1,  R7.\n",
      "Figure 5.1 shows a snapshot of the LC-3s register set, sometimes called a register\n",
      "le, with the eight values 1, 3, 5, 7, 2, 4, 6, and 8 stored in R0,  R7,\n",
      "respectively.\n",
      "Figure 5.1\n",
      "A snapshot of the LC-3s register le.\n",
      "105.0 Yale-Patt_Sanjay-Patel--Intro_to_Computing_Systems\n",
      "\n",
      "B.1.3.2 System Registers\n",
      "The LC-3 has two system-level registersthe PC and the PSR. The user-visible\n",
      "x86 has these and more. Figure B.4 shows some of the user-visible system\n",
      "registers in the x86 ISA.\n",
      "Instruction Pointer (RIP)\n",
      "The x86 has the equivalent of the LC-3s 16-bit pro-\n",
      "gram counter. The x86 calls it an instruction pointer (RIP). Since the address\n",
      "space of the x86 is 64 bits, the RIP is a 64-bit register. In 32-bit mode, since\n",
      "the address space is only 32 bits, the instruction pointer (EIP) uses bits [31:0] of\n",
      "the RIP.\n",
      "RFLAGS Register\n",
      "Corresponding to the LC-3s N, Z, and P condition codes,\n",
      "the x86 has a one-bit SF (sign ag) register and a one-bit ZF (zero ag) register.\n",
      "230.0 Yale-Patt_Sanjay-Patel--Intro_to_Computing_Systems\n",
      "\n",
      "The LC-3 does this by assigning an\n",
      "address to each device register. Input is accomplished by a load instruction whose\n",
      "eective address is the address of an input device register. Output is accomplished\n",
      "by a store instruction whose eective address is the address of an output device\n",
      "register. For example, in state 25 of Figure C.2, if the address in MAR is xFE02,\n",
      "MDR is supplied by the KBDR, and the data input will be the last keyboard\n",
      "character typed. On the other hand, if the address in MAR is a legitimate memory\n",
      "address, MDR is supplied by the memory.\n",
      "246.0 Yale-Patt_Sanjay-Patel--Intro_to_Computing_Systems\n",
      "\n",
      "LC-3 ISA\n",
      "A.1 Overview\n",
      "The instruction set architecture (ISA) of the LC-3 is dened as follows:\n",
      "Memory address space 16 bits, corresponding to 216 locations, each\n",
      "containing one word (16 bits). Addresses are numbered from 0 (i.e., x0000)\n",
      "to 65,535 (i.e., xFFFF). Addresses are used to identify memory locations\n",
      "and memory-mapped I/O device registers. Certain regions of memory are\n",
      "reserved for special uses, as described in Figure A.1.\n",
      "xFFFF\n",
      "Figure A.1\n",
      "Memory map of the LC-3\n",
      "200.0 Yale-Patt_Sanjay-Patel--Intro_to_Computing_Systems\n",
      "\n"
     ]
    }
   ],
   "source": [
    "# Easily run similarity search on the Pinecone index\n",
    "question = \"What is a finite state machine in electrical engineering?\"\n",
    "question = \"What is a LC-3 code?\"\n",
    "relevant_context_list = pinecone_index.similarity_search(question, k=5)\n",
    "\n",
    "for d in relevant_context_list:\n",
    "    print(d.page_content)\n",
    "    print(d.metadata['page_number'], d.metadata['textbook_name'])\n",
    "    print()"
   ]
  },
  {
   "cell_type": "code",
   "execution_count": 13,
   "metadata": {},
   "outputs": [
    {
     "name": "stdout",
     "output_type": "stream",
     "text": [
      "The ISA speciﬁes the memory organization, register set, and instruction set,including the opcodes, data types, and addressing modes of the instructions inthe instruction set...Memory OrganizationThe LC-3 memory has an address space of 216(i.e., 65,536) locations, and anaddressability of 16 bits. Not all 65,536 addresses are actually used for memorylocations, but we will leave that discussion for Chapter 9. Since the normal unitof data that is processed in the LC-3 is 16 bits, we refer to 16 bits as oneword,and we say the LC-3 isword-addressable...RegistersSince it usually takes far more than one clock cycle to obtain data from mem-ory, the LC-3 provides (like almost all computers) additional temporary storagelocations that can be accessed in a single clock cycle.The most common type of temporary storage locations, and the one used inthe LC-3, is a set of registers. Each register in the set is called ageneral purposeregister(GPR). Like memory locations, registers store information that can beoperated on later. The number of bits stored in each register is usually one word.In the LC-3, this means 16 bits.Registers must be uniquely identiﬁable. The LC-3 speciﬁes eight GPRs, eachidentiﬁed by a three-bit register number. They are referred to as R0, R1,…R7.Figure 5.1 shows a snapshot of the LC-3’s register set, sometimes called aregisterﬁle,w i t ht h ee i g h tv a l u e s1 ,3 ,5 ,7 ,−2,−4,−6, and−8s t o r e di nR 0 ,…R7,respectively.\n",
      "Figure.A snapshot of the LC-’s register ﬁle.\n",
      "105.0 Yale-Patt_Sanjay-Patel--Intro_to_Computing_Systems\n",
      "LC-ISAA.OverviewThe instruction set architecture (ISA) of the LC-3 is deﬁned as follows:Memory address space16 bits, corresponding to 216locations, eachcontaining one word (16 bits). Addresses are numbered from 0 (i.e., x0000)to 65,535 (i.e., xFFFF). Addresses are used to identify memory locationsand memory-mapped I/O device registers. Certain regions of memory arereserved for special uses, as described in Figure A.1.\n",
      "xFFFFFigure A.Memory map of the LC-\n",
      "200.0 Yale-Patt_Sanjay-Patel--Intro_to_Computing_Systems\n",
      "NOT).Data movementinstructions move information from the processing unitto and from memory and to and from input/output devices. The LC-3 has six datamovement instructions.Controlinstructions are necessary for altering the sequential processing ofinstructions. That is, normally the next instruction executed is the instructioncontained in the next memory location. If a program consists of instructions1,2,3,4...10 located in memory locations A, A+1, A+2, ...A+9, normally theinstructions would be executed in the sequence 1,2,3...10. We will see before weleave Chapter 4, however, that sometimes we will want to change the sequence.Control instructions enable us to do that.An LC-3 instruction consists of 16 bits (one word), numbered from left toright, bit [15] to bit [0]. Bits [15:12] contain the opcode. This means there are atmost 24distinct opcodes. Actually, we use only 15 of the possible four-bit codes.One is reserved for some future use. Bits [11:0] are used to ﬁgure out where theoperands are.Exa\n",
      "s a or a as e er e con en s o reg s er o e con en s o\n",
      "94.0 Yale-Patt_Sanjay-Patel--Intro_to_Computing_Systems\n"
     ]
    }
   ],
   "source": [
    "# Easily run similarity search on the Pinecone index\n",
    "question = \"What is a LC-3?\"\n",
    "relevant_context_list = pinecone_index.similarity_search(question, k=3)\n",
    "\n",
    "for d in relevant_context_list:\n",
    "    print(d.page_content)\n",
    "    print(d.metadata['page_number'], d.metadata['textbook_name'])"
   ]
  },
  {
   "cell_type": "code",
   "execution_count": null,
   "metadata": {},
   "outputs": [],
   "source": [
    "import torch\n",
    "from transformers import pipeline\n",
    "\n",
    "reader = pipeline(\n",
    "  tokenizer='roberta-large',\n",
    "  model='roberta-large',\n",
    "  task='question-answering',\n",
    "  device='cuda:0' if torch.cuda.is_available() else 'cpu'\n",
    ")\n",
    "\n",
    "question=\"What is a programmable logic array (PLA)?\"\n",
    "for doc in relevant_context_list:\n",
    "  answer = reader(question=question, context=doc.page_content)\n",
    "  print(answer)\n",
    "  print(doc.page_content)"
   ]
  }
 ],
 "metadata": {
  "kernelspec": {
   "display_name": "torch",
   "language": "python",
   "name": "python3"
  },
  "language_info": {
   "codemirror_mode": {
    "name": "ipython",
    "version": 3
   },
   "file_extension": ".py",
   "mimetype": "text/x-python",
   "name": "python",
   "nbconvert_exporter": "python",
   "pygments_lexer": "ipython3",
   "version": "3.9.15"
  },
  "orig_nbformat": 4,
  "vscode": {
   "interpreter": {
    "hash": "8513702ffebcddd0565c7cb8940121422c1007cb2eaee71f9f7918f25ee15d0b"
   }
  }
 },
 "nbformat": 4,
 "nbformat_minor": 2
}
