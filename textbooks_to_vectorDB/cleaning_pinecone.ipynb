{
 "cells": [
  {
   "attachments": {},
   "cell_type": "markdown",
   "metadata": {},
   "source": [
    "# Pinecone management functions"
   ]
  },
  {
   "cell_type": "code",
   "execution_count": 30,
   "metadata": {},
   "outputs": [
    {
     "data": {
      "text/plain": [
       "{}"
      ]
     },
     "execution_count": 30,
     "metadata": {},
     "output_type": "execute_result"
    }
   ],
   "source": [
    "# Delete all vectors w/ a metadata property\n",
    "\n",
    "from dotenv import load_dotenv\n",
    "import os\n",
    "\n",
    "# load API keys from globally-availabe .env file\n",
    "load_dotenv(dotenv_path='/mnt/project/chatbotai/huggingface_cache/internal_api_keys.env', override=True)\n",
    "\n",
    "pinecone.init(api_key=os.environ['PINECONE_API_KEY_NEW_ACCT'], environment=\"us-east4-gcp\")\n",
    "\n",
    "import pinecone\n",
    "index = pinecone.Index(\"uiuc-chatbot-deduped\")\n",
    "\n",
    "index.delete(\n",
    "    filter={\n",
    "        \"textbook_name\": \"Yale-Patt_Sanjay-Patel--Intro_to_Computing_Systems\"\n",
    "    }\n",
    ")"
   ]
  },
  {
   "attachments": {},
   "cell_type": "markdown",
   "metadata": {},
   "source": [
    "# Azure spell check API\n",
    "\n",
    "https://www.microsoft.com/en-us/bing/apis/bing-spell-check-api"
   ]
  },
  {
   "cell_type": "code",
   "execution_count": null,
   "metadata": {},
   "outputs": [],
   "source": [
    "import pandas as pd\n",
    "from dotenv import load_dotenv\n",
    "import os\n",
    "\n",
    "# load API keys from globally-availabe .env file\n",
    "load_dotenv(dotenv_path='/mnt/project/chatbotai/huggingface_cache/internal_api_keys.env', override=True)\n",
    "\n",
    "# finalized_datasets/Patel_textbook-chunk_size_682-chunk_overlap_100.parquet\n",
    "df = pd.read_parquet(\"../finalized_datasets/Patel_textbook-chunk_size_682-chunk_overlap_100.parquet\")\n",
    "df"
   ]
  },
  {
   "cell_type": "code",
   "execution_count": null,
   "metadata": {},
   "outputs": [],
   "source": [
    "import json\n",
    "import os \n",
    "from pprint import pprint\n",
    "import requests\n",
    "\n",
    "\n",
    "# text_to_clean = \"ital Logic StructuresInC h a p t e r1 ,w es t a t e dt h a tc o m p u t e r sw e r eb u i l tf r o mv e r yl a r g en u m b e r sof very simple structures. For example, Intel’s Broadwell-E5 microproces-sor, introduced in 2016, contained more than seven billion transistors. Similarly,IBM’s Power9 microprocessor, introduced in 2017, contained eight billion tran-sistors. In this chapter, we will explain how the MOS transistor works (as a logicelement), show how these transistors are connected to form logic gates, and thenshow how logic gates are interconnected to form larger units that are needed toconstruct a computer. In Chapter 4, we will connect those larger units and formac o m p u t e r .But ﬁrst, the transistor..The TransistorMost computers today or rather most microprocessors (which form the core of thecomputer) are constructed out of MOS transistors. MOS stands formetal-oxidesemiconductor.The electrical properties of metal-oxide semiconductors are wellbeyond the scope of what we want to understand in this course. They are belowour lowest level of abstraction, which means that if somehow transistors startmisbehaving, we are at their mercy. However, it is unlikely in this course that wewill have any problems from the transistors.Still, it is useful to know that there are two types of MOS transistors: P-typeand N-type. They both operate “logically,” very similar to the way wall switcheswork.Figure 3.1 shows the most basic of electrical circuits. It consists of (1) apower supply (in this case, the 120 volts that come into your house if you live inthe United States, or the 220 volts if you live in most of the rest of the world),(2) a wall switch, and (3) a lamp (plugged into an outlet in the wall). In order forthe lamp to glow, electrons must ﬂow; in order for electrons to ﬂow, there must beac l o s e dc i r c u i tf r o mt h ep o w e rs u p p l yt ot h el a m pa n db a c kt ot h ep o w e rs u p p l y .\"\n",
    "text_to_clean = \"InC h a p t e r1 ,w es t a t e dt h a tc o m p u t e r s\" #w e r eb u i l tf r o mv e r yl a r g en u m b e r sof very simple structures. For example, Intel’s Broadwell-E5 microproces-sor, introduced in 2016, contained more than seven billion transistors. Similarly,IBM’s Power9 microprocessor, introduced in 2017, contained eight billion tran-sistors. In this chapter, we will explain how the MOS transistor works (as a logicelement), show how these transistors are connected to form logic gates, and thenshow how logic gates are interconnected to form larger units that are needed toconstruct a computer. In Chapter 4, we will connect those larger units and formac o m p u t e r .But ﬁrst, the transistor..The TransistorMost computers today or rather most microprocessors (which form the core of thecomputer) are constructed out of MOS transistors. MOS stands formetal-oxidesemiconductor.The electrical properties of metal-oxide semiconductors are wellbeyond the scope of what we want to understand in this course. They are belowour lowest level of abstraction, which means that if somehow transistors startmisbehaving, we are at their mercy. However, it is unlikely in this course that wewill have any problems from the transistors.Still, it is useful to know that there are two types of MOS transistors: P-typeand N-type. They both operate “logically,” very similar to the way wall switcheswork.Figure 3.1 shows the most basic of electrical circuits. It consists of (1) apower supply (in this case, the 120 volts that come into your house if you live inthe United States, or the 220 volts if you live in most of the rest of the world),(2) a wall switch, and (3) a lamp (plugged into an outlet in the wall). In order forthe lamp to glow, electrons must ﬂow; in order for electrons to ﬂow, there must beac l o s e dc i r c u i tf r o mt h ep o w e rs u p p l yt ot h el a m pa n db a c kt ot h ep o w e rs u p p l y .\"\n",
    "\n",
    "'''\n",
    "Documentation: https://learn.microsoft.com/en-us/bing/search-apis/bing-spell-check/how-to/sending-requests\n",
    "\n",
    "mode — Used to specify the type of spelling and grammar checks to perform. Possible values are Proof (default) and Spell.\n",
    "\n",
    "Use Proof mode for document scenarios. Proof mode provides the most comprehensive checks, adding capitalization, basic punctuation, and other features to aid document creation, but it's available only in the en-US --  In this mode, the text string is limited to 4,096 characters.\n",
    "Use Spell mode for search scenarios. Spell mode is more aggressive in order to return better search results. text string is limited to 130 characters.\n",
    "'''\n",
    "\n",
    "# Add your Bing Search V7 subscription key and endpoint to your environment variables.\n",
    "subscription_key = os.environ['BING_API']\n",
    "# endpoint = \"https://api.bing.microsoft.com/v7.0/search\"\n",
    "endpoint = \"https://api.bing.microsoft.com/v7.0/spellcheck\"\n",
    "\n",
    "\n",
    "# Construct a request\n",
    "mkt = 'en-US'\n",
    "# params = { 'q': query, 'mkt': mkt , '_type': 'SpellCheck'}\n",
    "data = {'text': text_to_clean}\n",
    "\n",
    "params = {\n",
    "    'mkt':'en-us',\n",
    "    'mode':'proof'\n",
    "    }\n",
    "\n",
    "headers = {\n",
    "    'Content-Type': 'application/x-www-form-urlencoded',\n",
    "    'Ocp-Apim-Subscription-Key': subscription_key,\n",
    "}\n",
    "\n",
    "# Call the API\n",
    "try:\n",
    "    # response = requests.get(endpoint, headers=headers, params=params)\n",
    "    response = requests.post(endpoint, headers=headers, params=params, data=data)\n",
    "    response.raise_for_status()\n",
    "    # print(\"Headers:\")\n",
    "    # print(response.headers)\n",
    "\n",
    "    corrected_spelling = response.json()['queryContext']['alteredQuery']\n",
    "    print('Input: ', query)\n",
    "    print('Output:', corrected_spelling)\n",
    "    \n",
    "except Exception as ex:\n",
    "    pprint(response.json())\n",
    "    raise ex\n",
    "    "
   ]
  }
 ],
 "metadata": {
  "kernelspec": {
   "display_name": "torch",
   "language": "python",
   "name": "python3"
  },
  "language_info": {
   "codemirror_mode": {
    "name": "ipython",
    "version": 3
   },
   "file_extension": ".py",
   "mimetype": "text/x-python",
   "name": "python",
   "nbconvert_exporter": "python",
   "pygments_lexer": "ipython3",
   "version": "3.9.15"
  },
  "orig_nbformat": 4
 },
 "nbformat": 4,
 "nbformat_minor": 2
}
