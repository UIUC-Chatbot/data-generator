{
 "cells": [
  {
   "cell_type": "code",
   "execution_count": null,
   "metadata": {},
   "outputs": [],
   "source": [
    "# Delete all vectors w/ a metadata property\n",
    "\n",
    "import pinecone\n",
    "index = pinecone.Index(\"uiuc-chatbot-deduped\")\n",
    "\n",
    "index.delete(\n",
    "    filter={\n",
    "        \"textbook_name\": \"Yale-Patt_Sanjay-Patel--Intro_to_Computing_Systems\"\n",
    "    }\n",
    ")"
   ]
  }
 ],
 "metadata": {
  "language_info": {
   "name": "python"
  },
  "orig_nbformat": 4
 },
 "nbformat": 4,
 "nbformat_minor": 2
}
