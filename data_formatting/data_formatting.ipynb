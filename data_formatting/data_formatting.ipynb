{
 "cells": [
  {
   "attachments": {},
   "cell_type": "markdown",
   "metadata": {},
   "source": [
    "Using spacy <br>\n",
    "```\n",
    "conda install -c conda-forge spacy\n",
    "conda install -c conda-forge cupy\n",
    "python -m spacy download en_core_web_trf\n",
    "\n",
    "pip install langchain pinecone-client PyPDF2\n",
    "# maybe: conda install -c conda-forge -y ipykernel=6\n",
    "```\n",
    "\n",
    "Note: \n",
    "* Flan T5 XL max length is 512\n",
    "* Flan T5 XXL max length is 1024"
   ]
  },
  {
   "cell_type": "code",
   "execution_count": 46,
   "metadata": {},
   "outputs": [],
   "source": [
    "from typing import List\n",
    "def load_from_txt_file(filename: str) -> List:\n",
    "    # Open the file in read mode\n",
    "    with open(filename, \"r\", encoding='utf-8') as file:\n",
    "        # Read the contents of the file\n",
    "        text = file.read()\n",
    "    # Split the contents of the file into a list of sentences\n",
    "    sentences = text.splitlines()\n",
    "    return sentences\n",
    "\n",
    "textbook = load_from_txt_file('cleaned_yale_patt_pages.txt')\n",
    "# load_from_txt_file('cleaned_yale_patt_pages.txt')\n",
    "\n",
    "textbook = ' '.join(textbook)"
   ]
  },
  {
   "cell_type": "code",
   "execution_count": 48,
   "metadata": {},
   "outputs": [
    {
     "data": {
      "text/plain": [
       "1526415"
      ]
     },
     "execution_count": 48,
     "metadata": {},
     "output_type": "execute_result"
    }
   ],
   "source": [
    "len(textbook)"
   ]
  },
  {
   "attachments": {},
   "cell_type": "markdown",
   "metadata": {},
   "source": [
    "## 1. Split the textbook string into context-size contexts."
   ]
  },
  {
   "cell_type": "code",
   "execution_count": 70,
   "metadata": {},
   "outputs": [
    {
     "name": "stderr",
     "output_type": "stream",
     "text": [
      "Token indices sequence length is longer than the specified maximum sequence length for this model (2471 > 512). Running this sequence through the model will result in indexing errors\n",
      "Created a chunk of size 2471, which is longer than the specified 250\n",
      "Created a chunk of size 911, which is longer than the specified 250\n",
      "Created a chunk of size 1311, which is longer than the specified 250\n",
      "Created a chunk of size 279, which is longer than the specified 250\n",
      "Created a chunk of size 373, which is longer than the specified 250\n",
      "Created a chunk of size 261, which is longer than the specified 250\n",
      "Created a chunk of size 270, which is longer than the specified 250\n",
      "Created a chunk of size 257, which is longer than the specified 250\n",
      "Created a chunk of size 278, which is longer than the specified 250\n",
      "Created a chunk of size 266, which is longer than the specified 250\n",
      "Created a chunk of size 261, which is longer than the specified 250\n",
      "Created a chunk of size 698, which is longer than the specified 250\n",
      "Created a chunk of size 317, which is longer than the specified 250\n",
      "Created a chunk of size 429, which is longer than the specified 250\n",
      "Created a chunk of size 269, which is longer than the specified 250\n",
      "Created a chunk of size 314, which is longer than the specified 250\n",
      "Created a chunk of size 288, which is longer than the specified 250\n",
      "Created a chunk of size 437, which is longer than the specified 250\n",
      "Created a chunk of size 275, which is longer than the specified 250\n",
      "Created a chunk of size 383, which is longer than the specified 250\n",
      "Created a chunk of size 348, which is longer than the specified 250\n",
      "Created a chunk of size 268, which is longer than the specified 250\n",
      "Created a chunk of size 357, which is longer than the specified 250\n",
      "Created a chunk of size 294, which is longer than the specified 250\n",
      "Created a chunk of size 374, which is longer than the specified 250\n",
      "Created a chunk of size 274, which is longer than the specified 250\n",
      "Created a chunk of size 288, which is longer than the specified 250\n",
      "Created a chunk of size 596, which is longer than the specified 250\n",
      "Created a chunk of size 318, which is longer than the specified 250\n",
      "Created a chunk of size 544, which is longer than the specified 250\n",
      "Created a chunk of size 256, which is longer than the specified 250\n",
      "Created a chunk of size 525, which is longer than the specified 250\n",
      "Created a chunk of size 507, which is longer than the specified 250\n",
      "Created a chunk of size 515, which is longer than the specified 250\n",
      "Created a chunk of size 383, which is longer than the specified 250\n",
      "Created a chunk of size 432, which is longer than the specified 250\n",
      "Created a chunk of size 342, which is longer than the specified 250\n",
      "Created a chunk of size 838, which is longer than the specified 250\n",
      "Created a chunk of size 298, which is longer than the specified 250\n",
      "Created a chunk of size 352, which is longer than the specified 250\n",
      "Created a chunk of size 422, which is longer than the specified 250\n",
      "Created a chunk of size 473, which is longer than the specified 250\n",
      "Created a chunk of size 254, which is longer than the specified 250\n",
      "Created a chunk of size 334, which is longer than the specified 250\n",
      "Created a chunk of size 289, which is longer than the specified 250\n",
      "Created a chunk of size 595, which is longer than the specified 250\n",
      "Created a chunk of size 455, which is longer than the specified 250\n",
      "Created a chunk of size 360, which is longer than the specified 250\n",
      "Created a chunk of size 584, which is longer than the specified 250\n",
      "Created a chunk of size 299, which is longer than the specified 250\n",
      "Created a chunk of size 427, which is longer than the specified 250\n",
      "Created a chunk of size 280, which is longer than the specified 250\n",
      "Created a chunk of size 322, which is longer than the specified 250\n",
      "Created a chunk of size 316, which is longer than the specified 250\n",
      "Created a chunk of size 279, which is longer than the specified 250\n",
      "Created a chunk of size 370, which is longer than the specified 250\n",
      "Created a chunk of size 453, which is longer than the specified 250\n",
      "Created a chunk of size 358, which is longer than the specified 250\n",
      "Created a chunk of size 261, which is longer than the specified 250\n",
      "Created a chunk of size 340, which is longer than the specified 250\n",
      "Created a chunk of size 415, which is longer than the specified 250\n",
      "Created a chunk of size 339, which is longer than the specified 250\n",
      "Created a chunk of size 351, which is longer than the specified 250\n",
      "Created a chunk of size 279, which is longer than the specified 250\n",
      "Created a chunk of size 269, which is longer than the specified 250\n",
      "Created a chunk of size 660, which is longer than the specified 250\n",
      "Created a chunk of size 276, which is longer than the specified 250\n",
      "Created a chunk of size 257, which is longer than the specified 250\n",
      "Created a chunk of size 539, which is longer than the specified 250\n",
      "Created a chunk of size 342, which is longer than the specified 250\n",
      "Created a chunk of size 335, which is longer than the specified 250\n",
      "Created a chunk of size 398, which is longer than the specified 250\n",
      "Created a chunk of size 279, which is longer than the specified 250\n",
      "Created a chunk of size 394, which is longer than the specified 250\n",
      "Created a chunk of size 362, which is longer than the specified 250\n",
      "Created a chunk of size 508, which is longer than the specified 250\n",
      "Created a chunk of size 317, which is longer than the specified 250\n",
      "Created a chunk of size 273, which is longer than the specified 250\n",
      "Created a chunk of size 258, which is longer than the specified 250\n",
      "Created a chunk of size 406, which is longer than the specified 250\n",
      "Created a chunk of size 290, which is longer than the specified 250\n",
      "Created a chunk of size 292, which is longer than the specified 250\n",
      "Created a chunk of size 338, which is longer than the specified 250\n",
      "Created a chunk of size 266, which is longer than the specified 250\n",
      "Created a chunk of size 281, which is longer than the specified 250\n",
      "Created a chunk of size 290, which is longer than the specified 250\n",
      "Created a chunk of size 300, which is longer than the specified 250\n",
      "Created a chunk of size 306, which is longer than the specified 250\n",
      "Created a chunk of size 308, which is longer than the specified 250\n",
      "Created a chunk of size 253, which is longer than the specified 250\n",
      "Created a chunk of size 299, which is longer than the specified 250\n",
      "Created a chunk of size 296, which is longer than the specified 250\n",
      "Created a chunk of size 286, which is longer than the specified 250\n",
      "Created a chunk of size 306, which is longer than the specified 250\n",
      "Created a chunk of size 381, which is longer than the specified 250\n",
      "Created a chunk of size 276, which is longer than the specified 250\n",
      "Created a chunk of size 284, which is longer than the specified 250\n",
      "Created a chunk of size 267, which is longer than the specified 250\n",
      "Created a chunk of size 446, which is longer than the specified 250\n",
      "Created a chunk of size 454, which is longer than the specified 250\n",
      "Created a chunk of size 363, which is longer than the specified 250\n",
      "Created a chunk of size 330, which is longer than the specified 250\n",
      "Created a chunk of size 253, which is longer than the specified 250\n",
      "Created a chunk of size 435, which is longer than the specified 250\n",
      "Created a chunk of size 510, which is longer than the specified 250\n",
      "Created a chunk of size 329, which is longer than the specified 250\n",
      "Created a chunk of size 252, which is longer than the specified 250\n",
      "Created a chunk of size 397, which is longer than the specified 250\n",
      "Created a chunk of size 271, which is longer than the specified 250\n",
      "Created a chunk of size 496, which is longer than the specified 250\n",
      "Created a chunk of size 474, which is longer than the specified 250\n",
      "Created a chunk of size 261, which is longer than the specified 250\n",
      "Created a chunk of size 323, which is longer than the specified 250\n",
      "Created a chunk of size 338, which is longer than the specified 250\n",
      "Created a chunk of size 358, which is longer than the specified 250\n",
      "Created a chunk of size 282, which is longer than the specified 250\n",
      "Created a chunk of size 307, which is longer than the specified 250\n",
      "Created a chunk of size 551, which is longer than the specified 250\n",
      "Created a chunk of size 346, which is longer than the specified 250\n",
      "Created a chunk of size 481, which is longer than the specified 250\n",
      "Created a chunk of size 264, which is longer than the specified 250\n",
      "Created a chunk of size 300, which is longer than the specified 250\n",
      "Created a chunk of size 723, which is longer than the specified 250\n",
      "Created a chunk of size 532, which is longer than the specified 250\n",
      "Created a chunk of size 619, which is longer than the specified 250\n",
      "Created a chunk of size 878, which is longer than the specified 250\n",
      "Created a chunk of size 337, which is longer than the specified 250\n",
      "Created a chunk of size 493, which is longer than the specified 250\n",
      "Created a chunk of size 408, which is longer than the specified 250\n",
      "Created a chunk of size 710, which is longer than the specified 250\n",
      "Created a chunk of size 287, which is longer than the specified 250\n",
      "Created a chunk of size 583, which is longer than the specified 250\n",
      "Created a chunk of size 1022, which is longer than the specified 250\n",
      "Created a chunk of size 544, which is longer than the specified 250\n",
      "Created a chunk of size 485, which is longer than the specified 250\n",
      "Created a chunk of size 292, which is longer than the specified 250\n",
      "Created a chunk of size 470, which is longer than the specified 250\n",
      "Created a chunk of size 661, which is longer than the specified 250\n",
      "Created a chunk of size 297, which is longer than the specified 250\n",
      "Created a chunk of size 345, which is longer than the specified 250\n",
      "Created a chunk of size 379, which is longer than the specified 250\n",
      "Created a chunk of size 471, which is longer than the specified 250\n",
      "Created a chunk of size 271, which is longer than the specified 250\n",
      "Created a chunk of size 486, which is longer than the specified 250\n",
      "Created a chunk of size 330, which is longer than the specified 250\n",
      "Created a chunk of size 300, which is longer than the specified 250\n",
      "Created a chunk of size 656, which is longer than the specified 250\n"
     ]
    },
    {
     "name": "stdout",
     "output_type": "stream",
     "text": [
      "2066\n"
     ]
    }
   ],
   "source": [
    "from langchain import text_splitter\n",
    "from transformers import AutoTokenizer\n",
    "from langchain.text_splitter import CharacterTextSplitter, NLTKTextSplitter, SpacyTextSplitter, RecursiveCharacterTextSplitter\n",
    "\n",
    "# good examples here: https://langchain.readthedocs.io/en/latest/modules/utils/combine_docs_examples/textsplitter.html\n",
    "tokenizer = AutoTokenizer.from_pretrained('google/flan-t5-xl')\n",
    "text_splitter = CharacterTextSplitter.from_huggingface_tokenizer(tokenizer, chunk_size=250, chunk_overlap=50, separator = \". \",)\n",
    "texts = text_splitter.split_text(textbook)\n",
    "print(len(texts))"
   ]
  },
  {
   "attachments": {},
   "cell_type": "markdown",
   "metadata": {},
   "source": [
    "## 2. Embed each context, and save it to a vector database, this one is hosted by Pinecone."
   ]
  },
  {
   "cell_type": "code",
   "execution_count": 76,
   "metadata": {},
   "outputs": [],
   "source": [
    "from langchain.vectorstores import Pinecone\n",
    "from langchain.embeddings import HuggingFaceEmbeddings #OpenAIEmbeddings, \n",
    "import pinecone\n",
    "# See the docs here, (search for pinecone): https://langchain.readthedocs.io/en/latest/reference/modules/vectorstore.html\n",
    "\n",
    "pinecone.init(api_key=\"75379e2d-a2ce-47b8-a444-0340c6c34bea\", environment=\"us-west1-gcp\")\n",
    "model_name = \"sentence-transformers/multi-qa-MiniLM-L6-cos-v1\"\n",
    "embeddings = HuggingFaceEmbeddings(model_name=model_name, device=\"cuda:1\")\n",
    "pinecone = Pinecone.from_texts(\n",
    "    texts,\n",
    "    embeddings,\n",
    "    index_name=\"uiuc-chatbot\" \n",
    ")\n",
    "\n",
    "# see the Pinecone index here (requires auth): https://app.pinecone.io/organizations/-NF9ryDGePT7APP6wrFM/projects/us-west1-gcp:32dcf9c/indexes/uiuc-chatbot-2"
   ]
  },
  {
   "attachments": {},
   "cell_type": "markdown",
   "metadata": {},
   "source": [
    "## 3. Easily run simliarity search"
   ]
  },
  {
   "cell_type": "code",
   "execution_count": 91,
   "metadata": {},
   "outputs": [
    {
     "name": "stdout",
     "output_type": "stream",
     "text": [
      "One ﬁnal example: a very old soft drink machine, when drinks sold for 15 cents, and the machine would only take nickels (5 cents) and dimes (10 cents) and not be able to give change. The state of the machine can be described as the amount of money inserted, and whether the machine is open (so one can remove a bottle). There are only three possible states: A. The lock is open, so a bottle can be (or has been!) removed. B. The lock is not open, but 5 cents has been inserted. C. The lock is not open, but 10 cents has been inserted. 3.6.3 The Finite State Machine and Its State Diagram We have seen that a state is a snapshot of all relevant parts of a system at a particular point in time. At other times, that system can be in other states\n",
      "\n",
      "A more precise term for this hardware is a central processing unit (CPU), or simply a processor ormicroprocessor . This textbook is primarily about the processor and the programs that are executed by the processor. 1.4.1 A (Very) Little History for a (Lot) Better Perspective Before we get into the detail of how the processor and the software associated with it work, we should take a moment and note the enormous and unparalleled leaps of performance that the computing industry has made in the relatively short time computers have been around. After all, it wasn’t until the 1940s that the first computers showed their faces. One of the first computers was the ENIAC (the Electronic Numerical Integrator and Calculator), a general purpose electronic computer that could be reprogrammed for different tasks. It was designed and built in 1943–1945 at the Univ ersity of Pennsylvania by Presper Eckert and his colleagues. It contained more than 17,000 vacuum tubes. It was approximately 8 feet high, more than 100 feet wide, and about 3 feet deep (about 300 square feet of floor space)\n",
      "\n",
      "(We have provided nine states. You will not need all of them. Use only as many as you need): ★3.62 You are taking three courses, one each in computing (C), engineering (E), and math (M). In each course, you periodically receive assignments. You never receive more than one assignment at a time. You also never receive another assignment in a course if you currently have an assignment in that course that has not been completed. You must procrastinate (i.e., do nothing) unless you have unﬁnished assignments in both computing and engineering. Design a ﬁnite state machine to describe the state of the work you have to do and whether you are working or procrastinating. a.Label each state with the unﬁnished assignments (with letters C,E,M) for when you are in that state. There are far more states provided than you actually need. Use only what you need. b.There are six inputs: c, e, m, c,e,m. c, e, m refer to you receiving an assignment\n",
      "\n",
      "At other times, that system can be in other states. We have described four systems: a combination lock, a basketball game, a tic-tac- toe machine, and a very old soft drink machine when a bottle of cola cost only3.6 Sequential Logic Circuits 83 15 cents. The behavior of each of these systems can be speciﬁed by a ﬁnite state machine , and represented as a state diagram . A ﬁnite state machine consists of ﬁve elements: 1. a ﬁnite number of states 2. a ﬁnite number of external inputs 3. a ﬁnite number of external outputs 4. an explicit speciﬁcation of all state transitions 5. an explicit speciﬁcation of what determines each external output value. The set of states represents all possible situations (or snapshots) that the sys- tem can be in. Each state transition describes what it takes to get from one state to another. Let’s examine the ﬁnite state machines for these four systems. The Combination Lock A state diagram is a convenient representation of a ﬁnite state machine\n",
      "\n",
      "Note that all the external outputs of the ﬁnite state machine in Figure 4.3 have arrowheads that are not ﬁlled in. These outputs control the processing through- out the computer. For example, one of these outputs (two bits) is ALUK, which controls the operation performed in the ALU (ADD, AND, or NOT) during the current clock cycle. Another output is GateALU, which determines whether or not the output of the ALU is provided to the processor bus during the current clock cycle. The complete description of the data path, control, and ﬁnite state machine for one implementation of the LC-3 is the subject of Appendix C. 4.3 Instruction Processing The central idea in the von Neumann model of computer processing is that the program and data are both stored as sequences of bits in the computer’s memory, and the program is executed one instruction at a time under the direction of the control unit. 4.3.1 The Instruction The most basic unit of computer processing is the instruction. It is made up of two parts, the opcode (what the instruction does) and the operands (who it does it to!)\n",
      "\n"
     ]
    }
   ],
   "source": [
    "# Easily run similarity search on the Pinecone index\n",
    "question = \"What is a finite state machine electrical engineering?\"\n",
    "relevant_context_list = pinecone.similarity_search(question, k=5)\n",
    "\n",
    "for d in relevant_context_list:\n",
    "    print(d.page_content)\n",
    "    print()"
   ]
  },
  {
   "cell_type": "code",
   "execution_count": 90,
   "metadata": {},
   "outputs": [
    {
     "name": "stdout",
     "output_type": "stream",
     "text": [
      "{'score': 1.243356139617527e-13, 'start': 6, 'end': 17, 'answer': 'ASCII Codes'}\n",
      "\n",
      "{'score': 3.520023383885018e-09, 'start': 611, 'end': 615, 'answer': 'LC-3'}\n",
      "\n",
      "{'score': 0.0005357519839890301, 'start': 63, 'end': 71, 'answer': 'voltages'}\n",
      "\n",
      "{'score': 8.161070041978746e-09, 'start': 41, 'end': 56, 'answer': 'condition codes'}\n",
      "\n",
      "{'score': 7.408106788599211e-13, 'start': 45, 'end': 50, 'answer': 'ASCII'}\n",
      "\n"
     ]
    }
   ],
   "source": [
    "import torch\n",
    "from transformers import pipeline\n",
    "\n",
    "reader = pipeline(\n",
    "  tokenizer='deepset/electra-base-squad2',\n",
    "  model='deepset/electra-base-squad2',\n",
    "  task='question-answering',\n",
    "  device='cuda:1' if torch.cuda.is_available() else 'cpu'\n",
    ")\n",
    "\n",
    "for doc in relevant_context_list:\n",
    "  answer = reader(question=question, context=doc.page_content)\n",
    "  print(answer)\n",
    "  print()\n",
    "\n",
    "\n",
    "\n",
    "\n",
    "# model_name = \"deepset/electra-base-squad2\"\n",
    "# load the reader model into a question-answering pipeline\n",
    "# reader = pipeline(tokenizer=model_name, model=model_name, task=\"question-answering\", device=device)\n"
   ]
  },
  {
   "cell_type": "code",
   "execution_count": null,
   "metadata": {},
   "outputs": [],
   "source": []
  },
  {
   "cell_type": "code",
   "execution_count": 72,
   "metadata": {},
   "outputs": [
    {
     "data": {
      "text/plain": [
       "['We have continually been blessed with enthusiastic, knowledgeable, and car- ing TAs who regularly challenge us and provide useful insights into helping us explain things better. Again, the list is too long – more than 100 at this point. Almost all were very good; still, we want to mention a few who were particularly helpful',\n",
       " 'Stephen Pruett, Siavash Zangeneh, Meiling Tang, Ali Fakhrzadehgan, Sabee Grewal, William Hoenig, Matthew Normyle, Ben Lin, Ameya Chaudhari,Preface xxvii Nikhil Garg, Lauren Guckert, Jack Koenig, Saijel Mokashi, Sruti Nuthalapati, Faruk Guvenilir, Milad Hashemi, Aater Suleman, Chang Joo Lee, Bhargavi Narayanasetty, RJ Harden, Veynu Narasiman, Eiman Ebrahimi, Khubaib, Allison Korczynski, Pratyusha Nidamaluri, Christopher Wiley, Cameron Davison, Lisa de la Fuente, Phillip Duran, Jose Joao, Rustam Miftakhutdinov, Nady Obeid, Linda Bigelow, Jeremy Carillo, Aamir Hasan, Basit Sheik, Erik Johnson, Tsung- Wei Huang, Matthew Potok, Chun-Xun Lin, Jianxiong Gao, Danny Kim, and Iou-Jen Liu',\n",
       " 'Several former students, former colleagues, and friends reviewed chapters in the book. We particularly wish to thank Rich Belgard, Alba Cristina de Melo, Chirag Sakhuja, Sabee Grewal, Pradip Bose, and Carlos Villavieja for their help doing this. Their insights have made a much more readable version of the material. We have been delighted by the enthusiastic response of our colleagues at both The University of Texas at Austin and the University of Illinois, Urbana- Champaign, who have taught from the book and shared their insights with us: Derek Chiou, Jacob Abraham, Ramesh Yerraballi, Nina Telang, and Aater Sule- man at Texas, and Yuting Chen, Sayan Mitra, Volodymyr Kindratenko, Yih-Chun Hu, Seth Hutchinson, Steve Lumetta, Juan Jaramillo, Pratik Lahiri, and Wen-mei Hwu at Illinois. Thank you. Also, there are those who have contributed in many diﬀerent and often unique ways',\n",
       " 'Thank you. Also, there are those who have contributed in many diﬀerent and often unique ways. Space dictates that we leave out the detail and simply list them and say thank you. Amanda, Bryan, and Carissa Hwu, Mateo Valero, Rich Belgard, Aman Aulakh, Minh Do, Milena Milenkovic, Steve Lumetta, Brian Evans, Jon Valvano, Susan Kornﬁeld, Ed DeFranco, Evan Gsell, Tom Conte, Dave Nagle, Bruce Shriver, Bill Sayle, Dharma Agarwal, David Lilja, Michelle Chapman. Finally, if you will indulge the ﬁrst author a bit: This book is about developing a strong foundation in the fundamentals with the fervent belief that once that is accomplished, students can go as far as their talent and energy can take them. This objective was instilled in me by the professor who taught me how to be a professor, Professor William K. Linvill. It has been more than 50 years since I was in his classroom, but I still treasure the example he set',\n",
       " 'Linvill. It has been more than 50 years since I was in his classroom, but I still treasure the example he set. AF i n a lW o r d We are hopeful that you will enjoy teaching or studying from this third edition of our book. However, as we said in the prefaces to both previous editions, we are mindful that the current version of the book will always be a work in progress, and both of us welcome your comments on any aspect of it. You can reach us by email at patt@ece.utexas.edu and sjp@illinois.edu. We hope you will. Yale N. Patt Sanjay J. Patel September, 20191CHAPTER Welcome Aboard 1.1 What We Will Try to Do Welcome to From Bits and Gates to C and Beyond . Our intent is to introduce you over the next xxx pages to the world of computing. As we do so, we have one objective above all others: to show you very clearly that there is no magic to computing',\n",
       " 'Our intent is to introduce you over the next xxx pages to the world of computing. As we do so, we have one objective above all others: to show you very clearly that there is no magic to computing. The computer is a deterministic system—every time we hit it over the head in the same way and in the same place (provided, of course, it was in the same starting condition), we get the same response. The computer is not an electronic genius; on the contrary, if anything, it is an electronic idiot, doing exactly what we tell it to do. It has no mind of its own. What appears to be a very complex organism is really just a very large, sys- tematically interconnected collection of very simple parts. Our job throughout this book is to introduce you to those very simple parts and, step-by-step, build the interconnected structure that you know by the name computer . Like a house, we will start at the bottom, construct the foundation ﬁrst, and then go on to add layer after layer, as we get closer and closer to what most people know as a full-blown computer',\n",
       " 'Like a house, we will start at the bottom, construct the foundation ﬁrst, and then go on to add layer after layer, as we get closer and closer to what most people know as a full-blown computer. Each time we add a layer, we will explain what we are doing, tying the new ideas to the underlying fabric. Our goal is that when we are done, you will be able to write programs in a computer language such as C using the sophisticated features of that language and to understand what is going on underneath, inside the computer. 1.2 How We Will Get There We will start (in Chapter 2) by ﬁrst showing that any information processed by the computer is represented by a sequence of 0s and 1s. That is, we will encode all information as sequences of 0s and 1s. For example, one encoding of the letter athat is commonly used is the sequence 01100001. One encoding of the decimal number 35is the sequence 00100011',\n",
       " 'For example, one encoding of the letter athat is commonly used is the sequence 01100001. One encoding of the decimal number 35is the sequence 00100011. We will see how to perform operations on such encoded information.2 chapter 1 WelcomeAboard Once we are comfortable with information represented as codes made up of 0s and 1s and operations (addition, for example) being performed on these repre- sentations, we will begin the process of showing how a computer works. Starting in Chapter 3, we will note that the computer is a piece of electronic equipment and, as such, consists of electronic parts operated by voltages and interconnected by wires. Every wire in the computer, at every moment in time, is at either a high voltage or a low voltage. For our representation of 0s and 1s, we do not specify exactly how high. We only care whether there is or is not a large enough voltage relative to 0 volts to identify it as a 1',\n",
       " 'For our representation of 0s and 1s, we do not specify exactly how high. We only care whether there is or is not a large enough voltage relative to 0 volts to identify it as a 1. That is, the absence or presence of a rea- sonable voltage relative to 0 volts is what determines whether it represents the value 0 or the value 1. In Chapter 3, we will see how the transistors that make up today’s micro- processor (the heart of the modern computer) work. We will further see how those transistors are combined into larger structures that perform operations, such as addition, and into structures that allow us to save information for later use. In Chapter 4, we will combine these larger structures into the von Neumann machine, a basic model that describes how a computer works. We will also begin to study a simple computer, the LC-3. We will continue our study of the LC-3 in Chapter 5. LC-3 stands for Little Computer 3',\n",
       " 'We will also begin to study a simple computer, the LC-3. We will continue our study of the LC-3 in Chapter 5. LC-3 stands for Little Computer 3. We actually started with LC-1 but needed two more shots at it before (we think) we got it right! The LC-3 has all the important characteristics of the microprocessors that you may have already heard of, for example, the Intel 8088, which was used in the ﬁrst IBM PCs back in 1981. Or the Motorola 68000, which was used in the Macintosh, vintage 1984. Or the Pentium IV, one of the high-performance microprocessors of choice for the PC in the year 2003. Or today’s laptop and desktop microprocessors, the Intel Core processors – I3, I5, and I7. Or even the ARM microprocessors that are used in most smartphones today. That is, the LC-3 has all the important characteristics of these “real” microprocessors without being so complicated that it gets in the way of your understanding',\n",
       " 'That is, the LC-3 has all the important characteristics of these “real” microprocessors without being so complicated that it gets in the way of your understanding. Once we understand how the LC-3 works, the next step is to program it, ﬁrst in its own language (Chapter 5 and Chapter 6), and then in a language called assembly language that is a little bit easier for humans to work with (Chap- ter 7). Chapter 8 introduces representations of information more complex than a simple number – stacks, queues, and character strings, and shows how to imple- ment them. Chapter 9 deals with the problem of getting information into (input) and out of (output) the LC-3. Chapter 9 also deals with services provided to a computer user by the operating system. We conclude the ﬁrst half of the book (Chapter 10) with an extensive example, the simulation of a calculator, an app on most smartphones today. In the second half of the book (Chapters 11–20), we turn our attention to high-level programming concepts, which we introduce via the C and C++ programming languages',\n",
       " 'In the second half of the book (Chapters 11–20), we turn our attention to high-level programming concepts, which we introduce via the C and C++ programming languages. High-level languages enable programmers to more eﬀectively develop complex software by abstracting away the details of the under- lying hardware. C and C++ in particular oﬀer a rich set of programmer-friendly constructs, but they are close enough to the hardware that we can examine how code is transformed to execute on the layers below. Our goal is to enable you to write short, simple programs using the core parts of these programming1.3 Two Recurring Themes 3 languages, all the while being able to comprehend the transformations required for your code to execute on the underlying hardware. We’ll start with basic topics in C such as variables and operators (Chapter 12), control structures (Chapter 13), and functions (Chapter 14). We’ll see that these are straightforward extensions of concepts introduced in the first half of the textbook',\n",
       " 'We’ll see that these are straightforward extensions of concepts introduced in the first half of the textbook. We then move on to programming concepts in Chapters 15–19 that will enable us to create more powerful pieces of code: Testing and Debugging (Chapter 15), Pointers and Arrays in C (Chapter 16), Recursion (Chapter 17), Input and Output in C (Chapter 18), and Data Structures in C (Chapter 19). Chapters 20 is devoted to C++, which we present as an evolution of the C programming language. Because the C++ language was initially deﬁned as a superset of C, many of the concepts covered in Chapters 11–19 directly map onto the C++ language. We will introduce some of the core notions in C++ that have helped establish C++ as one of the most popular languages for developing real-world software. Chapter 20 is our Introduction to C++',\n",
       " 'We will introduce some of the core notions in C++ that have helped establish C++ as one of the most popular languages for developing real-world software. Chapter 20 is our Introduction to C++. In almost all cases, we try to tie high-level C and C++ constructs to the underlying LC-3 so that you will understand what you demand of the computer when you use a particular construct in a C or C++ program. 1.3 Two Recurring Themes Two themes permeate this book that we as professors previously took for granted, assuming that everyone recognized their value and regularly emphasized them to students of engineering and computer science. However, it has become clear to us that from the git-go, we need to make these points explicit. So, we state them here up front. The two themes are (a) the notion of abstraction and (b) the importance of not separating in your mind the notions of hardware and software. Their value to your development as an eﬀective engineer or computer scien- tist goes well beyond your understanding of how a computer works and how to program it',\n",
       " 'Their value to your development as an eﬀective engineer or computer scien- tist goes well beyond your understanding of how a computer works and how to program it. The notion of abstraction is central to all that you will learn and expect to use in practicing your craft, whether it be in mathematics, physics, any aspect of engineering, or business. It is hard to think of any body of knowledge where the notion of abstraction is not critical. The misguided hardware/software separation is directly related to your continuing study of computers and your work with them. We will discuss each in turn. 1.3.1 The Notion of Abstraction The use of abstraction is all around us. When we get in a taxi and tell the driver, “Take me to the airport,” we are using abstraction. If we had to, we could probably direct the driver each step of the way: “Go down this street ten blocks, and make a left turn.” And, when the driver got there, “Now take this street ﬁve blocks and make a right turn.” And on and on',\n",
       " 'You know the details, but it is a lot quicker to just tell the driver to take you to the airport.4 chapter 1 WelcomeAboard Even the statement “Go down this street ten blocks …” can be broken down further with instructions on using the accelerator, the steering wheel, watching out for other vehicles, pedestrians, etc. Abstraction is a technique for establishing a simpler way for a person to inter- act with a system, removing the details that are unnecessary for the person to interact eﬀectively with that system. Our ability to abstract is very much a pro- ductivity enhancer. It allows us to deal with a situation at a higher level, focusing on the essential aspects, while keeping the component ideas in the background. It allows us to be more eﬃcient in our use of time and brain activity. It allows us to not get bogged down in the detail when everything about the detail is working just ﬁne. There is an underlying assumption to this, however: when everything about the detail is just ﬁne',\n",
       " 'It allows us to not get bogged down in the detail when everything about the detail is working just ﬁne. There is an underlying assumption to this, however: when everything about the detail is just ﬁne . What if everything about the detail is not just ﬁne? Then, to be successful, our ability to abstract must be combined with our ability to un-abstract. Some people use the word deconstruct —the ability to go from the abstraction back to its component parts. Two stories come to mind. The ﬁrst involves a trip through Arizona the ﬁrst author made a long time ago in the hottest part of the summer. At the time he was living in Palo Alto, California, where the temperature tends to be mild almost always. He knew enough to take the car to a mechanic before making the trip and tell him to check the cooling system. That was the abstraction: cooling system. What he had not mastered was that the capability of a cooling system for Palo Alto, California, is not the same as the capability of a cooling system for the summer deserts of Arizona',\n",
       " 'What he had not mastered was that the capability of a cooling system for Palo Alto, California, is not the same as the capability of a cooling system for the summer deserts of Arizona. The result: two days in Deer Lodge, Arizona (population 3), waiting for a head gasket to be shipped in. The second story (perhaps apocryphal) is supposed to have happened during the infancy of electric power generation. General Electric Co. was having trouble with one of its huge electric power generators and did not know what to do. On the front of the generator were lots of dials containing lots of information, and lots of screws that could be rotated clockwise or counterclockwise as the operator wished. Something on the other side of the wall of dials and screws was malfunc- tioning and no one knew what to do. As the story goes, they called in one of the early giants in the electric power industry. He looked at the dials and listened to the noises for a minute, then took a small screwdriver from his pocket and rotated one screw 35 degrees counterclockwise',\n",
       " 'He looked at the dials and listened to the noises for a minute, then took a small screwdriver from his pocket and rotated one screw 35 degrees counterclockwise. The problem immediately went away. He submitted a bill for $1000 (a lot of money in those days) without any elaboration. The controller found the bill for two minutes’ work a little unsettling and asked for further clariﬁcation. Back came the new bill: Turning a screw 35 degrees counterclockwise: $ 0.75 Knowing which screw to turn and by how much: 999.25 In both stories the message is the same. It is more eﬃcient to think of entities as abstractions. One does not want to get bogged down in details unnecessarily. And as long as nothing untoward happens, we are OK. If there had been no trip to Arizona, the abstraction “cooling system” would have been suﬃcient. If the1.3 Two Recurring Themes 5 electric power generator never malfunctioned, there would have been no need for the power engineering guru’s deeper understanding. As we will see, modern computers are composed of transistors',\n",
       " 'If the1.3 Two Recurring Themes 5 electric power generator never malfunctioned, there would have been no need for the power engineering guru’s deeper understanding. As we will see, modern computers are composed of transistors. These tran- sistors are combined to form logic “gates”—an abstraction that lets us think in terms of 0s and 1s instead of the varying voltages on the transistors. A logic cir- cuit is a further abstraction of a combination of gates. When one designs a logic circuit out of gates, it is much more eﬃcient to not have to think about the inter- nals of each gate. To do so would slow down the process of designing the logic circuit. One wants to think of the gate as a component. But if there is a problem with getting the logic circuit to work, it is often helpful to look at the internal structure of the gate and see if something about its functioning is causing the problem',\n",
       " 'But if there is a problem with getting the logic circuit to work, it is often helpful to look at the internal structure of the gate and see if something about its functioning is causing the problem. When one designs a sophisticated computer application program, whether it be a new spreadsheet program, word processing system, or computer game, one wants to think of each of the components one is using as an abstraction. If one spent time thinking about the details of each component when it was not neces- sary, the distraction could easily prevent the total job from ever getting ﬁnished. But when there is a problem putting the components together, it is often useful to examine carefully the details of each component in order to uncover the problem. The ability to abstract is the most important skill. In our view, one should try to keep the level of abstraction as high as possible, consistent with getting everything to work eﬀectively. Our approach in this book is to continually raise the level of abstraction. We describe logic gates in terms of transistors. Once we understand the abstraction of gates, we no longer think in terms of transistors. Then we build larger structures out of gates',\n",
       " 'We describe logic gates in terms of transistors. Once we understand the abstraction of gates, we no longer think in terms of transistors. Then we build larger structures out of gates. Once we understand these larger abstractions, we no longer think in terms of gates. The Bottom Line Abstractions allow us to be much more eﬃcient in dealing with all kinds of situations. It is also true that one can be eﬀective without under- standing what is below the abstraction as long as everything behaves nicely. So, one should not pooh-pooh the notion of abstraction. On the contrary, one should celebrate it since it allows us to be more eﬃcient. In fact, if we never have to combine a component with anything else into a larger system, and if nothing can go wrong with the component, then it is perfectly ﬁne to understand this component only at the level of its abstraction. But if we have to combine multiple components into a larger system, we should be careful not to allow their abstractions to be the deepest level of our understanding',\n",
       " 'But if we have to combine multiple components into a larger system, we should be careful not to allow their abstractions to be the deepest level of our understanding. If we don’t know the components below the level of their abstrac- tions, then we are at the mercy of them working together without our intervention. If they don’t work together, and we are unable to go below the level of abstraction, we are stuck. And that is the state we should take care not to ﬁnd ourselves in. 1.3.2 Hardware vs. Software Many computer scientists and engineers refer to themselves as hardware people or software people. By hardware, they generally mean the physical computer and6 chapter 1 WelcomeAboard all the speciﬁcations associated with it. By software, they generally mean the pro- grams, whether operating systems like Android, ChromeOS, Linux, or Windows, or database systems like Access, MongoDB, Oracle, or DB-terriﬁc, or applica- tion programs like Facebook, Chrome, Excel, or Word. The implication is that the person knows a whole lot about one of these two things and precious little about the other',\n",
       " 'The implication is that the person knows a whole lot about one of these two things and precious little about the other. Usually, there is the further implication that it is OK to be an expert at one of these (hardware OR software) and clueless about the other. It is as if there were a big wall between the hardware (the computer and how it actu- ally works) and the software (the programs that direct the computer to do their bidding), and that one should be content to remain on one side of that wall or the other. The power of abstraction allows us to “usually” operate at a level where we do not have to think about the underlying layers all the time. This is a good thing. It enables us to be more productive. But if we are clueless about the underlying layers, then we are not able to take advantage of the nuances of those underlying layers when it is very important to be able to. That is not to say that you must work at the lower level of abstraction and not take advantage of the productivity enhancements that the abstractions provide',\n",
       " 'That is not to say that you must work at the lower level of abstraction and not take advantage of the productivity enhancements that the abstractions provide. On the contrary, you are encouraged to work at the highest level of abstraction available to you. But in doing so, if you are able to, at the same time, keep in mind the underlying levels, you will ﬁnd yourself able to do a much better job. As you approach your study and practice of computing, we urge you to take the approach that hardware and software are names for components of two parts of a computing system that work best when they are designed by people who take into account the capabilities and limitations of both. Microprocessor designers who understand the needs of the programs that will execute on the microprocessor they are designing can design much more eﬀective microprocessors than those who don’t. For example, Intel, AMD, ARM, and other major producers of microprocessors recognized a few years ago that a large fraction of future programs would contain video clips as part of e-mail, video games, and full-length movies',\n",
       " 'They recognized that it would be impor- tant for such programs to execute eﬃciently. The result: most microprocessors today contain special hardware capability to process those video clips. Intel deﬁned additional instructions, initially called their MMX instruction set, and developed special hardware for it. Motorola, IBM, and Apple did essentially the same thing, resulting in the AltiVec instruction set and special hardware to support it. A similar story can be told about software designers. The designer of a large computer program who understands the capabilities and limitations of the hard- ware that will carry out the tasks of that program can design the program so it executes more eﬃciently than the designer who does not understand the nature of the hardware. One important task that almost all large software systems need to carry out is called sorting, where a number of items have to be arranged in some order. The words in a dictionary are arranged in alphabetical order. Students in a class are often graded based on a numerical order, according to their scores on the ﬁnal exam. There is a large number of fundamentally diﬀerent programs one can write to arrange a collection of items in order',\n",
       " 'Students in a class are often graded based on a numerical order, according to their scores on the ﬁnal exam. There is a large number of fundamentally diﬀerent programs one can write to arrange a collection of items in order. Donald Knuth, one of the1.4A Computer System 7 top computer scientists in the world, devoted 391 pages to the task in The Art of Computer Programming , vol. 3. Which sorting program works best is often very dependent on how much the software designer is aware of the underlying characteristics of the hardware. The Bottom Line We believe that whether your inclinations are in the direction of a computer hardware career or a computer software career, you will be much more capable if you master both. This book is about getting you started on the path to mastering both hardware and software. Although we sometimes ignore making the point explicitly when we are in the trenches of working through a concept, it really is the case that each sheds light on the other',\n",
       " 'Although we sometimes ignore making the point explicitly when we are in the trenches of working through a concept, it really is the case that each sheds light on the other. When you study data types, a software concept, in C (Chapter 12), you will understand how the ﬁnite word length of the computer, a hardware concept, aﬀects our notion of data types. When you study functions in C (Chapter 14), you will be able to tie the rules of calling a function with the hardware implementation that makes those rules necessary. When you study recursion, a powerful algorithmic device (initially in Chapter 8 and more extensively in Chapter 17), you will be able to tie it to the hardware. If you take the time to do that, you will better understand when the additional time to execute a procedure recursively is worth it. When you study pointer variables in C (in Chapter 16), your knowledge of computer memory will provide a deeper understanding of what pointers pro- vide, and very importantly, when they should be used and when they should be avoided',\n",
       " 'When you study pointer variables in C (in Chapter 16), your knowledge of computer memory will provide a deeper understanding of what pointers pro- vide, and very importantly, when they should be used and when they should be avoided. When you study data structures in C (in Chapter 19), your knowledge of com- puter memory will help you better understand what must be done to manipulate the actual structures in memory eﬃciently. We realize that most of the terms in the preceding ﬁve short paragraphs may not be familiar to you yet. That is OK; you can reread this page at the end of the semester. What is important to know right now is that there are important topics in the software that are very deeply interwoven with topics in the hardware. Our contention is that mastering either is easier if you pay attention to both. Most importantly, most computing problems yield better solutions when the problem solver has the capability of both at his or her disposal',\n",
       " 'Our contention is that mastering either is easier if you pay attention to both. Most importantly, most computing problems yield better solutions when the problem solver has the capability of both at his or her disposal. 1.4 A Computer System We have used the word computer more than two dozen times in the preceding pages, and although we did not say so explicitly, we used it to mean a system consisting of the software (i.e., computer programs) that directs and speciﬁes the processing of information and the hardware that performs the actual processing of information in response to what the software asks the hardware to do. When we say “performing the actual processing,” we mean doing the actual additions, multiplications, and so forth in the hardware that are necessary to get the job8 chapter 1 Welcome Aboard done. A more precise term for this hardware is a central processing unit (CPU), or simply a processor ormicroprocessor . This textbook is primarily about the processor and the programs that are executed by the processor',\n",
       " 'A more precise term for this hardware is a central processing unit (CPU), or simply a processor ormicroprocessor . This textbook is primarily about the processor and the programs that are executed by the processor. 1.4.1 A (Very) Little History for a (Lot) Better Perspective Before we get into the detail of how the processor and the software associated with it work, we should take a moment and note the enormous and unparalleled leaps of performance that the computing industry has made in the relatively short time computers have been around. After all, it wasn’t until the 1940s that the first computers showed their faces. One of the first computers was the ENIAC (the Electronic Numerical Integrator and Calculator), a general purpose electronic computer that could be reprogrammed for different tasks. It was designed and built in 1943–1945 at the Univ ersity of Pennsylvania by Presper Eckert and his colleagues. It contained more than 17,000 vacuum tubes. It was approximately 8 feet high, more than 100 feet wide, and about 3 feet deep (about 300 square feet of floor space)',\n",
       " 'It contained more than 17,000 vacuum tubes. It was approximately 8 feet high, more than 100 feet wide, and about 3 feet deep (about 300 square feet of floor space). It weighed 30 tons and required 140 kW to operate. F igure 1.1 s hows three operators programming the ENIAC by plugging and unplugging cables and switches. About 40 years and many computer companies and computers later, in the early 1980s, the Burroughs A series was born. One of the dozen or so 18-inch boards that comprise that machine is shown in Figure 1.2. Each board contained 50 or more integrated circuit packages. Instead of 300 square feet, it took up around 50 to 60 square feet; instead of 30 tons, it weighed about 1 ton, and instead of 140 kW, it required approximately 25 kW to operate. Figure 1.1 The ENIAC, designed and built at University of Pennsylvania, 1943–45. c/circlecopyrtHistorical/Getty Images1.4A Computer System 9 Figure 1.2 A processor board, vintage 1980s',\n",
       " 'c/circlecopyrtHistorical/Getty Images1.4A Computer System 9 Figure 1.2 A processor board, vintage 1980s. Courtesy of Emilio Salguerio Fast forward another 30 or so years and we ﬁnd many of today’s computers on desktops (Figure 1.3), in laptops (Figure 1.4), and most recently in smartphones (Figure 1.5). Their relative weights and energy requirements have decreased enormously, and the speed at which they process information has also increased enormously. We estimate that the computing power in a smartphone today (i.e., how fast we can compute with a smartphone) is more than four million times the computing power of the ENIAC! Figure 1.3 A desktop computer. c/circlecopyrtJoby Sessions/ Future/REX/ Shutterstock Figure 1.4 A laptop. c/circlecopyrtRob Monk/Future/ REX/Shutterstock Figure 1.5 A smartphone',\n",
       " 'c/circlecopyrtRob Monk/Future/ REX/Shutterstock Figure 1.5 A smartphone. c/circlecopyrtOleksiy Maksymenko/ imageBROKER/REX/Shutterstock10 chapter 1 WelcomeAboard Figure 1.6 A microprocessor. c/circlecopyrtPeter Gudella/Shutterstock The integrated circuit packages that comprise modern digital computers have also seen phenomenal improvement. An example of one of today’s microproces- sors is shown in Figure 1.6. The ﬁrst microprocessor, the Intel 4004 in 1971, contained 2300 transistors and operated at 106 KHz. By 1992, those numbers had jumped to 3.1 million transistors at a frequency of 66 MHz on the Intel Pentium microprocessor, an increase in both parameters of a factor of about 1000. Today’s microprocessors contain upwards of ﬁve billion transistors and can oper- ate at upwards of 4 GHz, another increase in both parameters of about a factor of 1000',\n",
       " 'Today’s microprocessors contain upwards of ﬁve billion transistors and can oper- ate at upwards of 4 GHz, another increase in both parameters of about a factor of 1000. This factor of one million since 1971 in both the number of transistors and the frequency that the microprocessor operates at has had very important impli- cations. The fact that each operation can be performed in one millionth of the time it took in 1971 means the microprocessor can do one million things today in the time it took to do one thing in 1971. The fact that there are more than a million times as many transistors on a chip means we can do a lot more things at the same time today than we could in 1971. The result of all this is we have today computers that seem able to understand the languages people speak – English, Spanish, Chinese, for example. We have computers that seem able to recognize faces. Many see this as the magic of artiﬁ- cial intelligence',\n",
       " 'We have computers that seem able to recognize faces. Many see this as the magic of artiﬁ- cial intelligence. We will see as we get into the details of how a computer works that much of what appears to be magic is really due to how blazingly fast very simple mindless operations (many at the same time) can be carried out. 1.4.2 The Parts of a Computer System When most people use the word computer , they usually mean more than just the processor (i.e., CPU) that is in charge of doing what the software directs.1.5Two Very Important Ideas 11 They usually mean the collection of parts that in combination form their computer system . Today that computer system is often a laptop (see Figure 1.4), augmented with many additional devices',\n",
       " 'Today that computer system is often a laptop (see Figure 1.4), augmented with many additional devices. A computer system generally includes, in addition to the processor, a key- board for typing commands, a mouse or keypad or joystick for positioning on menu entries, a monitor for displaying information that the computer system has produced, memory for temporarily storing information, disks and USB memory sticks of one sort or another for storing information for a very long time, even after the computer has been turned oﬀ, connections to other devices such as a printer for obtaining paper copies of that information, and the collection of programs (the software) that the user wishes to execute. All these items help computer users to do their jobs. Without a printer, for example, the user would have to copy by hand what is displayed on the monitor. Without a mouse, keypad, or joystick, the user would have to type each command, rather than simply position the mouse, keypad, or joystick',\n",
       " 'Without a mouse, keypad, or joystick, the user would have to type each command, rather than simply position the mouse, keypad, or joystick. So, as we begin our journey, which focuses on the CPU that occupies a small fraction of 1 square inch of silicon and the software that makes the CPU do our bidding, we note that the computer systems we use contain a lot of additional components. 1.5 Two Very Important Ideas Before we leave this ﬁrst chapter, there are two very important ideas that we would like you to understand, ideas that are at the core of what computing is all about. Idea 1: Allcomputers(thebiggestandthesmallest,thefastestandthe slowest, the most expensive and the cheapest) are capable of comput- ing exactly the same things if they are given enough time and enough memory. That is, anything a fast computer can do, a slow computer can do also. The slow computer just does it more slowly',\n",
       " 'That is, anything a fast computer can do, a slow computer can do also. The slow computer just does it more slowly. A more expensive computercannotﬁgureoutsomethingthatacheapercomputerisunable toﬁgureoutaslongasthecheapercomputercanaccessenoughmem- ory. (You may have to go to the store to buy more memory whenever it runs out of memory in order to keep increasing memory.) All computers can do exactly the same things. Some computers can do things faster, butnonecan domore thananyother. Idea 2: We describe our problems in English or some other language spoken by people. Yet the problems are solved by electrons running around inside the computer. It is necessary to transform our problem from the language of humans to the voltages that inﬂuence the ﬂow of electrons. This transformation is really a sequence of systematic trans- formations, developed and improved over the last 70 years, which combine to give the computer the ability to carry out what appear to12 chapter 1 WelcomeAboard be some very complicated tasks. In reality, these tasks are simple and straightforward',\n",
       " 'In reality, these tasks are simple and straightforward. The rest of this chapter is devoted to discussing these two ideas. 1.6 Computers as Universal Computational Devices It may seem strange that an introductory textbook begins by describing how computers work. After all, mechanical engineering students begin by studying physics, not how car engines work. Chemical engineering students begin by studying chemistry, not oil reﬁneries. Why should computing students begin by studying computers? The answer is that computers are diﬀerent. To learn the fundamental prin- ciples of computing, you must study computers or machines that can do what computers can do. The reason for this has to do with the notion that computers areuniversal computational devices . Let’s see what that means. Before modern computers, there were many kinds of calculating machines. Some were analog machines —machines that produced an answer by measuring some physical quantity such as distance or voltage. For example, a slide rule is an analog machine that multiplies numbers by sliding one logarithmically graded ruler next to another. The user can read a logarithmic “distance” on the sec- ond ruler',\n",
       " 'The user can read a logarithmic “distance” on the sec- ond ruler. Some early analog adding machines worked by dropping weights on a scale. The diﬃculty with analog machines is that it is very hard to increase their accuracy. This is why digital machines —machines that perform computations by manipulating a ﬁxed ﬁnite set of digits or letters—came to dominate comput- ing. You are familiar with the distinction between analog and digital watches. An analog watch has hour and minute hands, and perhaps a second hand. It gives the time by the positions of its hands, which are really angular measures. Digital watches give the time in digits. You can increase accuracy just by adding more digits. For example, if it is important for you to measure time in hundredths of a second, you can buy a watch that gives a reading like 10:35.16 rather than just 10:35',\n",
       " 'For example, if it is important for you to measure time in hundredths of a second, you can buy a watch that gives a reading like 10:35.16 rather than just 10:35. How would you get an analog watch that would give you an accurate read- ing to one one-hundredth of a second? You could do it, but it would take a mighty long second hand! When we talk about computers in this book, we will always mean digital machines. Before modern digital computers, the most common digital machines in the West were adding machines. In other parts of the world another digital machine, the abacus, was common. Digital adding machines were mechanical or elec- tromechanical devices that could perform a speciﬁc kind of computation: adding integers. There were also digital machines that could multiply integers. There were digital machines that could put a stack of cards with punched names in alphabetical order. The main limitation of all these machines is that they could do only one speciﬁc kind of computation',\n",
       " 'There were digital machines that could put a stack of cards with punched names in alphabetical order. The main limitation of all these machines is that they could do only one speciﬁc kind of computation. If you owned only an adding machine1.6Computers as Universal Computational Devices 13 and wanted to multiply two integers, you had some pencil-and-paper work to do. This is why computers are diﬀerent. You can tell a computer how to add num- bers. You can tell it how to multiply. You can tell it how to alphabetize a list or perform any computation you like. When you think of a new kind of computation, you do not have to buy or design a new computer. You just give the old computer a new set of instructions (a program) to carry out the new computation. This is why we say the computer is a universal computational device . Computer scien- tists believe that anything that can be computed, can be computed by a computer provided it has enough time and enough memory. When we study computers, we study the fundamentals of all computing',\n",
       " 'Computer scien- tists believe that anything that can be computed, can be computed by a computer provided it has enough time and enough memory. When we study computers, we study the fundamentals of all computing. We learn what computation is and what can be computed. The idea of a universal computational device is due to Alan Turing. Turing proposed in 1937 that all computations could be carried out by a particular kind of machine, which is now called a Turing machine. He gave a mathematical descrip- tion of this kind of machine, but did not actually build one. Digital computers were not operating until several years later. Turing was more interested in solv- ing a philosophical problem: deﬁning computation. He began by looking at the kinds of actions that people perform when they compute; these include making marks on paper, writing symbols according to certain rules when other symbols are present, and so on. He abstracted these actions and speciﬁed a mechanism that could carry them out. He gave some examples of the kinds of things that these machines could do. One Turing machine could add two integers; another could multiply two integers',\n",
       " 'He abstracted these actions and speciﬁed a mechanism that could carry them out. He gave some examples of the kinds of things that these machines could do. One Turing machine could add two integers; another could multiply two integers. Figure 1.7 shows what we call “black box” models of Turing machines that add and multiply. In each case, the operation to be performed is described in the box. The data elements on which to operate are shown as inputs to the box. The result of the operation is shown as output from the box. A black box model provides no information as to exactly how the operation is performed, and indeed, there are many ways to add or multiply two numbers. TADD a, b a × b a, b a + b (Turing machine that adds)TMUL (Turing machine that multiplies) Figure 1.7 Black box models of Turing machines. Turing proposed that every computation can be performed by some Turing machine. We call this Turing’s thesis . Although Turing’s thesis has never been proved, there does exist a lot of evidence to suggest it is true',\n",
       " 'Turing proposed that every computation can be performed by some Turing machine. We call this Turing’s thesis . Although Turing’s thesis has never been proved, there does exist a lot of evidence to suggest it is true. We know, for exam- ple, that various enhancements one can make to Turing machines do not result in machines that can compute more. Perhaps the best argument to support Turing’s thesis was provided by Turing himself in his original paper. He said that one way to try to construct a machine more powerful than any particular Turing machine was to make a machine U that could simulate allTuring machines. You would simply describe to Uthe14 chapter 1 WelcomeAboard particular Turing machine you wanted it to simulate, say a machine to add two integers, give Uthe input data, and Uwould compute the appropriate output, in this case the sum of the inputs. Turing then showed that there was, in fact, a Turing machine that could do this, so even this attempt to ﬁnd something that could not be computed by Turing machines failed. Figure 1.8 further illustrates the point',\n",
       " 'Turing then showed that there was, in fact, a Turing machine that could do this, so even this attempt to ﬁnd something that could not be computed by Turing machines failed. Figure 1.8 further illustrates the point. Suppose you wanted to compute g⋅(e+f). You would simply provide to Udescriptions of the Turing machines to add and to multiply, and the three inputs, e,f, and g.Uwould do the rest. TADD, TMUL g × (e + f) e, f, g (Universal Turing machine)U Figure 1.8 Black box model of a universal Turing machine. In specifying U, Turing had provided us with a deep insight: He had given us the ﬁrst description of what computers do. In fact, both a computer (with as much memory as it wants) and a universal Turing machine can compute exactly the same things. In both cases, you give the machine a description of a computation and the data it needs, and the machine computes the appropriate answer',\n",
       " 'In both cases, you give the machine a description of a computation and the data it needs, and the machine computes the appropriate answer. Comput- ers and universal Turing machines can compute anything that can be computed because they are programmable . This is the reason that a big or expensive computer cannot do more than a small, cheap computer. More money may buy you a faster computer, a monitor with higher resolution, or a nice sound system. But if you have a small, cheap computer, you already have a universal computational device. 1.7 How Do We Get the Electrons to Do the Work? Figure 1.9 shows the process we must go through to get the electrons (which actually do the work) to do our bidding. We call the steps of this process the “Levels of Transformation.” As we will see, at each level we have choices. If we ignore any of the levels, our ability to make the best use of our computing system can be very adversely aﬀected',\n",
       " 'If we ignore any of the levels, our ability to make the best use of our computing system can be very adversely aﬀected. 1.7.1 The Statement of the Problem We describe the problems we wish to solve in a “natural language.” Natural lan- guages are languages that people speak, like English, French, Japanese, Italian, and so on. They have evolved over centuries in accordance with their usage. They are fraught with a lot of things unacceptable for providing instructions to a1.7How Do We Get the Electrons to Do the Work? 15 DevicesCircuitsMicroarchitectureMachine (ISA) ArchitectureLanguageAlgorithmsProblems Figure 1.9 Levels of transformation. computer. Most important of these unacceptable attributes is ambiguity. Natural language is ﬁlled with ambiguity. To infer the meaning of a sentence, a listener is often helped by the tone of voice of the speaker, or at the very least, the context of the sentence',\n",
       " 'Natural language is ﬁlled with ambiguity. To infer the meaning of a sentence, a listener is often helped by the tone of voice of the speaker, or at the very least, the context of the sentence. An example of ambiguity in English is the sentence, “Time ﬂies like an arrow.” At least three interpretations are possible, depending on whether (1) one is noticing how fast time passes, (2) one is at a track meet for insects, or (3) one is writing a letter to the Dear Abby of Insectville. In the ﬁrst case, a simile; one is comparing the speed of time passing to the speed of an arrow that has been released. In the second case, one is telling the timekeeper to do his/her job much like an arrow would. In the third case, one is relating that a particular group of ﬂies (time ﬂies, as opposed to fruit ﬂies) are all in love with the same arrow. Such ambiguity would be unacceptable in instructions provided to a com- puter']"
      ]
     },
     "execution_count": 72,
     "metadata": {},
     "output_type": "execute_result"
    }
   ],
   "source": [
    "texts[50:100]"
   ]
  },
  {
   "cell_type": "code",
   "execution_count": null,
   "metadata": {},
   "outputs": [],
   "source": [
    "text_splitter = RecursiveCharacterTextSplitter(\n",
    "    # Set a really small chunk size, just to show.\n",
    "    separator='. ', \n",
    "    chunk_size = 100,\n",
    "    chunk_overlap  = 20,\n",
    "    length_function = len,\n",
    ")"
   ]
  },
  {
   "cell_type": "code",
   "execution_count": 53,
   "metadata": {},
   "outputs": [
    {
     "name": "stdout",
     "output_type": "stream",
     "text": [
      "1\n"
     ]
    }
   ],
   "source": [
    "print(len(texts))"
   ]
  },
  {
   "cell_type": "code",
   "execution_count": 33,
   "metadata": {},
   "outputs": [
    {
     "name": "stderr",
     "output_type": "stream",
     "text": [
      "Token indices sequence length is longer than the specified maximum sequence length for this model (3793 > 512). Running this sequence through the model will result in indexing errors\n"
     ]
    },
    {
     "name": "stdout",
     "output_type": "stream",
     "text": [
      "tensor([[  101,  1597, 30587,  ...,  2530,     5,     1]])\n"
     ]
    }
   ],
   "source": [
    "# todo: check to see if chunks are less than chunk_size\n",
    "\n",
    "tokenizer = AutoTokenizer.from_pretrained('google/flan-t5-xl')\n",
    "tokens = tokenizer.encode(texts[22], return_tensors='pt')\n",
    "print(tokens)\n",
    "print(tokens.shape)"
   ]
  },
  {
   "cell_type": "code",
   "execution_count": null,
   "metadata": {},
   "outputs": [],
   "source": [
    "\n",
    "flan_xl_text_splitter = CharacterTextSplitter.from_huggingface_tokenizer(AutoTokenizer.from_pretrained('google/flan-t5-xl'), chunk_size=300, chunk_overlap=0)\n",
    "texts = flan_xl_text_splitter.split_text(\" \".join(textbook))\n",
    "# print(texts[0])\n",
    "# print(len(texts))"
   ]
  }
 ],
 "metadata": {
  "kernelspec": {
   "display_name": "torch",
   "language": "python",
   "name": "python3"
  },
  "language_info": {
   "codemirror_mode": {
    "name": "ipython",
    "version": 3
   },
   "file_extension": ".py",
   "mimetype": "text/x-python",
   "name": "python",
   "nbconvert_exporter": "python",
   "pygments_lexer": "ipython3",
   "version": "3.9.15"
  },
  "orig_nbformat": 4,
  "vscode": {
   "interpreter": {
    "hash": "8513702ffebcddd0565c7cb8940121422c1007cb2eaee71f9f7918f25ee15d0b"
   }
  }
 },
 "nbformat": 4,
 "nbformat_minor": 2
}
