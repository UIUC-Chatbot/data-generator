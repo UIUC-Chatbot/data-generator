{
 "cells": [
  {
   "cell_type": "code",
   "execution_count": null,
   "metadata": {},
   "outputs": [],
   "source": [
    "# pip install PyPDF2\n",
    "from PyPDF2 import PdfReader\n",
    " \n",
    "# creating a pdf reader object\n",
    "# reader = PdfReader('sparrow_deepmind.pdf')\n",
    "# reader = PdfReader('Yale Patt - Introduction to Computing Systems_ From Bits & Gates to C & Beyond.pdf')\n",
    "# reader = PdfReader('data-generator/raw_data/notes/Student Notes.pdf')\n",
    "reader = PdfReader('../raw_data/notes/Student_Notes.pdf')\n",
    " \n",
    "# printing number of pages in pdf file\n",
    "print(\"Total pages:, \", len(reader.pages))\n",
    " \n",
    "# extracting text from page\n",
    "all_text = []\n",
    "for i, page in enumerate(reader.pages):\n",
    "    print(i)\n",
    "    text = page.extract_text().replace(\"\\n\", \" \")\n",
    "    if text:\n",
    "        # skip empty pages\n",
    "        all_text.append(text)\n",
    "    # if i > 50: break"
   ]
  },
  {
   "cell_type": "code",
   "execution_count": null,
   "metadata": {},
   "outputs": [],
   "source": [
    "all_text[40:50]"
   ]
  },
  {
   "cell_type": "code",
   "execution_count": null,
   "metadata": {},
   "outputs": [],
   "source": [
    "# save sentences to a .txt file\n",
    "# Define the file name\n",
    "from typing import List\n",
    "\n",
    "def save_to_file(sentences: List, filename:str):\n",
    "    # filename = \"cleaned_patel_sentences.txt\"\n",
    "\n",
    "    # Open the file in write mode\n",
    "    with open(filename, \"w\") as file:\n",
    "        # Iterate through the list of sentences\n",
    "        for sentence in sentences:\n",
    "            # Write each sentence to the file followed by a newline\n",
    "            \n",
    "            file.write(sentence)#.encode(encoding='ascii',errors='ignore').decode()) # ASCII\n",
    "\n",
    "def load_from_txt_file(filename: str) -> List:\n",
    "    # Open the file in read mode\n",
    "    with open(filename, \"r\") as file:\n",
    "        # Read the contents of the file\n",
    "        text = file.read()\n",
    "    # Split the contents of the file into a list of sentences\n",
    "    sentences = text.splitlines()\n",
    "    return sentences"
   ]
  },
  {
   "cell_type": "code",
   "execution_count": null,
   "metadata": {},
   "outputs": [],
   "source": [
    "save_to_file(all_text, \"student_notes_pdf_scan.txt\")"
   ]
  },
  {
   "cell_type": "code",
   "execution_count": null,
   "metadata": {},
   "outputs": [],
   "source": []
  }
 ],
 "metadata": {
  "kernelspec": {
   "display_name": "torch_116",
   "language": "python",
   "name": "python3"
  },
  "language_info": {
   "codemirror_mode": {
    "name": "ipython",
    "version": 3
   },
   "file_extension": ".py",
   "mimetype": "text/x-python",
   "name": "python",
   "nbconvert_exporter": "python",
   "pygments_lexer": "ipython3",
   "version": "3.8.15"
  },
  "orig_nbformat": 4,
  "vscode": {
   "interpreter": {
    "hash": "8a405b64c2df2f161fa14d0a5cd4eca74575679b4df8dce77b0534f824bfab47"
   }
  }
 },
 "nbformat": 4,
 "nbformat_minor": 2
}
