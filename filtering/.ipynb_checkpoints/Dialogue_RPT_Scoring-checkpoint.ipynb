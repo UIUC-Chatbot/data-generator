{
 "cells": [
  {
   "cell_type": "markdown",
   "id": "939973a3-8d52-42e2-b3d2-2d0fc07f7e4a",
   "metadata": {},
   "source": [
    "# Dialogue RPT"
   ]
  },
  {
   "cell_type": "code",
   "execution_count": 1,
   "id": "cf388d53-c0b7-49cd-a6b2-ec6dbcea1366",
   "metadata": {},
   "outputs": [],
   "source": [
    "import torch"
   ]
  },
  {
   "cell_type": "code",
   "execution_count": 2,
   "id": "4807ca13-1daf-4ebc-99d8-b3bf5b8abc4e",
   "metadata": {},
   "outputs": [],
   "source": [
    "from transformers import AutoTokenizer, AutoModelForSequenceClassification"
   ]
  },
  {
   "cell_type": "code",
   "execution_count": 3,
   "id": "a2cd87b2-a54f-44d7-97f5-73a26c94f6bc",
   "metadata": {},
   "outputs": [],
   "source": [
    "import json\n",
    "import pandas as pd"
   ]
  },
  {
   "cell_type": "code",
   "execution_count": 4,
   "id": "67f723f3-0851-48ec-9dc2-73b964b5d0d6",
   "metadata": {},
   "outputs": [],
   "source": [
    "model_card = \"microsoft/DialogRPT-updown\"   # you can try other model_card listed in the table above\n",
    "tokenizer = AutoTokenizer.from_pretrained(model_card)\n",
    "model = AutoModelForSequenceClassification.from_pretrained(model_card)\n",
    "\n",
    "def score(cxt, hyp):\n",
    "  model_input = tokenizer.encode(cxt + \"<|endoftext|>\" + hyp, return_tensors=\"pt\")\n",
    "  result = model(model_input, return_dict=True)\n",
    "  return torch.sigmoid(result.logits)"
   ]
  },
  {
   "cell_type": "code",
   "execution_count": 5,
   "id": "272a1ecd-f567-4175-af9c-5407a05693b2",
   "metadata": {},
   "outputs": [
    {
     "ename": "FileNotFoundError",
     "evalue": "[Errno 2] No such file or directory: 'bespin.json'",
     "output_type": "error",
     "traceback": [
      "\u001b[0;31m---------------------------------------------------------------------------\u001b[0m",
      "\u001b[0;31mFileNotFoundError\u001b[0m                         Traceback (most recent call last)",
      "Input \u001b[0;32mIn [5]\u001b[0m, in \u001b[0;36m<cell line: 1>\u001b[0;34m()\u001b[0m\n\u001b[0;32m----> 1\u001b[0m f\u001b[38;5;241m=\u001b[39m\u001b[38;5;28;43mopen\u001b[39;49m\u001b[43m(\u001b[49m\u001b[38;5;124;43m'\u001b[39;49m\u001b[38;5;124;43mbespin.json\u001b[39;49m\u001b[38;5;124;43m'\u001b[39;49m\u001b[43m)\u001b[49m\n\u001b[1;32m      2\u001b[0m bespin\u001b[38;5;241m=\u001b[39mjson\u001b[38;5;241m.\u001b[39mload(f)\n",
      "\u001b[0;31mFileNotFoundError\u001b[0m: [Errno 2] No such file or directory: 'bespin.json'"
     ]
    }
   ],
   "source": [
    "f=open('bespin.json')\n",
    "bespin=json.load(f)\n"
   ]
  },
  {
   "cell_type": "code",
   "execution_count": 8,
   "id": "ba0aa096-22e1-42cb-b516-93b34a7a61eb",
   "metadata": {},
   "outputs": [
    {
     "name": "stdout",
     "output_type": "stream",
     "text": [
      "0.322 textbook\n"
     ]
    }
   ],
   "source": [
    "cxt=[0]['positive_ctxs']['text']\n",
    "answer=bespin[0]['answer']\n",
    "print('%.3f %s'%(score(cxt, answer).squeeze(), answer))"
   ]
  },
  {
   "cell_type": "code",
   "execution_count": 27,
   "id": "fa7a9c45-20c8-429a-b510-db96e86c6646",
   "metadata": {},
   "outputs": [],
   "source": [
    "questions=[]\n",
    "answers=[]\n",
    "scores=[]"
   ]
  },
  {
   "cell_type": "code",
   "execution_count": 29,
   "id": "069e414a-bd35-4a74-894b-e252ab80c742",
   "metadata": {},
   "outputs": [],
   "source": [
    "length=len(bespin)\n",
    "length\n",
    "for i in range(length):\n",
    "    context = bespin[i]['positive_ctxs']['text']\n",
    "    #print(context)\n",
    "    answer= bespin[i]['answer']\n",
    "    #print(answer)\n",
    "    try:\n",
    "        current_score= score(context,answer).item()\n",
    "    except:\n",
    "        current_score='error'\n",
    "    scores.append(current_score)\n",
    "    scores.append('error')\n",
    "    questions.append(bespin[i]['quesiton'])\n",
    "    answers.append(answer)\n",
    "    \n",
    "  \n",
    "    \n"
   ]
  },
  {
   "cell_type": "code",
   "execution_count": 30,
   "id": "b2350b7c-62df-49bb-9ea8-a8a5bb976cce",
   "metadata": {},
   "outputs": [
    {
     "data": {
      "text/plain": [
       "3644"
      ]
     },
     "execution_count": 30,
     "metadata": {},
     "output_type": "execute_result"
    }
   ],
   "source": [
    "len(scores)"
   ]
  },
  {
   "cell_type": "code",
   "execution_count": 31,
   "id": "c3248f25-c685-4fd6-97a7-31c396c74c28",
   "metadata": {},
   "outputs": [],
   "source": [
    "scores_dup=scores.copy()"
   ]
  },
  {
   "cell_type": "code",
   "execution_count": 32,
   "id": "f939f2eb-8b64-4794-8b55-e9e1d737d3e1",
   "metadata": {},
   "outputs": [
    {
     "data": {
      "text/plain": [
       "3644"
      ]
     },
     "execution_count": 32,
     "metadata": {},
     "output_type": "execute_result"
    }
   ],
   "source": [
    "len(scores_dup)"
   ]
  },
  {
   "cell_type": "code",
   "execution_count": 33,
   "id": "d63b680b-7791-4248-8225-b0bfd4b00d4b",
   "metadata": {},
   "outputs": [],
   "source": [
    "del scores_dup[1::2]"
   ]
  },
  {
   "cell_type": "code",
   "execution_count": 8,
   "id": "d3ca74ac-5866-4f1c-8dbe-32226c4e055f",
   "metadata": {},
   "outputs": [
    {
     "data": {
      "text/plain": [
       "'2, 300 years old )'"
      ]
     },
     "execution_count": 8,
     "metadata": {},
     "output_type": "execute_result"
    }
   ],
   "source": [
    "bespin[15]['answer']"
   ]
  },
  {
   "cell_type": "markdown",
   "id": "4ad5e1e9-5997-4a06-af52-375670817a14",
   "metadata": {},
   "source": [
    "# GPT 3 json file scoring"
   ]
  },
  {
   "cell_type": "code",
   "execution_count": 6,
   "id": "c9d15819-6067-4d0a-bea3-992ba34a3ea5",
   "metadata": {},
   "outputs": [],
   "source": [
    "f_gpt= open('GPT-3_section_level.json')\n",
    "gpt_3=json.load(f_gpt)"
   ]
  },
  {
   "cell_type": "code",
   "execution_count": 7,
   "id": "218c18cb-f580-4a92-9ce4-3f714ab11be7",
   "metadata": {},
   "outputs": [],
   "source": [
    "gpt_questions=[]\n",
    "gpt_answers=[]\n",
    "gpt_scores=[]"
   ]
  },
  {
   "cell_type": "code",
   "execution_count": null,
   "id": "314eb4d6-edb8-4716-8d14-a941bc2893ea",
   "metadata": {},
   "outputs": [],
   "source": [
    "from tqdm.auto import tqdm"
   ]
  },
  {
   "cell_type": "code",
   "execution_count": 13,
   "id": "b3a18d7a-41ee-4038-8cc1-470eac624dc6",
   "metadata": {},
   "outputs": [
    {
     "data": {
      "application/vnd.jupyter.widget-view+json": {
       "model_id": "af395cdebd95497b9f9275174e37c717",
       "version_major": 2,
       "version_minor": 0
      },
      "text/plain": [
       "  0%|          | 0/144 [00:00<?, ?it/s]"
      ]
     },
     "metadata": {},
     "output_type": "display_data"
    }
   ],
   "source": [
    "length_gpt=len(gpt_3)\n",
    "length_gpt\n",
    "for i in tqdm(range(length_gpt)):\n",
    "    context = gpt_3[i]['positive_ctxs']['text']\n",
    "    #print(context)\n",
    "    answer= gpt_3[i]['answers']\n",
    "    #print(answer)\n",
    "    try:\n",
    "        current_score= score(context,answer).item()\n",
    "    except:\n",
    "        current_score='error'\n",
    "    gpt_scores.append(current_score)\n",
    "    gpt_questions.append(gpt_3[i]['questions'])\n",
    "    gpt_answers.append(answer)"
   ]
  },
  {
   "cell_type": "code",
   "execution_count": 15,
   "id": "3f81e181-65a6-47b5-9c16-0c131f538650",
   "metadata": {},
   "outputs": [
    {
     "data": {
      "text/html": [
       "<div>\n",
       "<style scoped>\n",
       "    .dataframe tbody tr th:only-of-type {\n",
       "        vertical-align: middle;\n",
       "    }\n",
       "\n",
       "    .dataframe tbody tr th {\n",
       "        vertical-align: top;\n",
       "    }\n",
       "\n",
       "    .dataframe thead th {\n",
       "        text-align: right;\n",
       "    }\n",
       "</style>\n",
       "<table border=\"1\" class=\"dataframe\">\n",
       "  <thead>\n",
       "    <tr style=\"text-align: right;\">\n",
       "      <th></th>\n",
       "      <th>questions</th>\n",
       "      <th>answers</th>\n",
       "      <th>scores</th>\n",
       "    </tr>\n",
       "  </thead>\n",
       "  <tbody>\n",
       "    <tr>\n",
       "      <th>0</th>\n",
       "      <td>\\nQ. How does the design process for a digital...</td>\n",
       "      <td>\\n\\nA. The design process for a digital FSM ty...</td>\n",
       "      <td>0.569915</td>\n",
       "    </tr>\n",
       "    <tr>\n",
       "      <th>1</th>\n",
       "      <td>\\nQ. Why is it important to design digital sys...</td>\n",
       "      <td>\\n\\nA. Most problems in developing large digit...</td>\n",
       "      <td>0.520266</td>\n",
       "    </tr>\n",
       "    <tr>\n",
       "      <th>2</th>\n",
       "      <td>\\nQ. What is a Gray code?</td>\n",
       "      <td>\\n\\nA Gray code is a cycle over all bit patter...</td>\n",
       "      <td>0.607294</td>\n",
       "    </tr>\n",
       "    <tr>\n",
       "      <th>3</th>\n",
       "      <td>\\nQ. How does a three-bit gray code counter work?</td>\n",
       "      <td>\\n\\nA.\\n\\nA three-bit gray code counter works ...</td>\n",
       "      <td>0.538617</td>\n",
       "    </tr>\n",
       "    <tr>\n",
       "      <th>4</th>\n",
       "      <td>\\nQ. Is it possible to create a counter with f...</td>\n",
       "      <td>\\n\\nA. No, it is not possible.</td>\n",
       "      <td>0.512374</td>\n",
       "    </tr>\n",
       "    <tr>\n",
       "      <th>5</th>\n",
       "      <td>\\nQ. What is the purpose of the INIT input in ...</td>\n",
       "      <td>\\n\\nA. The INIT input allows us to force the F...</td>\n",
       "      <td>error</td>\n",
       "    </tr>\n",
       "    <tr>\n",
       "      <th>6</th>\n",
       "      <td>\\nQ. What is the mechanism for stopping and st...</td>\n",
       "      <td>\\n\\nA. The mechanism for stopping and starting...</td>\n",
       "      <td>0.501597</td>\n",
       "    </tr>\n",
       "    <tr>\n",
       "      <th>7</th>\n",
       "      <td>\\nQ. What is the purpose of the two-bit Gray c...</td>\n",
       "      <td>\\n\\nA. The purpose of the two-bit Gray code is...</td>\n",
       "      <td>0.626356</td>\n",
       "    </tr>\n",
       "    <tr>\n",
       "      <th>8</th>\n",
       "      <td>\\nQ. Why is it important to specify all possib...</td>\n",
       "      <td>\\n\\nAns. It is important to specify all possib...</td>\n",
       "      <td>error</td>\n",
       "    </tr>\n",
       "    <tr>\n",
       "      <th>9</th>\n",
       "      <td>\\nQ. Why is it often a good idea to start by s...</td>\n",
       "      <td>\\n\\nA. The right strategy is thus often to sta...</td>\n",
       "      <td>error</td>\n",
       "    </tr>\n",
       "    <tr>\n",
       "      <th>10</th>\n",
       "      <td>\\nQ. What is the value of HOLD when S_2=0 and ...</td>\n",
       "      <td>\\n\\nA. The value of HOLD is 1.</td>\n",
       "      <td>error</td>\n",
       "    </tr>\n",
       "    <tr>\n",
       "      <th>11</th>\n",
       "      <td>\\nQ. How does changing the state representatio...</td>\n",
       "      <td>\\n\\nA. Changing the state representation can i...</td>\n",
       "      <td>0.646646</td>\n",
       "    </tr>\n",
       "    <tr>\n",
       "      <th>12</th>\n",
       "      <td>\\nQ. What is the main difference between stati...</td>\n",
       "      <td>\\n\\nA. Static RAMs store data in a flip-flop, ...</td>\n",
       "      <td>0.562972</td>\n",
       "    </tr>\n",
       "    <tr>\n",
       "      <th>13</th>\n",
       "      <td>\\nQ. What is the main difference between SRAM ...</td>\n",
       "      <td>\\n\\nSRAM uses active logic elements to store d...</td>\n",
       "      <td>0.518804</td>\n",
       "    </tr>\n",
       "    <tr>\n",
       "      <th>14</th>\n",
       "      <td>\\nQ. What is SRAM?</td>\n",
       "      <td>\\n\\nA. SRAM is a type of static random access ...</td>\n",
       "      <td>error</td>\n",
       "    </tr>\n",
       "  </tbody>\n",
       "</table>\n",
       "</div>"
      ],
      "text/plain": [
       "                                            questions  \\\n",
       "0   \\nQ. How does the design process for a digital...   \n",
       "1   \\nQ. Why is it important to design digital sys...   \n",
       "2                           \\nQ. What is a Gray code?   \n",
       "3   \\nQ. How does a three-bit gray code counter work?   \n",
       "4   \\nQ. Is it possible to create a counter with f...   \n",
       "5   \\nQ. What is the purpose of the INIT input in ...   \n",
       "6   \\nQ. What is the mechanism for stopping and st...   \n",
       "7   \\nQ. What is the purpose of the two-bit Gray c...   \n",
       "8   \\nQ. Why is it important to specify all possib...   \n",
       "9   \\nQ. Why is it often a good idea to start by s...   \n",
       "10  \\nQ. What is the value of HOLD when S_2=0 and ...   \n",
       "11  \\nQ. How does changing the state representatio...   \n",
       "12  \\nQ. What is the main difference between stati...   \n",
       "13  \\nQ. What is the main difference between SRAM ...   \n",
       "14                                 \\nQ. What is SRAM?   \n",
       "\n",
       "                                              answers    scores  \n",
       "0   \\n\\nA. The design process for a digital FSM ty...  0.569915  \n",
       "1   \\n\\nA. Most problems in developing large digit...  0.520266  \n",
       "2   \\n\\nA Gray code is a cycle over all bit patter...  0.607294  \n",
       "3   \\n\\nA.\\n\\nA three-bit gray code counter works ...  0.538617  \n",
       "4                      \\n\\nA. No, it is not possible.  0.512374  \n",
       "5   \\n\\nA. The INIT input allows us to force the F...     error  \n",
       "6   \\n\\nA. The mechanism for stopping and starting...  0.501597  \n",
       "7   \\n\\nA. The purpose of the two-bit Gray code is...  0.626356  \n",
       "8   \\n\\nAns. It is important to specify all possib...     error  \n",
       "9   \\n\\nA. The right strategy is thus often to sta...     error  \n",
       "10                     \\n\\nA. The value of HOLD is 1.     error  \n",
       "11  \\n\\nA. Changing the state representation can i...  0.646646  \n",
       "12  \\n\\nA. Static RAMs store data in a flip-flop, ...  0.562972  \n",
       "13  \\n\\nSRAM uses active logic elements to store d...  0.518804  \n",
       "14  \\n\\nA. SRAM is a type of static random access ...     error  "
      ]
     },
     "execution_count": 15,
     "metadata": {},
     "output_type": "execute_result"
    }
   ],
   "source": [
    "df_gpt=pd.DataFrame()\n",
    "df_gpt['questions']=gpt_questions\n",
    "df_gpt['answers']=gpt_answers\n",
    "df_gpt['scores']=gpt_scores\n",
    "df_gpt.head(15)"
   ]
  },
  {
   "cell_type": "code",
   "execution_count": 17,
   "id": "19232dc0-ea13-4be6-886f-9d1e36757206",
   "metadata": {},
   "outputs": [
    {
     "data": {
      "text/plain": [
       "questions    object\n",
       "answers      object\n",
       "scores       object\n",
       "dtype: object"
      ]
     },
     "execution_count": 17,
     "metadata": {},
     "output_type": "execute_result"
    }
   ],
   "source": [
    "df_gpt.dtypes"
   ]
  },
  {
   "cell_type": "code",
   "execution_count": 19,
   "id": "077930bf-8c99-4ec2-8476-09903b1beb58",
   "metadata": {},
   "outputs": [],
   "source": [
    "df_gpt=df_gpt[df_gpt['scores']!='error']"
   ]
  },
  {
   "cell_type": "code",
   "execution_count": 20,
   "id": "d64b04f3-07dc-4976-a6e2-70b9cba216e9",
   "metadata": {},
   "outputs": [],
   "source": [
    "df_gpt['scores']=df_gpt['scores'].astype(float)"
   ]
  },
  {
   "cell_type": "code",
   "execution_count": 23,
   "id": "ed72dd9c-e0a3-4f38-8b36-180295f2b59c",
   "metadata": {},
   "outputs": [
    {
     "data": {
      "text/html": [
       "<div>\n",
       "<style scoped>\n",
       "    .dataframe tbody tr th:only-of-type {\n",
       "        vertical-align: middle;\n",
       "    }\n",
       "\n",
       "    .dataframe tbody tr th {\n",
       "        vertical-align: top;\n",
       "    }\n",
       "\n",
       "    .dataframe thead th {\n",
       "        text-align: right;\n",
       "    }\n",
       "</style>\n",
       "<table border=\"1\" class=\"dataframe\">\n",
       "  <thead>\n",
       "    <tr style=\"text-align: right;\">\n",
       "      <th></th>\n",
       "      <th>questions</th>\n",
       "      <th>answers</th>\n",
       "      <th>scores</th>\n",
       "    </tr>\n",
       "  </thead>\n",
       "  <tbody>\n",
       "    <tr>\n",
       "      <th>22</th>\n",
       "      <td>\\nQ. What is an encoder?</td>\n",
       "      <td>\\n\\nA. An encoder is a component that helps to...</td>\n",
       "      <td>0.722736</td>\n",
       "    </tr>\n",
       "    <tr>\n",
       "      <th>104</th>\n",
       "      <td>\\nQ. What is the difference between unsigned a...</td>\n",
       "      <td>\\n\\nA.\\n\\nThe difference between unsigned and ...</td>\n",
       "      <td>0.701529</td>\n",
       "    </tr>\n",
       "  </tbody>\n",
       "</table>\n",
       "</div>"
      ],
      "text/plain": [
       "                                             questions  \\\n",
       "22                            \\nQ. What is an encoder?   \n",
       "104  \\nQ. What is the difference between unsigned a...   \n",
       "\n",
       "                                               answers    scores  \n",
       "22   \\n\\nA. An encoder is a component that helps to...  0.722736  \n",
       "104  \\n\\nA.\\n\\nThe difference between unsigned and ...  0.701529  "
      ]
     },
     "execution_count": 23,
     "metadata": {},
     "output_type": "execute_result"
    }
   ],
   "source": [
    "df_gpt[df_gpt['scores']>0.7]"
   ]
  },
  {
   "cell_type": "code",
   "execution_count": 25,
   "id": "db6c1a6f-7f7c-4f0c-8571-635838cfb4f0",
   "metadata": {},
   "outputs": [
    {
     "data": {
      "text/plain": [
       "0.5429410876213819"
      ]
     },
     "execution_count": 25,
     "metadata": {},
     "output_type": "execute_result"
    }
   ],
   "source": [
    "df_gpt['scores'].mean()"
   ]
  },
  {
   "cell_type": "code",
   "execution_count": 24,
   "id": "4adf6920-888f-43e2-ae2c-7450ebb74802",
   "metadata": {},
   "outputs": [],
   "source": [
    "df_gpt.to_csv('gpt_scoring.csv')"
   ]
  },
  {
   "cell_type": "markdown",
   "id": "f52aa417-c6b7-4e72-9ec7-d710681165a6",
   "metadata": {},
   "source": [
    "# Dataframe cleaning"
   ]
  },
  {
   "cell_type": "code",
   "execution_count": 7,
   "id": "7ce14406-3555-43f6-971e-1021a12c1947",
   "metadata": {},
   "outputs": [
    {
     "ename": "NameError",
     "evalue": "name 'questions' is not defined",
     "output_type": "error",
     "traceback": [
      "\u001b[0;31m---------------------------------------------------------------------------\u001b[0m",
      "\u001b[0;31mNameError\u001b[0m                                 Traceback (most recent call last)",
      "Input \u001b[0;32mIn [7]\u001b[0m, in \u001b[0;36m<cell line: 2>\u001b[0;34m()\u001b[0m\n\u001b[1;32m      1\u001b[0m df\u001b[38;5;241m=\u001b[39mpd\u001b[38;5;241m.\u001b[39mDataFrame()\n\u001b[0;32m----> 2\u001b[0m df[\u001b[38;5;124m'\u001b[39m\u001b[38;5;124mquestions\u001b[39m\u001b[38;5;124m'\u001b[39m]\u001b[38;5;241m=\u001b[39m\u001b[43mquestions\u001b[49m\n\u001b[1;32m      3\u001b[0m df[\u001b[38;5;124m'\u001b[39m\u001b[38;5;124manswers\u001b[39m\u001b[38;5;124m'\u001b[39m]\u001b[38;5;241m=\u001b[39manswers\n\u001b[1;32m      4\u001b[0m df[\u001b[38;5;124m'\u001b[39m\u001b[38;5;124mscores\u001b[39m\u001b[38;5;124m'\u001b[39m]\u001b[38;5;241m=\u001b[39mscores_dup\n",
      "\u001b[0;31mNameError\u001b[0m: name 'questions' is not defined"
     ]
    }
   ],
   "source": [
    "\n",
    "df=pd.DataFrame()\n",
    "df['questions']=questions\n",
    "df['answers']=answers\n",
    "df['scores']=scores_dup\n",
    "df.head(15)"
   ]
  },
  {
   "cell_type": "code",
   "execution_count": 36,
   "id": "e4c39e95-6841-42dc-aefe-253c666b114c",
   "metadata": {},
   "outputs": [],
   "source": [
    "df.to_csv('bespin_scores.csv')"
   ]
  },
  {
   "cell_type": "code",
   "execution_count": 23,
   "id": "500937aa-1e67-44ef-b0c8-3807ac3051db",
   "metadata": {},
   "outputs": [],
   "source": [
    "df=pd.read_csv('bespin_scores.csv')"
   ]
  },
  {
   "cell_type": "code",
   "execution_count": 42,
   "id": "367d92cc-ebaa-4c77-b80a-c4b3245e6603",
   "metadata": {},
   "outputs": [
    {
     "data": {
      "text/plain": [
       "(1816, 4)"
      ]
     },
     "execution_count": 42,
     "metadata": {},
     "output_type": "execute_result"
    }
   ],
   "source": [
    "df.shape"
   ]
  },
  {
   "cell_type": "code",
   "execution_count": 35,
   "id": "4c19ecdc-cf2e-4184-9a96-3c90606afd55",
   "metadata": {},
   "outputs": [],
   "source": [
    "df=df[df['scores']!='error']"
   ]
  },
  {
   "cell_type": "code",
   "execution_count": 40,
   "id": "81970985-2b5a-4727-82d3-1736f1531cfe",
   "metadata": {},
   "outputs": [
    {
     "name": "stderr",
     "output_type": "stream",
     "text": [
      "/var/folders/lp/56n2ggw57532_1pr46qlnjg40000gn/T/ipykernel_935/314042869.py:1: SettingWithCopyWarning: \n",
      "A value is trying to be set on a copy of a slice from a DataFrame.\n",
      "Try using .loc[row_indexer,col_indexer] = value instead\n",
      "\n",
      "See the caveats in the documentation: https://pandas.pydata.org/pandas-docs/stable/user_guide/indexing.html#returning-a-view-versus-a-copy\n",
      "  df['scores']=df['scores'].astype(float)\n"
     ]
    }
   ],
   "source": [
    "df['scores']=df['scores'].astype(float)"
   ]
  },
  {
   "cell_type": "code",
   "execution_count": 43,
   "id": "3c58b1d3-8e23-41fa-bd8c-29ad68be0cbf",
   "metadata": {},
   "outputs": [
    {
     "data": {
      "text/html": [
       "<div>\n",
       "<style scoped>\n",
       "    .dataframe tbody tr th:only-of-type {\n",
       "        vertical-align: middle;\n",
       "    }\n",
       "\n",
       "    .dataframe tbody tr th {\n",
       "        vertical-align: top;\n",
       "    }\n",
       "\n",
       "    .dataframe thead th {\n",
       "        text-align: right;\n",
       "    }\n",
       "</style>\n",
       "<table border=\"1\" class=\"dataframe\">\n",
       "  <thead>\n",
       "    <tr style=\"text-align: right;\">\n",
       "      <th></th>\n",
       "      <th>Unnamed: 0</th>\n",
       "      <th>questions</th>\n",
       "      <th>answers</th>\n",
       "      <th>scores</th>\n",
       "    </tr>\n",
       "  </thead>\n",
       "  <tbody>\n",
       "    <tr>\n",
       "      <th>76</th>\n",
       "      <td>76</td>\n",
       "      <td>what should we do if we want to have an overflow?</td>\n",
       "      <td>{ N - bit } unsigned representation</td>\n",
       "      <td>0.706757</td>\n",
       "    </tr>\n",
       "    <tr>\n",
       "      <th>118</th>\n",
       "      <td>118</td>\n",
       "      <td>what iseqnarray*?</td>\n",
       "      <td>iseqnarray *? [SEP] [PAD] [PAD] [PAD] [PAD] [P...</td>\n",
       "      <td>0.813252</td>\n",
       "    </tr>\n",
       "    <tr>\n",
       "      <th>135</th>\n",
       "      <td>135</td>\n",
       "      <td>which function has the same number of operands...</td>\n",
       "      <td>1</td>\n",
       "      <td>0.718094</td>\n",
       "    </tr>\n",
       "    <tr>\n",
       "      <th>142</th>\n",
       "      <td>142</td>\n",
       "      <td>what is special about the Boolean logic functi...</td>\n",
       "      <td>{ exclusive OR } function</td>\n",
       "      <td>0.718233</td>\n",
       "    </tr>\n",
       "    <tr>\n",
       "      <th>151</th>\n",
       "      <td>151</td>\n",
       "      <td>what should we do if we want to add a certain ...</td>\n",
       "      <td>1 - bit } addition. The A _ 1B _ 1 term repres...</td>\n",
       "      <td>0.743640</td>\n",
       "    </tr>\n",
       "    <tr>\n",
       "      <th>...</th>\n",
       "      <td>...</td>\n",
       "      <td>...</td>\n",
       "      <td>...</td>\n",
       "      <td>...</td>\n",
       "    </tr>\n",
       "    <tr>\n",
       "      <th>1728</th>\n",
       "      <td>1728</td>\n",
       "      <td>which isn't right?</td>\n",
       "      <td>right? [SEP] [PAD] [PAD] [PAD] [PAD] [PAD] [PA...</td>\n",
       "      <td>0.774615</td>\n",
       "    </tr>\n",
       "    <tr>\n",
       "      <th>1733</th>\n",
       "      <td>1733</td>\n",
       "      <td>which isn't right?</td>\n",
       "      <td>[SEP] [PAD] [PAD] [PAD] [PAD] [PAD] [PAD] [PAD...</td>\n",
       "      <td>0.757812</td>\n",
       "    </tr>\n",
       "    <tr>\n",
       "      <th>1748</th>\n",
       "      <td>1748</td>\n",
       "      <td>what is the first instruction in the code below?</td>\n",
       "      <td>Procedure calls are supported through { call }...</td>\n",
       "      <td>0.709099</td>\n",
       "    </tr>\n",
       "    <tr>\n",
       "      <th>1761</th>\n",
       "      <td>1761</td>\n",
       "      <td>what is add3?</td>\n",
       "      <td>add3? [SEP] [PAD] [PAD] [PAD] [PAD] [PAD] [PAD...</td>\n",
       "      <td>0.791555</td>\n",
       "    </tr>\n",
       "    <tr>\n",
       "      <th>1763</th>\n",
       "      <td>1763</td>\n",
       "      <td>what should we do if we want to restore the va...</td>\n",
       "      <td>R1</td>\n",
       "      <td>0.770980</td>\n",
       "    </tr>\n",
       "  </tbody>\n",
       "</table>\n",
       "<p>75 rows × 4 columns</p>\n",
       "</div>"
      ],
      "text/plain": [
       "      Unnamed: 0                                          questions  \\\n",
       "76            76  what should we do if we want to have an overflow?   \n",
       "118          118                                  what iseqnarray*?   \n",
       "135          135  which function has the same number of operands...   \n",
       "142          142  what is special about the Boolean logic functi...   \n",
       "151          151  what should we do if we want to add a certain ...   \n",
       "...          ...                                                ...   \n",
       "1728        1728                                 which isn't right?   \n",
       "1733        1733                                 which isn't right?   \n",
       "1748        1748   what is the first instruction in the code below?   \n",
       "1761        1761                                      what is add3?   \n",
       "1763        1763  what should we do if we want to restore the va...   \n",
       "\n",
       "                                                answers    scores  \n",
       "76                  { N - bit } unsigned representation  0.706757  \n",
       "118   iseqnarray *? [SEP] [PAD] [PAD] [PAD] [PAD] [P...  0.813252  \n",
       "135                                                   1  0.718094  \n",
       "142                           { exclusive OR } function  0.718233  \n",
       "151   1 - bit } addition. The A _ 1B _ 1 term repres...  0.743640  \n",
       "...                                                 ...       ...  \n",
       "1728  right? [SEP] [PAD] [PAD] [PAD] [PAD] [PAD] [PA...  0.774615  \n",
       "1733  [SEP] [PAD] [PAD] [PAD] [PAD] [PAD] [PAD] [PAD...  0.757812  \n",
       "1748  Procedure calls are supported through { call }...  0.709099  \n",
       "1761  add3? [SEP] [PAD] [PAD] [PAD] [PAD] [PAD] [PAD...  0.791555  \n",
       "1763                                                 R1  0.770980  \n",
       "\n",
       "[75 rows x 4 columns]"
      ]
     },
     "execution_count": 43,
     "metadata": {},
     "output_type": "execute_result"
    }
   ],
   "source": [
    "df[df['scores']>0.7]"
   ]
  }
 ],
 "metadata": {
  "kernelspec": {
   "display_name": "Python 3 (ipykernel)",
   "language": "python",
   "name": "python3"
  },
  "language_info": {
   "codemirror_mode": {
    "name": "ipython",
    "version": 3
   },
   "file_extension": ".py",
   "mimetype": "text/x-python",
   "name": "python",
   "nbconvert_exporter": "python",
   "pygments_lexer": "ipython3",
   "version": "3.9.12"
  }
 },
 "nbformat": 4,
 "nbformat_minor": 5
}
