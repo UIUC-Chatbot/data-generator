{
 "cells": [
  {
   "cell_type": "markdown",
   "id": "939973a3-8d52-42e2-b3d2-2d0fc07f7e4a",
   "metadata": {},
   "source": [
    "# Dialogue RPT"
   ]
  },
  {
   "cell_type": "code",
   "execution_count": 28,
   "id": "cf388d53-c0b7-49cd-a6b2-ec6dbcea1366",
   "metadata": {},
   "outputs": [],
   "source": [
    "import torch"
   ]
  },
  {
   "cell_type": "code",
   "execution_count": 2,
   "id": "4807ca13-1daf-4ebc-99d8-b3bf5b8abc4e",
   "metadata": {},
   "outputs": [],
   "source": [
    "from transformers import AutoTokenizer, AutoModelForSequenceClassification"
   ]
  },
  {
   "cell_type": "code",
   "execution_count": 3,
   "id": "a2cd87b2-a54f-44d7-97f5-73a26c94f6bc",
   "metadata": {},
   "outputs": [],
   "source": [
    "import json\n",
    "import pandas as pd"
   ]
  },
  {
   "cell_type": "code",
   "execution_count": 4,
   "id": "67f723f3-0851-48ec-9dc2-73b964b5d0d6",
   "metadata": {},
   "outputs": [],
   "source": [
    "model_card = \"microsoft/DialogRPT-updown\"   \n",
    "tokenizer = AutoTokenizer.from_pretrained(model_card)\n",
    "model = AutoModelForSequenceClassification.from_pretrained(model_card)\n",
    "\n",
    "def score(cxt, hyp):\n",
    "  model_input = tokenizer.encode(cxt + \"<|endoftext|>\" + hyp, return_tensors=\"pt\")\n",
    "  result = model(model_input, return_dict=True)\n",
    "  return torch.sigmoid(result.logits)"
   ]
  },
  {
   "cell_type": "markdown",
   "id": "4ad5e1e9-5997-4a06-af52-375670817a14",
   "metadata": {},
   "source": [
    "# GPT 3 json file scoring"
   ]
  },
  {
   "cell_type": "code",
   "execution_count": 13,
   "id": "c9d15819-6067-4d0a-bea3-992ba34a3ea5",
   "metadata": {},
   "outputs": [],
   "source": [
    "f_gpt= open('../data-generator/gpt-3/GPT-3_section_level.json')\n",
    "gpt_3=json.load(f_gpt)"
   ]
  },
  {
   "cell_type": "code",
   "execution_count": 14,
   "id": "218c18cb-f580-4a92-9ce4-3f714ab11be7",
   "metadata": {},
   "outputs": [],
   "source": [
    "gpt_questions=[]\n",
    "gpt_answers=[]\n",
    "gpt_scores=[]"
   ]
  },
  {
   "cell_type": "code",
   "execution_count": 15,
   "id": "314eb4d6-edb8-4716-8d14-a941bc2893ea",
   "metadata": {},
   "outputs": [],
   "source": [
    "from tqdm.auto import tqdm"
   ]
  },
  {
   "cell_type": "code",
   "execution_count": 16,
   "id": "b3a18d7a-41ee-4038-8cc1-470eac624dc6",
   "metadata": {},
   "outputs": [
    {
     "data": {
      "application/vnd.jupyter.widget-view+json": {
       "model_id": "c7b0df1272c74c32b507fd33a9ebd91a",
       "version_major": 2,
       "version_minor": 0
      },
      "text/plain": [
       "  0%|          | 0/144 [00:00<?, ?it/s]"
      ]
     },
     "metadata": {},
     "output_type": "display_data"
    }
   ],
   "source": [
    "length_gpt=len(gpt_3)\n",
    "length_gpt\n",
    "for i in tqdm(range(length_gpt)):\n",
    "    context = gpt_3[i]['positive_ctxs']['text']\n",
    "    #print(context)\n",
    "    answer= gpt_3[i]['answers']\n",
    "    #print(answer)\n",
    "    try:\n",
    "        current_score= score(context,answer).item()\n",
    "    except:\n",
    "        current_score='error'\n",
    "    gpt_scores.append(current_score)\n",
    "    gpt_questions.append(gpt_3[i]['questions'])\n",
    "    gpt_answers.append(answer)"
   ]
  },
  {
   "cell_type": "code",
   "execution_count": 17,
   "id": "3f81e181-65a6-47b5-9c16-0c131f538650",
   "metadata": {},
   "outputs": [
    {
     "data": {
      "text/html": [
       "<div>\n",
       "<style scoped>\n",
       "    .dataframe tbody tr th:only-of-type {\n",
       "        vertical-align: middle;\n",
       "    }\n",
       "\n",
       "    .dataframe tbody tr th {\n",
       "        vertical-align: top;\n",
       "    }\n",
       "\n",
       "    .dataframe thead th {\n",
       "        text-align: right;\n",
       "    }\n",
       "</style>\n",
       "<table border=\"1\" class=\"dataframe\">\n",
       "  <thead>\n",
       "    <tr style=\"text-align: right;\">\n",
       "      <th></th>\n",
       "      <th>questions</th>\n",
       "      <th>answers</th>\n",
       "      <th>scores</th>\n",
       "    </tr>\n",
       "  </thead>\n",
       "  <tbody>\n",
       "    <tr>\n",
       "      <th>0</th>\n",
       "      <td>\\nQ. How does the design process for a digital...</td>\n",
       "      <td>\\n\\nA. The design process for a digital FSM ty...</td>\n",
       "      <td>0.569915</td>\n",
       "    </tr>\n",
       "    <tr>\n",
       "      <th>1</th>\n",
       "      <td>\\nQ. Why is it important to design digital sys...</td>\n",
       "      <td>\\n\\nA. Most problems in developing large digit...</td>\n",
       "      <td>0.520266</td>\n",
       "    </tr>\n",
       "    <tr>\n",
       "      <th>2</th>\n",
       "      <td>\\nQ. What is a Gray code?</td>\n",
       "      <td>\\n\\nA Gray code is a cycle over all bit patter...</td>\n",
       "      <td>0.607294</td>\n",
       "    </tr>\n",
       "    <tr>\n",
       "      <th>3</th>\n",
       "      <td>\\nQ. How does a three-bit gray code counter work?</td>\n",
       "      <td>\\n\\nA.\\n\\nA three-bit gray code counter works ...</td>\n",
       "      <td>0.538617</td>\n",
       "    </tr>\n",
       "    <tr>\n",
       "      <th>4</th>\n",
       "      <td>\\nQ. Is it possible to create a counter with f...</td>\n",
       "      <td>\\n\\nA. No, it is not possible.</td>\n",
       "      <td>0.512374</td>\n",
       "    </tr>\n",
       "    <tr>\n",
       "      <th>5</th>\n",
       "      <td>\\nQ. What is the purpose of the INIT input in ...</td>\n",
       "      <td>\\n\\nA. The INIT input allows us to force the F...</td>\n",
       "      <td>error</td>\n",
       "    </tr>\n",
       "    <tr>\n",
       "      <th>6</th>\n",
       "      <td>\\nQ. What is the mechanism for stopping and st...</td>\n",
       "      <td>\\n\\nA. The mechanism for stopping and starting...</td>\n",
       "      <td>0.501597</td>\n",
       "    </tr>\n",
       "    <tr>\n",
       "      <th>7</th>\n",
       "      <td>\\nQ. What is the purpose of the two-bit Gray c...</td>\n",
       "      <td>\\n\\nA. The purpose of the two-bit Gray code is...</td>\n",
       "      <td>0.626356</td>\n",
       "    </tr>\n",
       "    <tr>\n",
       "      <th>8</th>\n",
       "      <td>\\nQ. Why is it important to specify all possib...</td>\n",
       "      <td>\\n\\nAns. It is important to specify all possib...</td>\n",
       "      <td>error</td>\n",
       "    </tr>\n",
       "    <tr>\n",
       "      <th>9</th>\n",
       "      <td>\\nQ. Why is it often a good idea to start by s...</td>\n",
       "      <td>\\n\\nA. The right strategy is thus often to sta...</td>\n",
       "      <td>error</td>\n",
       "    </tr>\n",
       "    <tr>\n",
       "      <th>10</th>\n",
       "      <td>\\nQ. What is the value of HOLD when S_2=0 and ...</td>\n",
       "      <td>\\n\\nA. The value of HOLD is 1.</td>\n",
       "      <td>error</td>\n",
       "    </tr>\n",
       "    <tr>\n",
       "      <th>11</th>\n",
       "      <td>\\nQ. How does changing the state representatio...</td>\n",
       "      <td>\\n\\nA. Changing the state representation can i...</td>\n",
       "      <td>0.646646</td>\n",
       "    </tr>\n",
       "    <tr>\n",
       "      <th>12</th>\n",
       "      <td>\\nQ. What is the main difference between stati...</td>\n",
       "      <td>\\n\\nA. Static RAMs store data in a flip-flop, ...</td>\n",
       "      <td>0.562972</td>\n",
       "    </tr>\n",
       "    <tr>\n",
       "      <th>13</th>\n",
       "      <td>\\nQ. What is the main difference between SRAM ...</td>\n",
       "      <td>\\n\\nSRAM uses active logic elements to store d...</td>\n",
       "      <td>0.518804</td>\n",
       "    </tr>\n",
       "    <tr>\n",
       "      <th>14</th>\n",
       "      <td>\\nQ. What is SRAM?</td>\n",
       "      <td>\\n\\nA. SRAM is a type of static random access ...</td>\n",
       "      <td>error</td>\n",
       "    </tr>\n",
       "  </tbody>\n",
       "</table>\n",
       "</div>"
      ],
      "text/plain": [
       "                                            questions  \\\n",
       "0   \\nQ. How does the design process for a digital...   \n",
       "1   \\nQ. Why is it important to design digital sys...   \n",
       "2                           \\nQ. What is a Gray code?   \n",
       "3   \\nQ. How does a three-bit gray code counter work?   \n",
       "4   \\nQ. Is it possible to create a counter with f...   \n",
       "5   \\nQ. What is the purpose of the INIT input in ...   \n",
       "6   \\nQ. What is the mechanism for stopping and st...   \n",
       "7   \\nQ. What is the purpose of the two-bit Gray c...   \n",
       "8   \\nQ. Why is it important to specify all possib...   \n",
       "9   \\nQ. Why is it often a good idea to start by s...   \n",
       "10  \\nQ. What is the value of HOLD when S_2=0 and ...   \n",
       "11  \\nQ. How does changing the state representatio...   \n",
       "12  \\nQ. What is the main difference between stati...   \n",
       "13  \\nQ. What is the main difference between SRAM ...   \n",
       "14                                 \\nQ. What is SRAM?   \n",
       "\n",
       "                                              answers    scores  \n",
       "0   \\n\\nA. The design process for a digital FSM ty...  0.569915  \n",
       "1   \\n\\nA. Most problems in developing large digit...  0.520266  \n",
       "2   \\n\\nA Gray code is a cycle over all bit patter...  0.607294  \n",
       "3   \\n\\nA.\\n\\nA three-bit gray code counter works ...  0.538617  \n",
       "4                      \\n\\nA. No, it is not possible.  0.512374  \n",
       "5   \\n\\nA. The INIT input allows us to force the F...     error  \n",
       "6   \\n\\nA. The mechanism for stopping and starting...  0.501597  \n",
       "7   \\n\\nA. The purpose of the two-bit Gray code is...  0.626356  \n",
       "8   \\n\\nAns. It is important to specify all possib...     error  \n",
       "9   \\n\\nA. The right strategy is thus often to sta...     error  \n",
       "10                     \\n\\nA. The value of HOLD is 1.     error  \n",
       "11  \\n\\nA. Changing the state representation can i...  0.646646  \n",
       "12  \\n\\nA. Static RAMs store data in a flip-flop, ...  0.562972  \n",
       "13  \\n\\nSRAM uses active logic elements to store d...  0.518804  \n",
       "14  \\n\\nA. SRAM is a type of static random access ...     error  "
      ]
     },
     "execution_count": 17,
     "metadata": {},
     "output_type": "execute_result"
    }
   ],
   "source": [
    "df_gpt=pd.DataFrame()\n",
    "df_gpt['questions']=gpt_questions\n",
    "df_gpt['answers']=gpt_answers\n",
    "df_gpt['scores']=gpt_scores\n",
    "df_gpt.head(15)"
   ]
  },
  {
   "cell_type": "code",
   "execution_count": 18,
   "id": "19232dc0-ea13-4be6-886f-9d1e36757206",
   "metadata": {},
   "outputs": [
    {
     "data": {
      "text/plain": [
       "questions    object\n",
       "answers      object\n",
       "scores       object\n",
       "dtype: object"
      ]
     },
     "execution_count": 18,
     "metadata": {},
     "output_type": "execute_result"
    }
   ],
   "source": [
    "df_gpt.dtypes"
   ]
  },
  {
   "cell_type": "code",
   "execution_count": 19,
   "id": "077930bf-8c99-4ec2-8476-09903b1beb58",
   "metadata": {},
   "outputs": [],
   "source": [
    "df_gpt=df_gpt[df_gpt['scores']!='error']"
   ]
  },
  {
   "cell_type": "code",
   "execution_count": 20,
   "id": "d64b04f3-07dc-4976-a6e2-70b9cba216e9",
   "metadata": {},
   "outputs": [],
   "source": [
    "df_gpt['scores']=df_gpt['scores'].astype(float)"
   ]
  },
  {
   "cell_type": "code",
   "execution_count": 21,
   "id": "ed72dd9c-e0a3-4f38-8b36-180295f2b59c",
   "metadata": {},
   "outputs": [
    {
     "data": {
      "text/html": [
       "<div>\n",
       "<style scoped>\n",
       "    .dataframe tbody tr th:only-of-type {\n",
       "        vertical-align: middle;\n",
       "    }\n",
       "\n",
       "    .dataframe tbody tr th {\n",
       "        vertical-align: top;\n",
       "    }\n",
       "\n",
       "    .dataframe thead th {\n",
       "        text-align: right;\n",
       "    }\n",
       "</style>\n",
       "<table border=\"1\" class=\"dataframe\">\n",
       "  <thead>\n",
       "    <tr style=\"text-align: right;\">\n",
       "      <th></th>\n",
       "      <th>questions</th>\n",
       "      <th>answers</th>\n",
       "      <th>scores</th>\n",
       "    </tr>\n",
       "  </thead>\n",
       "  <tbody>\n",
       "    <tr>\n",
       "      <th>22</th>\n",
       "      <td>\\nQ. What is an encoder?</td>\n",
       "      <td>\\n\\nA. An encoder is a component that helps to...</td>\n",
       "      <td>0.722736</td>\n",
       "    </tr>\n",
       "    <tr>\n",
       "      <th>104</th>\n",
       "      <td>\\nQ. What is the difference between unsigned a...</td>\n",
       "      <td>\\n\\nA.\\n\\nThe difference between unsigned and ...</td>\n",
       "      <td>0.701529</td>\n",
       "    </tr>\n",
       "  </tbody>\n",
       "</table>\n",
       "</div>"
      ],
      "text/plain": [
       "                                             questions  \\\n",
       "22                            \\nQ. What is an encoder?   \n",
       "104  \\nQ. What is the difference between unsigned a...   \n",
       "\n",
       "                                               answers    scores  \n",
       "22   \\n\\nA. An encoder is a component that helps to...  0.722736  \n",
       "104  \\n\\nA.\\n\\nThe difference between unsigned and ...  0.701529  "
      ]
     },
     "execution_count": 21,
     "metadata": {},
     "output_type": "execute_result"
    }
   ],
   "source": [
    "df_gpt[df_gpt['scores']>0.7]"
   ]
  },
  {
   "cell_type": "code",
   "execution_count": 22,
   "id": "db6c1a6f-7f7c-4f0c-8571-635838cfb4f0",
   "metadata": {},
   "outputs": [
    {
     "data": {
      "text/plain": [
       "0.5429410876213819"
      ]
     },
     "execution_count": 22,
     "metadata": {},
     "output_type": "execute_result"
    }
   ],
   "source": [
    "df_gpt['scores'].mean()"
   ]
  },
  {
   "cell_type": "code",
   "execution_count": 23,
   "id": "4adf6920-888f-43e2-ae2c-7450ebb74802",
   "metadata": {},
   "outputs": [],
   "source": [
    "df_gpt.to_csv('gpt_scoring.csv')"
   ]
  }
 ],
 "metadata": {
  "kernelspec": {
   "display_name": "Python 3 (ipykernel)",
   "language": "python",
   "name": "python3"
  },
  "language_info": {
   "codemirror_mode": {
    "name": "ipython",
    "version": 3
   },
   "file_extension": ".py",
   "mimetype": "text/x-python",
   "name": "python",
   "nbconvert_exporter": "python",
   "pygments_lexer": "ipython3",
   "version": "3.9.12"
  }
 },
 "nbformat": 4,
 "nbformat_minor": 5
}
