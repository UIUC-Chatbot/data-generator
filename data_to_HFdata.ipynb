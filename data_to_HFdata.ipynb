{
 "cells": [
  {
   "cell_type": "code",
   "execution_count": 31,
   "metadata": {},
   "outputs": [],
   "source": [
    "import json\n",
    "import jsonlines"
   ]
  },
  {
   "cell_type": "code",
   "execution_count": 32,
   "metadata": {},
   "outputs": [],
   "source": [
    "def new_data(file):\n",
    "    temp_list = []\n",
    "    for row in file:\n",
    "        title = row['positive_ctxs']['title']\n",
    "        text = row['positive_ctxs']['text']\n",
    "        ques = row['questions']\n",
    "        ans = row['answers']\n",
    "        new_row = {\"text\": 'Title: %s \\n Text: %s \\n Question: %s \\n Answer: %s' % (title, text, ques, ans)} \n",
    "        temp_list.append(new_row)\n",
    "    return temp_list"
   ]
  },
  {
   "cell_type": "code",
   "execution_count": 33,
   "metadata": {},
   "outputs": [],
   "source": [
    "f = open('fine_tuned_data.json')\n",
    "ftd = json.load(f)\n",
    "\n",
    "f = open('end2end.json')\n",
    "end = json.load(f)\n",
    "\n",
    "f = open('GPT-3_paragraphs.json')\n",
    "paragraphs = json.load(f)\n",
    "\n",
    "f = open('GPT-3.json')\n",
    "gpt = json.load(f)"
   ]
  },
  {
   "cell_type": "code",
   "execution_count": 34,
   "metadata": {},
   "outputs": [],
   "source": [
    "all_data = {}"
   ]
  },
  {
   "cell_type": "code",
   "execution_count": 35,
   "metadata": {},
   "outputs": [],
   "source": [
    "gpt_list = new_data(gpt)\n",
    "paragraphs_list = new_data(paragraphs)\n",
    "end_list = new_data(end)\n",
    "ftd_list = new_data(ftd)\n",
    "all_data['gpt-3'] = gpt_list\n",
    "all_data['gpt-3_paragraphs'] = paragraphs_list\n",
    "all_data['end2end'] = end_list\n",
    "all_data['fine_tuned_data'] = ftd_list"
   ]
  },
  {
   "cell_type": "code",
   "execution_count": 38,
   "metadata": {},
   "outputs": [],
   "source": [
    "with jsonlines.open('all_data.jl', mode='w') as writer:\n",
    "    writer.write(all_data)"
   ]
  },
  {
   "cell_type": "code",
   "execution_count": null,
   "metadata": {},
   "outputs": [],
   "source": []
  }
 ],
 "metadata": {
  "kernelspec": {
   "display_name": "Python 3.8.11 ('base')",
   "language": "python",
   "name": "python3"
  },
  "language_info": {
   "codemirror_mode": {
    "name": "ipython",
    "version": 3
   },
   "file_extension": ".py",
   "mimetype": "text/x-python",
   "name": "python",
   "nbconvert_exporter": "python",
   "pygments_lexer": "ipython3",
   "version": "3.8.11"
  },
  "orig_nbformat": 4,
  "vscode": {
   "interpreter": {
    "hash": "28596858067060ee176f7bab50a17c769bfd8a96306468e7ae0695529617abaf"
   }
  }
 },
 "nbformat": 4,
 "nbformat_minor": 2
}
